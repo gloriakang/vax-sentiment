{
 "cells": [
  {
   "cell_type": "markdown",
   "metadata": {
    "collapsed": true
   },
   "source": [
    "## Directed multi-graph (.gml)\n",
    "\n",
    "1. Read .gml file\n"
   ]
  },
  {
   "cell_type": "code",
   "execution_count": 8,
   "metadata": {
    "collapsed": false,
    "scrolled": true
   },
   "outputs": [],
   "source": [
    "import networkx as nx\n",
    "import numpy as np\n",
    "import pandas as pd\n",
    "import matplotlib.pyplot as plt\n",
    "%matplotlib inline\n",
    "from glob import glob\n",
    "\n",
    "gml_files = glob('../output/network/*/*.gml')\n",
    "\n",
    "# graph = nx.read_gml('../data/graph/article1.gml')"
   ]
  },
  {
   "cell_type": "code",
   "execution_count": 9,
   "metadata": {
    "collapsed": false,
    "scrolled": true
   },
   "outputs": [],
   "source": [
    "# print(len(gml_files))\n",
    "# gml_files\n",
    "# gml_files[0]"
   ]
  },
  {
   "cell_type": "code",
   "execution_count": 12,
   "metadata": {
    "collapsed": true
   },
   "outputs": [],
   "source": [
    "def calculate_graph_inf(graph):\n",
    "    graph.name = gml_graph\n",
    "    info = nx.info(graph)\n",
    "    print info\n",
    "    # plot spring layout\n",
    "    # plt.figure(figsize=(11,11))\n",
    "    # nx.draw_spring(graph, arrows=True, with_labels=True)"
   ]
  },
  {
   "cell_type": "code",
   "execution_count": 14,
   "metadata": {
    "collapsed": false,
    "scrolled": true
   },
   "outputs": [
    {
     "name": "stdout",
     "output_type": "stream",
     "text": [
      "********************************************************************************\n",
      "../output/network/positive/article2.gml\n",
      "Name: ../output/network/positive/article2.gml\n",
      "Type: MultiDiGraph\n",
      "Number of nodes: 28\n",
      "Number of edges: 23\n",
      "Average in degree:   0.8214\n",
      "Average out degree:   0.8214\n"
     ]
    }
   ],
   "source": [
    "for graph_num, gml_graph in enumerate(gml_files):\n",
    "    graph = nx.read_gml(gml_graph)\n",
    "    print('*' * 80)\n",
    "    print(gml_graph)\n",
    "    calculate_graph_inf(graph)\n",
    "    if graph_num == 0:\n",
    "        break"
   ]
  },
  {
   "cell_type": "code",
   "execution_count": 16,
   "metadata": {
    "collapsed": false
   },
   "outputs": [
    {
     "data": {
      "text/plain": [
       "'../output/network/positive/article2.gml'"
      ]
     },
     "execution_count": 16,
     "metadata": {},
     "output_type": "execute_result"
    }
   ],
   "source": [
    "gml_graph"
   ]
  },
  {
   "cell_type": "code",
   "execution_count": null,
   "metadata": {
    "collapsed": false
   },
   "outputs": [],
   "source": [
    "nx.average_degree_connectivity(graph)"
   ]
  },
  {
   "cell_type": "code",
   "execution_count": null,
   "metadata": {
    "collapsed": false
   },
   "outputs": [],
   "source": [
    "a = nx.betweenness_centrality(graph)\n",
    "dfIn=pd.DataFrame.from_dict(a,orient='index')\n",
    "dfIn.columns = ['betweenness centrality']\n",
    "dfIn = dfIn.sort_values(by=['betweenness centrality'])\n",
    "dfIn"
   ]
  },
  {
   "cell_type": "code",
   "execution_count": null,
   "metadata": {
    "collapsed": false
   },
   "outputs": [],
   "source": [
    "# average degree, average path, diameter, density\n",
    "\n",
    "nx.density(graph)\n",
    "\n",
    "# degree histogram: returns a list of frequencies of degrees\n",
    "nx.degree_histogram(graph)\n"
   ]
  },
  {
   "cell_type": "code",
   "execution_count": null,
   "metadata": {
    "collapsed": false
   },
   "outputs": [],
   "source": [
    "### Centrality ###\n",
    "\n",
    "# degree centrality\n",
    "nx.degree_centrality(graph).values()\n",
    "\n",
    "# betweenness centrality\n",
    "a = nx.betweenness_centrality(graph)\n",
    "dfIn=pd.DataFrame.from_dict(a,orient='index')\n",
    "dfIn.columns = ['betweenness centrality']\n",
    "dfIn = dfIn.sort_values(by=['betweenness centrality'])\n",
    "dfIn\n",
    "\n",
    "# closeness centrality\n",
    "nx.closeness_centrality(graph).values()\n",
    "\n",
    "# current-flow betweenness centrality (graph must be connected; run for largest component)\n",
    "# nx.current_flow_betweenness_centrality(graph)\n",
    "\n",
    "# eigenvector centrality"
   ]
  },
  {
   "cell_type": "code",
   "execution_count": null,
   "metadata": {
    "collapsed": true
   },
   "outputs": [],
   "source": [
    "### Assortativity ###\n",
    "\n",
    "# degree assortativity coefficient, average neighbor degree, average degree connectivity (k nearest neighbors)\n",
    "nx.degree_assortativity_coefficient(graph)\n"
   ]
  },
  {
   "cell_type": "code",
   "execution_count": null,
   "metadata": {
    "collapsed": false,
    "scrolled": true
   },
   "outputs": [],
   "source": [
    "### Components and connectivity ###\n",
    "\n",
    "#nx.edge_connectivity(graph)\n",
    "#nx.node_connectivity(graph)\n",
    "\n",
    "#avg_node_con = nx.average_node_connectivity(graph)\n",
    "nx.average_node_connectivity(graph)\n",
    "\n",
    "\n",
    "\n",
    "### Other things###\n",
    "# clustering coefficient (cannot be multigraph)\n",
    "# nx.average_clustering(graph)\n"
   ]
  },
  {
   "cell_type": "code",
   "execution_count": null,
   "metadata": {
    "collapsed": false
   },
   "outputs": [],
   "source": []
  },
  {
   "cell_type": "code",
   "execution_count": null,
   "metadata": {
    "collapsed": false
   },
   "outputs": [],
   "source": [
    "print info\n",
    "print \"Density =\"\n",
    "print \"Degree centrality =\"\n",
    "print \"Closeness centrality =\"\n",
    "print \"Betweenness centrality =\"\n",
    "print \"Degree assortativity coefficient =\"\n",
    "print \"Degree pearson correlation coefficient =\"\n",
    "print \"Average node connectivity =\""
   ]
  }
 ],
 "metadata": {
  "kernelspec": {
   "display_name": "Python 2",
   "language": "python",
   "name": "python2"
  },
  "language_info": {
   "codemirror_mode": {
    "name": "ipython",
    "version": 2
   },
   "file_extension": ".py",
   "mimetype": "text/x-python",
   "name": "python",
   "nbconvert_exporter": "python",
   "pygments_lexer": "ipython2",
   "version": "2.7.11"
  }
 },
 "nbformat": 4,
 "nbformat_minor": 0
}
