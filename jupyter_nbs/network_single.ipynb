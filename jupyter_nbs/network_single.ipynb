{
 "cells": [
  {
   "cell_type": "markdown",
   "metadata": {
    "collapsed": true
   },
   "source": [
    "# single network graph calculations"
   ]
  },
  {
   "cell_type": "code",
   "execution_count": 4,
   "metadata": {
    "collapsed": false,
    "scrolled": true
   },
   "outputs": [],
   "source": [
    "import networkx as nx\n",
    "import numpy as np\n",
    "import pandas as pd\n",
    "import matplotlib.pyplot as plt\n",
    "%matplotlib inline\n",
    "import os\n",
    "from glob import glob\n",
    "\n",
    "#gml_files = glob('../output/network/*/*.gml')\n",
    "\n",
    "graph = nx.read_gml('../output/network/negative/article1.gml')\n",
    "ugraph = graph.to_undirected()"
   ]
  },
  {
   "cell_type": "code",
   "execution_count": 5,
   "metadata": {
    "collapsed": false
   },
   "outputs": [],
   "source": [
    "def highest_centrality(cent_dict):\n",
    "    \"\"\"Returns a tuple (node,value) with the node\n",
    "    with largest value from centrality dictionary.\"\"\"\n",
    "    # create ordered tuple of centrality data\n",
    "    cent_items = [(b,a) for (a,b) in cent_dict.iteritems()]\n",
    "    # sort in descending order\n",
    "    cent_items.sort()\n",
    "    cent_items.reverse()\n",
    "    return tuple(reversed(cent_items[0]))"
   ]
  },
  {
   "cell_type": "code",
   "execution_count": 6,
   "metadata": {
    "collapsed": false
   },
   "outputs": [
    {
     "name": "stdout",
     "output_type": "stream",
     "text": [
      "Name: \n",
      "Type: MultiDiGraph\n",
      "Number of nodes: 140\n",
      "Number of edges: 147\n",
      "Average in degree:   1.0500\n",
      "Average out degree:   1.0500\n",
      "Name: \n",
      "Type: MultiGraph\n",
      "Number of nodes: 140\n",
      "Number of edges: 145\n",
      "Average degree:   2.0714\n"
     ]
    }
   ],
   "source": [
    "print nx.info(graph)\n",
    "print nx.info(ugraph)"
   ]
  },
  {
   "cell_type": "code",
   "execution_count": 7,
   "metadata": {
    "collapsed": false
   },
   "outputs": [
    {
     "data": {
      "text/plain": [
       "[0, 77, 32, 8, 10, 6, 3, 1, 0, 1, 1, 0, 0, 0, 0, 1]"
      ]
     },
     "execution_count": 7,
     "metadata": {},
     "output_type": "execute_result"
    }
   ],
   "source": [
    "# degree histogram: returns a list of frequencies of degrees\n",
    "nx.degree_histogram(graph)"
   ]
  },
  {
   "cell_type": "code",
   "execution_count": null,
   "metadata": {
    "collapsed": true
   },
   "outputs": [],
   "source": [
    "# degree rank plot\n",
    "# only for undirected type\n",
    "\n",
    "degree_sequence=sorted(nx.degree(ugraph).values(),reverse=True) # degree sequence\n",
    "#print \"Degree sequence\", degree_sequence\n",
    "dmax=max(degree_sequence)\n",
    "\n",
    "plt.loglog(degree_sequence,'b-',marker='o')\n",
    "plt.title(\"Degree rank plot\")\n",
    "plt.ylabel(\"degree\")\n",
    "plt.xlabel(\"rank\")\n",
    "\n",
    "# draw graph in inset\n",
    "plt.axes([0.45,0.45,0.45,0.45])\n",
    "Gcc=sorted(nx.connected_component_subgraphs(ugraph), key = len, reverse=True)[0]\n",
    "pos=nx.spring_layout(Gcc)\n",
    "plt.axis('off')\n",
    "nx.draw_networkx_nodes(Gcc,pos,node_size=20)\n",
    "nx.draw_networkx_edges(Gcc,pos,alpha=0.4)\n",
    "\n",
    "plt.show()"
   ]
  },
  {
   "cell_type": "code",
   "execution_count": null,
   "metadata": {
    "collapsed": false,
    "scrolled": true
   },
   "outputs": [],
   "source": [
    "# degree centrality\n",
    "\n",
    "a = nx.degree_centrality(graph)\n",
    "dfIn=pd.DataFrame.from_dict(a,orient='index')\n",
    "dfIn.columns = ['degree centrality']\n",
    "dfIn = dfIn.sort_values(by=['degree centrality'])\n",
    "dfIn"
   ]
  },
  {
   "cell_type": "code",
   "execution_count": null,
   "metadata": {
    "collapsed": false,
    "scrolled": true
   },
   "outputs": [],
   "source": [
    "# betweenness centrality\n",
    "\n",
    "a = nx.betweenness_centrality(graph)\n",
    "dfIn=pd.DataFrame.from_dict(a,orient='index')\n",
    "dfIn.columns = ['betweenness centrality']\n",
    "dfIn = dfIn.sort_values(by=['betweenness centrality'])\n",
    "dfIn"
   ]
  },
  {
   "cell_type": "code",
   "execution_count": null,
   "metadata": {
    "collapsed": false,
    "scrolled": true
   },
   "outputs": [],
   "source": [
    "# closeness centrality\n",
    "\n",
    "a = nx.closeness_centrality(graph)\n",
    "dfIn=pd.DataFrame.from_dict(a,orient='index')\n",
    "dfIn.columns = ['closeness centrality']\n",
    "dfIn = dfIn.sort_values(by=['closeness centrality'])\n",
    "dfIn"
   ]
  },
  {
   "cell_type": "code",
   "execution_count": null,
   "metadata": {
    "collapsed": false
   },
   "outputs": [],
   "source": [
    "# in degree centrality\n",
    "a = nx.in_degree_centrality(graph)\n",
    "dfIn=pd.DataFrame.from_dict(a,orient='index')\n",
    "dfIn.columns = ['in deg centrality']\n",
    "dfIn = dfIn.sort_values(by=['in deg centrality'])\n",
    "dfIn"
   ]
  },
  {
   "cell_type": "code",
   "execution_count": null,
   "metadata": {
    "collapsed": false
   },
   "outputs": [],
   "source": [
    "# out degree centrality\n",
    "b = nx.out_degree_centrality(graph)\n",
    "dfIn=pd.DataFrame.from_dict(b,orient='index')\n",
    "dfIn.columns = ['out deg centrality']\n",
    "dfIn = dfIn.sort_values(by=['out deg centrality'])\n",
    "dfIn"
   ]
  },
  {
   "cell_type": "code",
   "execution_count": null,
   "metadata": {
    "collapsed": true
   },
   "outputs": [],
   "source": []
  },
  {
   "cell_type": "code",
   "execution_count": null,
   "metadata": {
    "collapsed": true
   },
   "outputs": [],
   "source": []
  },
  {
   "cell_type": "code",
   "execution_count": null,
   "metadata": {
    "collapsed": false
   },
   "outputs": [],
   "source": []
  },
  {
   "cell_type": "markdown",
   "metadata": {},
   "source": [
    "- - -"
   ]
  },
  {
   "cell_type": "code",
   "execution_count": null,
   "metadata": {
    "collapsed": true
   },
   "outputs": [],
   "source": [
    "# current-flow betweenness centrality (graph must be connected; run for largest component)\n",
    "#nx.current_flow_betweenness_centrality(graph)\n",
    "\n",
    "# eigenvector centrality\n",
    "\n",
    "# degree assortativity coefficient\n",
    "# average neighbor degree; average degree connectivity (k nearest neighbors)\n",
    "\n",
    "#nx.edge_connectivity(graph)\n",
    "#nx.node_connectivity(graph)\n",
    "\n",
    "# clustering coefficient (cannot be multigraph)\n",
    "# nx.average_clustering(graph)"
   ]
  },
  {
   "cell_type": "code",
   "execution_count": null,
   "metadata": {
    "collapsed": true
   },
   "outputs": [],
   "source": []
  },
  {
   "cell_type": "code",
   "execution_count": null,
   "metadata": {
    "collapsed": true
   },
   "outputs": [],
   "source": [
    "for cc in nx.connected_component_subgraphs(ugraph):\n",
    "    print cc, \" has \", len(cc.nodes()), \" nodes.\""
   ]
  },
  {
   "cell_type": "markdown",
   "metadata": {
    "collapsed": true
   },
   "source": [
    "- - -"
   ]
  },
  {
   "cell_type": "raw",
   "metadata": {
    "collapsed": false
   },
   "source": [
    "'name',\n",
    "'sentiment',\n",
    "'# nodes',\n",
    "'# edges',\n",
    "'avg degree',\n",
    "'density',\n",
    "'avg deg cent',\n",
    "'avg bet cent',\n",
    "'avg clo cent',\n",
    "'highest degc',\n",
    "'highest betc',\n",
    "'highest cloc',\n",
    "'avg in-deg',\n",
    "'avg out-deg',\n",
    "'# strong comp',\n",
    "'# weak comp',\n",
    "'# conn comp',\n",
    "'avg node connect',\n",
    "'deg assort coeff',"
   ]
  }
 ],
 "metadata": {
  "kernelspec": {
   "display_name": "Python 2",
   "language": "python",
   "name": "python2"
  },
  "language_info": {
   "codemirror_mode": {
    "name": "ipython",
    "version": 2
   },
   "file_extension": ".py",
   "mimetype": "text/x-python",
   "name": "python",
   "nbconvert_exporter": "python",
   "pygments_lexer": "ipython2",
   "version": "2.7.11"
  }
 },
 "nbformat": 4,
 "nbformat_minor": 0
}
