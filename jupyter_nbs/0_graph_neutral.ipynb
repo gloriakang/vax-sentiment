{
 "cells": [
  {
   "cell_type": "markdown",
   "metadata": {
    "collapsed": true
   },
   "source": [
    "## neutral sentiment graph"
   ]
  },
  {
   "cell_type": "code",
   "execution_count": 1,
   "metadata": {
    "collapsed": false
   },
   "outputs": [],
   "source": [
    "# 1_network_df\n",
    "\n",
    "import networkx as nx\n",
    "import numpy as np\n",
    "import pandas as pd\n",
    "import matplotlib.pyplot as plt\n",
    "%matplotlib inline\n",
    "import os\n",
    "from glob import glob\n",
    "\n",
    "pd.set_option('display.width', 5000) \n",
    "pd.set_option('display.max_columns', 60)\n",
    "plt.style.use('ggplot')\n",
    "\n",
    "gml_files = glob('../output/network/article_neu1.gml')"
   ]
  },
  {
   "cell_type": "code",
   "execution_count": 2,
   "metadata": {
    "collapsed": true
   },
   "outputs": [],
   "source": [
    "def calculate_graph_inf(graph):\n",
    "    graph.name = filename\n",
    "    info = nx.info(graph)\n",
    "    print info\n",
    "    #plt.figure(figsize=(10,10))\n",
    "    #nx.draw_spring(graph, arrows=True, with_labels=True)\n",
    "\n",
    "def highest_centrality(cent_dict):\n",
    "    \"\"\"Returns a tuple (node,value) with the node\n",
    "    with largest value from centrality dictionary.\"\"\"\n",
    "    # create ordered tuple of centrality data\n",
    "    cent_items = [(b,a) for (a,b) in cent_dict.iteritems()]\n",
    "    # sort in descending order\n",
    "    cent_items.sort()\n",
    "    cent_items.reverse()\n",
    "    return tuple(reversed(cent_items[0]))"
   ]
  },
  {
   "cell_type": "code",
   "execution_count": 3,
   "metadata": {
    "collapsed": true
   },
   "outputs": [],
   "source": [
    "network_data_columns = ['name',\n",
    "                    'sentiment',\n",
    "                    '# nodes',\n",
    "                    '# edges',\n",
    "                    'avg deg',\n",
    "                    'avg in-deg',\n",
    "                    'avg out-deg',\n",
    "                    'density',\n",
    "                    'deg assort coef', \n",
    "                    'avg deg cent',\n",
    "                    'avg bet cent',\n",
    "                    'avg clo cent',\n",
    "                    'high deg cent',\n",
    "                    'high bet cent',\n",
    "                    'high clo cent',\n",
    "                    'avg node conn',\n",
    "                    '# conn comp',\n",
    "                    'gc size',\n",
    "                    '# strong comp',\n",
    "                    '# weak comp'\n",
    "                    ]\n",
    "network_data = pd.DataFrame(columns = network_data_columns)"
   ]
  },
  {
   "cell_type": "code",
   "execution_count": 4,
   "metadata": {
    "collapsed": false
   },
   "outputs": [
    {
     "name": "stdout",
     "output_type": "stream",
     "text": [
      "----------\n",
      "../output/network/article_neu1.gml\n",
      "Name: article_neu1.gml\n",
      "Type: MultiDiGraph\n",
      "Number of nodes: 201\n",
      "Number of edges: 241\n",
      "Average in degree:   1.1990\n",
      "Average out degree:   1.1990\n",
      "Name: article_neu1.gml\n",
      "Type: MultiGraph\n",
      "Number of nodes: 201\n",
      "Number of edges: 241\n",
      "Average degree:   2.3980\n"
     ]
    }
   ],
   "source": [
    "# graph = directed, ugraph = undirected\n",
    "for graph_num, gml_graph in enumerate(gml_files):\n",
    "    graph = nx.read_gml(gml_graph)\n",
    "    ugraph = graph.to_undirected() # to undirected graph\n",
    "    U = graph.to_undirected(reciprocal=True)\n",
    "    e = U.edges()\n",
    "    ugraph.add_edges_from(e)\n",
    "    (filepath, filename) = os.path.split(gml_graph)\n",
    "    print('-' * 10)\n",
    "    print(gml_graph)\n",
    "    calculate_graph_inf(graph)\n",
    "    calculate_graph_inf(ugraph)\n",
    "    \n",
    "    # calculate variables\n",
    "    #sent = filepath.split('/')[-1]\n",
    "    sent = \"neutral\"\n",
    "    nodes = nx.number_of_nodes(graph)\n",
    "    edges = nx.number_of_edges(graph)\n",
    "    density = float(\"{0:.4f}\".format(nx.density(graph)))\n",
    "    avg_deg_cen = np.array(nx.degree_centrality(graph).values()).mean()\n",
    "    avg_bet_cen = np.array(nx.betweenness_centrality(graph).values()).mean()\n",
    "    avg_clo_cen = np.array(nx.closeness_centrality(graph).values()).mean()\n",
    "    in_deg = sum(graph.in_degree().values())/float(nx.number_of_nodes(graph))\n",
    "    out_deg = sum(graph.out_degree().values())/float(nx.number_of_nodes(graph))    \n",
    "    avg_deg = float(\"{0:.4f}\".format(in_deg + out_deg))\n",
    "    strong_comp = nx.number_strongly_connected_components(graph)\n",
    "    weak_comp =  nx.number_weakly_connected_components(graph)\n",
    "    avg_node_con = float(\"{0:.4f}\".format((nx.average_node_connectivity(graph))))\n",
    "    deg_assort_coeff = float(\"{0:.4f}\".format((nx.degree_assortativity_coefficient(graph))))\n",
    "    conn_comp = nx.number_connected_components(ugraph)\n",
    "    deg_cen = nx.degree_centrality(graph)\n",
    "    bet_cen = nx.betweenness_centrality(graph)\n",
    "    clo_cen = nx.closeness_centrality(graph)\n",
    "    highest_deg_cen = highest_centrality(deg_cen)\n",
    "    highest_bet_cen = highest_centrality(bet_cen)\n",
    "    highest_clo_cen = highest_centrality(clo_cen)\n",
    "    Gc = len(max(nx.connected_component_subgraphs(ugraph), key=len))\n",
    "\n",
    "    # save variables into list\n",
    "    graph_values = {'name':filename,\n",
    "                    'sentiment':sent,\n",
    "                    '# nodes':nodes,\n",
    "                    '# edges':edges,\n",
    "                    'avg deg':avg_deg,\n",
    "                    'avg in-deg':\"%.4f\" % in_deg,\n",
    "                    'avg out-deg':\"%.4f\" % out_deg,\n",
    "                    'density':density,\n",
    "                    'deg assort coef':deg_assort_coeff,\n",
    "                    'avg deg cent':\"%.4f\" % avg_deg_cen,\n",
    "                    'avg bet cent':\"%.4f\" % avg_bet_cen,\n",
    "                    'avg clo cent':\"%.4f\" % avg_clo_cen,\n",
    "                    'high deg cent':highest_deg_cen,\n",
    "                    'high bet cent':highest_bet_cen,\n",
    "                    'high clo cent':highest_clo_cen,\n",
    "                    'avg node conn':avg_node_con,\n",
    "                    '# conn comp':conn_comp,\n",
    "                    'gc size':Gc,\n",
    "                    '# strong comp':strong_comp,\n",
    "                    '# weak comp':weak_comp\n",
    "                    }\n",
    "    network_data = network_data.append(graph_values, ignore_index=True)"
   ]
  },
  {
   "cell_type": "code",
   "execution_count": 5,
   "metadata": {
    "collapsed": false,
    "scrolled": true
   },
   "outputs": [],
   "source": [
    "network_data\n",
    "\n",
    "network_data.to_csv('../output/df/network_df_neutral.csv')"
   ]
  },
  {
   "cell_type": "markdown",
   "metadata": {},
   "source": [
    "- - -"
   ]
  },
  {
   "cell_type": "code",
   "execution_count": 6,
   "metadata": {
    "collapsed": true
   },
   "outputs": [],
   "source": [
    "# 2_node_df\n",
    "data_columns = ['name',\n",
    "                'sentiment'\n",
    "                ]\n",
    "data = pd.DataFrame(columns = data_columns)\n",
    "combined_df = pd.DataFrame()"
   ]
  },
  {
   "cell_type": "code",
   "execution_count": 7,
   "metadata": {
    "collapsed": false
   },
   "outputs": [
    {
     "name": "stdout",
     "output_type": "stream",
     "text": [
      "----------\n",
      "../output/network/article_neu1.gml\n",
      "Name: article_neu1.gml\n",
      "Type: MultiDiGraph\n",
      "Number of nodes: 201\n",
      "Number of edges: 241\n",
      "Average in degree:   1.1990\n",
      "Average out degree:   1.1990\n",
      "Name: article_neu1.gml\n",
      "Type: MultiGraph\n",
      "Number of nodes: 201\n",
      "Number of edges: 241\n",
      "Average degree:   2.3980\n"
     ]
    }
   ],
   "source": [
    "# graph = directed, ugraph = undirected\n",
    "for graph_num, gml_graph in enumerate(gml_files):\n",
    "    print('-' * 10)\n",
    "    print(gml_graph)\n",
    "    calculate_graph_inf(graph)\n",
    "    calculate_graph_inf(ugraph)\n",
    "\n",
    "    # calculate variables and save into list\n",
    "    #sent = filepath.split('/')[-1]\n",
    "    deg_cent = nx.degree_centrality(graph)\n",
    "    bet_cent = nx.betweenness_centrality(graph)\n",
    "    clo_cent = nx.closeness_centrality(graph)\n",
    "    graph_values = {'name':filename,\n",
    "                    'sentiment':sent\n",
    "                    }\n",
    "    data = data.append(graph_values, ignore_index=True)\n",
    "\n",
    "    degree = nx.degree(graph)\n",
    "    deg_df = pd.DataFrame.from_dict(degree, orient = 'index')\n",
    "    deg_df.columns = ['degree']\n",
    "    # degree centrality\n",
    "    deg_cent = nx.degree_centrality(graph)\n",
    "    dc_df = pd.DataFrame.from_dict(deg_cent, orient = 'index')\n",
    "    dc_df.columns = ['deg cent']\n",
    "    # betweenness centrality\n",
    "    bet_cent = nx.betweenness_centrality(graph)\n",
    "    bc_df = pd.DataFrame.from_dict(bet_cent, orient = 'index')\n",
    "    bc_df.columns = ['bet cent']\n",
    "    # closeness centrality\n",
    "    clo_cent = nx.closeness_centrality(graph)\n",
    "    cc_df = pd.DataFrame.from_dict(clo_cent, orient = 'index')\n",
    "    cc_df.columns = ['clo cent']\n",
    "    # concat node frames into node_df\n",
    "    frames = [deg_df, dc_df, bc_df, cc_df]\n",
    "    node_df = pd.concat(frames, axis = 1)\n",
    "    node_df.index.name = 'node'\n",
    "    node_df = node_df.reset_index()\n",
    "\n",
    "    values = pd.DataFrame(graph_values, columns = ('name', 'sentiment'), index = [0])\n",
    "    \n",
    "    # df = merges graph_values with node_df for single graph and fill NaNs\n",
    "    df = pd.concat([values, node_df], axis = 1)\n",
    "    df = df.fillna(method='ffill')\n",
    "    combined_df = combined_df.append(df)"
   ]
  },
  {
   "cell_type": "code",
   "execution_count": 8,
   "metadata": {
    "collapsed": false,
    "scrolled": true
   },
   "outputs": [],
   "source": [
    "combined_df\n",
    "\n",
    "combined_df.to_csv('../output/df/nodes_df_neutral.csv')"
   ]
  },
  {
   "cell_type": "markdown",
   "metadata": {},
   "source": [
    "- - -"
   ]
  },
  {
   "cell_type": "code",
   "execution_count": 9,
   "metadata": {
    "collapsed": true
   },
   "outputs": [],
   "source": [
    "# 7_negative_graph_calculation\n",
    "def drawIt(graph, what = 'graph'):\n",
    "    nsize = graph.number_of_nodes()\n",
    "    print \"Drawing %s of size %s:\" % (what, nsize)\n",
    "    \n",
    "    if nsize > 20:\n",
    "        plt.figure(figsize=(10, 10))\n",
    "        if nsize > 40:\n",
    "            nx.draw_spring(graph, with_labels = True, node_size = 70, font_size = 12)\n",
    "        else:\n",
    "            nx.draw_spring(graph, with_labels = True)\n",
    "    else:\n",
    "        nx.draw_spring(graph, with_labels = True)\n",
    "    plt.show()\n",
    "\n",
    "def describeGraph(graph):\n",
    "    components = sorted(nx.connected_components(graph), key = len, reverse = True)\n",
    "    cc = [len(c) for c in components]\n",
    "    subgraphs = list(nx.connected_component_subgraphs(graph))\n",
    "    params = (graph.number_of_edges(),graph.number_of_nodes(),len(cc))\n",
    "    print \"Graph has %s nodes, %s edges, %s connected components\\n\" % params\n",
    "    drawIt(graph)\n",
    "    for sub in components:\n",
    "        drawIt(graph.subgraph(sub), what = 'component')"
   ]
  },
  {
   "cell_type": "code",
   "execution_count": 10,
   "metadata": {
    "collapsed": false
   },
   "outputs": [
    {
     "name": "stdout",
     "output_type": "stream",
     "text": [
      "Connected components = [171, 4, 4, 4, 3, 3, 2, 2, 2, 2, 2, 2]\n",
      "Greatest component size = 171\n",
      "# of cutsets = 41\n",
      "Min node cut = set([u'anti-vaccination'])\n",
      "Min edge cut = set([(u'CDC', u'Dr. Anna Acosta')])\n"
     ]
    }
   ],
   "source": [
    "# list of connected components by size\n",
    "connected_components = [len(c) for c in sorted(nx.connected_components(ugraph), key=len, reverse=True)]\n",
    "\n",
    "# generate connected components as subgraphs\n",
    "subgraphs = list(nx.connected_component_subgraphs(ugraph))\n",
    "\n",
    "# greatest component\n",
    "Gc = max(nx.connected_component_subgraphs(ugraph), key=len)\n",
    "\n",
    "# returns all minimum k cutsets of an undirected graph\n",
    "# i.e., the set(s) of nodes of cardinality equal to the node connectivity of G\n",
    "# thus if removed, would break G into two or more connected components\n",
    "cutsets = list(nx.all_node_cuts(Gc))\n",
    "\n",
    "print \"Connected components =\", connected_components\n",
    "print \"Greatest component size =\", len(Gc)\n",
    "print \"# of cutsets =\", len(cutsets)\n",
    "\n",
    "# returns a set of nodes or edges of minimum cardinality that disconnects G\n",
    "print \"Min node cut =\", nx.minimum_node_cut(Gc)\n",
    "print \"Min edge cut =\", nx.minimum_edge_cut(Gc)"
   ]
  },
  {
   "cell_type": "code",
   "execution_count": 11,
   "metadata": {
    "collapsed": false
   },
   "outputs": [
    {
     "name": "stdout",
     "output_type": "stream",
     "text": [
      "set([u'Focus for Health'])\n",
      "set([(u'Focus for Health', u'autism')])\n"
     ]
    }
   ],
   "source": [
    "# min cuts with source and target\n",
    "print nx.minimum_node_cut(Gc, s='vaccines', t='autism')\n",
    "print nx.minimum_edge_cut(Gc, s='vaccines', t='autism')"
   ]
  },
  {
   "cell_type": "code",
   "execution_count": 12,
   "metadata": {
    "collapsed": false
   },
   "outputs": [
    {
     "name": "stdout",
     "output_type": "stream",
     "text": [
      "(u'Focus for Health', u'autism') is dedicated to advocacy, education, investigation and research that explores epidemic of\n"
     ]
    }
   ],
   "source": [
    "# read edge labels in min cut for Gc\n",
    "# change source and target\n",
    "a = nx.minimum_edge_cut(Gc, s='vaccines', t='autism')\n",
    "#a = nx.minimum_edge_cut(Gc)\n",
    "\n",
    "labels = nx.get_edge_attributes(Gc,'edge')\n",
    "edgelabels = {}\n",
    "for e in labels.keys():\n",
    "    e1 = e[0:2]\n",
    "    edgelabels[e1]=labels[e]\n",
    "\n",
    "for e in a:\n",
    "    if edgelabels.has_key(e):\n",
    "        print e,edgelabels[e]\n",
    "    else:\n",
    "        rev_e = e[::-1]\n",
    "        print rev_e, edgelabels[rev_e]"
   ]
  },
  {
   "cell_type": "code",
   "execution_count": 13,
   "metadata": {
    "collapsed": true
   },
   "outputs": [],
   "source": [
    "# this takes forever\n",
    "# average connectivity k of a graph G is the average of local node connectivity over all pairs of nodes of G\n",
    "#nx.average_node_connectivity(Gc)"
   ]
  },
  {
   "cell_type": "markdown",
   "metadata": {},
   "source": [
    "- - -"
   ]
  },
  {
   "cell_type": "code",
   "execution_count": 14,
   "metadata": {
    "collapsed": false
   },
   "outputs": [],
   "source": [
    "# 8_single_calc_neg\n",
    "#describeGraph(ugraph)"
   ]
  },
  {
   "cell_type": "code",
   "execution_count": 15,
   "metadata": {
    "collapsed": false
   },
   "outputs": [
    {
     "name": "stdout",
     "output_type": "stream",
     "text": [
      "Degree histogram: [0, 108, 42, 26, 9, 5, 1, 1, 2, 0, 1, 1, 0, 0, 1, 0, 1, 0, 0, 2, 0, 0, 0, 0, 0, 0, 0, 0, 0, 0, 0, 0, 0, 1]\n"
     ]
    }
   ],
   "source": [
    "# degree histogram: returns a list of frequencies of degrees\n",
    "print \"Degree histogram:\", nx.degree_histogram(ugraph)"
   ]
  },
  {
   "cell_type": "code",
   "execution_count": 16,
   "metadata": {
    "collapsed": false,
    "scrolled": true
   },
   "outputs": [
    {
     "name": "stdout",
     "output_type": "stream",
     "text": [
      "Degree sequence [33, 19, 19, 16, 14, 11, 10, 8, 8, 7, 6, 5, 5, 5, 5, 5, 4, 4, 4, 4, 4, 4, 4, 4, 4, 3, 3, 3, 3, 3, 3, 3, 3, 3, 3, 3, 3, 3, 3, 3, 3, 3, 3, 3, 3, 3, 3, 3, 3, 3, 3, 2, 2, 2, 2, 2, 2, 2, 2, 2, 2, 2, 2, 2, 2, 2, 2, 2, 2, 2, 2, 2, 2, 2, 2, 2, 2, 2, 2, 2, 2, 2, 2, 2, 2, 2, 2, 2, 2, 2, 2, 2, 2, 1, 1, 1, 1, 1, 1, 1, 1, 1, 1, 1, 1, 1, 1, 1, 1, 1, 1, 1, 1, 1, 1, 1, 1, 1, 1, 1, 1, 1, 1, 1, 1, 1, 1, 1, 1, 1, 1, 1, 1, 1, 1, 1, 1, 1, 1, 1, 1, 1, 1, 1, 1, 1, 1, 1, 1, 1, 1, 1, 1, 1, 1, 1, 1, 1, 1, 1, 1, 1, 1, 1, 1, 1, 1, 1, 1, 1, 1, 1, 1, 1, 1, 1, 1, 1, 1, 1, 1, 1, 1, 1, 1, 1, 1, 1, 1, 1, 1, 1, 1, 1, 1, 1, 1, 1, 1, 1, 1]\n"
     ]
    },
    {
     "data": {
      "image/png": "[encoded data removed]",
      "text/plain": [
       "<matplotlib.figure.Figure at 0x115b38690>"
      ]
     },
     "metadata": {},
     "output_type": "display_data"
    }
   ],
   "source": [
    "# degree rank plot (undirected)\n",
    "degree_sequence = sorted(nx.degree(ugraph).values(),reverse=True) # degree sequence\n",
    "print \"Degree sequence\", degree_sequence\n",
    "dmax = max(degree_sequence)\n",
    "\n",
    "plt.loglog(degree_sequence,'b-', marker = 'o')\n",
    "plt.title(\"Degree rank plot\")\n",
    "plt.ylabel(\"degree\")\n",
    "plt.xlabel(\"rank\")\n",
    "\n",
    "# draw graph in inset\n",
    "plt.axes([0.45,0.45,0.45,0.45])\n",
    "Gcc = sorted(nx.connected_component_subgraphs(ugraph), key = len, reverse = True)[0]\n",
    "pos = nx.spring_layout(Gcc)\n",
    "plt.axis('off')\n",
    "nx.draw_networkx_nodes(Gcc, pos, node_size = 20)\n",
    "nx.draw_networkx_edges(Gcc, pos, alpha = 0.4)\n",
    "\n",
    "plt.show()"
   ]
  },
  {
   "cell_type": "code",
   "execution_count": 17,
   "metadata": {
    "collapsed": false,
    "scrolled": true
   },
   "outputs": [],
   "source": [
    "# degree centrality\n",
    "dc = nx.degree_centrality(graph)\n",
    "dc_df = pd.DataFrame.from_dict(dc, orient = 'index')\n",
    "dc_df.columns = ['degree cent']\n",
    "dc_df = dc_df.sort_values(by = ['degree cent'])\n",
    "#dc_df\n",
    "\n",
    "# betweenness centrality\n",
    "bc = nx.betweenness_centrality(graph)\n",
    "bc_df = pd.DataFrame.from_dict(bc, orient = 'index')\n",
    "bc_df.columns = ['betweenness cent']\n",
    "bc_df = bc_df.sort_values(by = ['betweenness cent'])\n",
    "#bc_df\n",
    "\n",
    "# closeness centrality\n",
    "cc = nx.closeness_centrality(graph)\n",
    "cc_df = pd.DataFrame.from_dict(cc, orient = 'index')\n",
    "cc_df.columns = ['closeness cent']\n",
    "cc_df = cc_df.sort_values(by = ['closeness cent'])\n",
    "#cc_df"
   ]
  },
  {
   "cell_type": "code",
   "execution_count": 18,
   "metadata": {
    "collapsed": false,
    "scrolled": true
   },
   "outputs": [
    {
     "name": "stdout",
     "output_type": "stream",
     "text": [
      "Degree histogram: [0, 108, 42, 26, 9, 5, 1, 1, 2, 0, 1, 1, 0, 0, 1, 0, 1, 0, 0, 2, 0, 0, 0, 0, 0, 0, 0, 0, 0, 0, 0, 0, 0, 1]\n",
      "Connected components = [171, 4, 4, 4, 3, 3, 2, 2, 2, 2, 2, 2]\n",
      "Greatest component size = 171\n",
      "# of cutsets = 41\n",
      "Min node cut = set([u'anti-vaccination'])\n",
      "Min edge cut = set([(u'CDC', u'Dr. Anna Acosta')])\n"
     ]
    }
   ],
   "source": [
    "# SUMMARY\n",
    "\n",
    "#network_data\n",
    "#combined_df\n",
    "#dc_df, bc_df, cc_df\n",
    "print \"Degree histogram:\", nx.degree_histogram(graph)\n",
    "print \"Connected components =\", connected_components\n",
    "print \"Greatest component size =\", len(Gc)\n",
    "#describeGraph(ugraph)\n",
    "print \"# of cutsets =\", len(cutsets)\n",
    "print \"Min node cut =\", nx.minimum_node_cut(Gc)\n",
    "print \"Min edge cut =\", nx.minimum_edge_cut(Gc)"
   ]
  },
  {
   "cell_type": "code",
   "execution_count": null,
   "metadata": {
    "collapsed": true
   },
   "outputs": [],
   "source": []
  }
 ],
 "metadata": {
  "kernelspec": {
   "display_name": "Python 2",
   "language": "python",
   "name": "python2"
  },
  "language_info": {
   "codemirror_mode": {
    "name": "ipython",
    "version": 2
   },
   "file_extension": ".py",
   "mimetype": "text/x-python",
   "name": "python",
   "nbconvert_exporter": "python",
   "pygments_lexer": "ipython2",
   "version": "2.7.11"
  }
 },
 "nbformat": 4,
 "nbformat_minor": 0
}
