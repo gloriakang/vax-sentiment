{
 "cells": [
  {
   "cell_type": "markdown",
   "metadata": {
    "collapsed": true
   },
   "source": [
    "## scratch\n",
    "1. copy of network dataframe\n",
    "2. drawing network graph"
   ]
  },
  {
   "cell_type": "code",
   "execution_count": 1,
   "metadata": {
    "collapsed": false,
    "scrolled": true
   },
   "outputs": [],
   "source": [
    "import networkx as nx\n",
    "import numpy as np\n",
    "import pandas as pd\n",
    "import matplotlib.pyplot as plt\n",
    "%matplotlib inline\n",
    "import os\n",
    "from glob import glob\n",
    "\n",
    "gml_files = glob('../output/network/*/*.gml')\n",
    "\n",
    "# graph = nx.read_gml('../data/graph/article1.gml')\n",
    "# print(len(gml_files))\n",
    "# gml_files\n",
    "# gml_files[0]"
   ]
  },
  {
   "cell_type": "code",
   "execution_count": 2,
   "metadata": {
    "collapsed": true
   },
   "outputs": [],
   "source": [
    "def calculate_graph_inf(graph):\n",
    "    graph.name = filename\n",
    "    info = nx.info(graph)\n",
    "    print info\n",
    "    \n",
    "    ## plot spring layout\n",
    "    # plt.figure(figsize=(11,11))\n",
    "    # nx.draw_spring(graph, arrows=True, with_labels=True)\n",
    "\n",
    "def highest_centrality(cent_dict):\n",
    "    \"\"\"Returns a tuple (node,value) with the node\n",
    "    with largest value from centrality dictionary.\"\"\"\n",
    "    # create ordered tuple of centrality data\n",
    "    cent_items = [(b,a) for (a,b) in cent_dict.iteritems()]\n",
    "    # sort in descending order\n",
    "    cent_items.sort()\n",
    "    cent_items.reverse()\n",
    "    return tuple(reversed(cent_items[0]))"
   ]
  },
  {
   "cell_type": "code",
   "execution_count": 3,
   "metadata": {
    "collapsed": false,
    "scrolled": true
   },
   "outputs": [],
   "source": [
    "# create empty dataframe with columns\n",
    "\n",
    "network_data_columns = ['name',\n",
    "                    'sentiment',\n",
    "                    '# nodes',\n",
    "                    '# edges',\n",
    "                    'avg degree',\n",
    "                    'density',\n",
    "                    'avg deg cent',\n",
    "                    'avg bet cent',\n",
    "                    'avg clo cent',\n",
    "                    'highest degc',\n",
    "                    'highest betc',\n",
    "                    'highest cloc',\n",
    "                    'avg in-deg',\n",
    "                    'avg out-deg',\n",
    "                    '# strong comp',\n",
    "                    '# weak comp',\n",
    "                    '# conn comp',\n",
    "                    'avg node connect',\n",
    "                    'deg assort coeff',\n",
    "                    ]\n",
    "\n",
    "network_data = pd.DataFrame(columns = network_data_columns)"
   ]
  },
  {
   "cell_type": "raw",
   "metadata": {},
   "source": [
    "## re: dealing with lost edges during graph conversions\n",
    "# take multidigraph and convert to undirected graph U\n",
    "# graph U is reciprocal so only missing edges are listed\n",
    "# take list of missing edges and set = e\n",
    "# add list e to ugraph = ugraph now contains all info from graph\n",
    "\n",
    "U = graph.to_undirected(reciprocal=True)\n",
    "e = U.edges()\n",
    "ugraph.add_edges_from(e)\n",
    "print nx.info(ugraph)"
   ]
  },
  {
   "cell_type": "code",
   "execution_count": 5,
   "metadata": {
    "collapsed": false,
    "scrolled": true
   },
   "outputs": [
    {
     "name": "stdout",
     "output_type": "stream",
     "text": [
      "----------------------------------------\n",
      "../output/network/negative/article03.gml\n",
      "Name: article03.gml\n",
      "Type: MultiDiGraph\n",
      "Number of nodes: 18\n",
      "Number of edges: 13\n",
      "Average in degree:   0.7222\n",
      "Average out degree:   0.7222\n",
      "Name: article03.gml\n",
      "Type: MultiGraph\n",
      "Number of nodes: 18\n",
      "Number of edges: 13\n",
      "Average degree:   1.4444\n",
      "----------------------------------------\n",
      "../output/network/negative/article05.gml\n",
      "Name: article05.gml\n",
      "Type: MultiDiGraph\n",
      "Number of nodes: 22\n",
      "Number of edges: 25\n",
      "Average in degree:   1.1364\n",
      "Average out degree:   1.1364\n",
      "Name: article05.gml\n",
      "Type: MultiGraph\n",
      "Number of nodes: 22\n",
      "Number of edges: 25\n",
      "Average degree:   2.2727\n",
      "----------------------------------------\n",
      "../output/network/negative/article06.gml\n",
      "Name: article06.gml\n",
      "Type: MultiDiGraph\n",
      "Number of nodes: 124\n",
      "Number of edges: 121\n",
      "Average in degree:   0.9758\n",
      "Average out degree:   0.9758\n",
      "Name: article06.gml\n",
      "Type: MultiGraph\n",
      "Number of nodes: 124\n",
      "Number of edges: 121\n",
      "Average degree:   1.9516\n",
      "----------------------------------------\n",
      "../output/network/negative/article07.gml\n",
      "Name: article07.gml\n",
      "Type: MultiDiGraph\n",
      "Number of nodes: 56\n",
      "Number of edges: 57\n",
      "Average in degree:   1.0179\n",
      "Average out degree:   1.0179\n",
      "Name: article07.gml\n",
      "Type: MultiGraph\n",
      "Number of nodes: 56\n",
      "Number of edges: 56\n",
      "Average degree:   2.0000\n",
      "----------------------------------------\n",
      "../output/network/negative/article1.gml\n",
      "Name: article1.gml\n",
      "Type: MultiDiGraph\n",
      "Number of nodes: 140\n",
      "Number of edges: 147\n",
      "Average in degree:   1.0500\n",
      "Average out degree:   1.0500\n",
      "Name: article1.gml\n",
      "Type: MultiGraph\n",
      "Number of nodes: 140\n",
      "Number of edges: 145\n",
      "Average degree:   2.0714\n",
      "----------------------------------------\n",
      "../output/network/negative/article1001.gml\n",
      "Name: article1001.gml\n",
      "Type: MultiDiGraph\n",
      "Number of nodes: 134\n",
      "Number of edges: 134\n",
      "Average in degree:   1.0000\n",
      "Average out degree:   1.0000\n",
      "Name: article1001.gml\n",
      "Type: MultiGraph\n",
      "Number of nodes: 134\n",
      "Number of edges: 134\n",
      "Average degree:   2.0000\n",
      "----------------------------------------\n",
      "../output/network/negative/article1021.gml\n",
      "Name: article1021.gml\n",
      "Type: MultiDiGraph\n",
      "Number of nodes: 64\n",
      "Number of edges: 64\n",
      "Average in degree:   1.0000\n",
      "Average out degree:   1.0000\n",
      "Name: article1021.gml\n",
      "Type: MultiGraph\n",
      "Number of nodes: 64\n",
      "Number of edges: 64\n",
      "Average degree:   2.0000\n",
      "----------------------------------------\n",
      "../output/network/negative/article152.gml\n",
      "Name: article152.gml\n",
      "Type: MultiDiGraph\n",
      "Number of nodes: 78\n",
      "Number of edges: 67\n",
      "Average in degree:   0.8590\n",
      "Average out degree:   0.8590\n",
      "Name: article152.gml\n",
      "Type: MultiGraph\n",
      "Number of nodes: 78\n",
      "Number of edges: 67\n",
      "Average degree:   1.7179\n",
      "----------------------------------------\n",
      "../output/network/negative/article2308.gml\n",
      "Name: article2308.gml\n",
      "Type: MultiDiGraph\n",
      "Number of nodes: 66\n",
      "Number of edges: 56\n",
      "Average in degree:   0.8485\n",
      "Average out degree:   0.8485\n",
      "Name: article2308.gml\n",
      "Type: MultiGraph\n",
      "Number of nodes: 66\n",
      "Number of edges: 56\n",
      "Average degree:   1.6970\n",
      "----------------------------------------\n",
      "../output/network/negative/article3335.gml\n",
      "Name: article3335.gml\n",
      "Type: MultiDiGraph\n",
      "Number of nodes: 120\n",
      "Number of edges: 128\n",
      "Average in degree:   1.0667\n",
      "Average out degree:   1.0667\n",
      "Name: article3335.gml\n",
      "Type: MultiGraph\n",
      "Number of nodes: 120\n",
      "Number of edges: 127\n",
      "Average degree:   2.1167\n",
      "----------------------------------------\n",
      "../output/network/negative/article4106.gml\n",
      "Name: article4106.gml\n",
      "Type: MultiDiGraph\n",
      "Number of nodes: 38\n",
      "Number of edges: 36\n",
      "Average in degree:   0.9474\n",
      "Average out degree:   0.9474\n",
      "Name: article4106.gml\n",
      "Type: MultiGraph\n",
      "Number of nodes: 38\n",
      "Number of edges: 36\n",
      "Average degree:   1.8947\n",
      "----------------------------------------\n",
      "../output/network/negative/article432.gml\n",
      "Name: article432.gml\n",
      "Type: MultiDiGraph\n",
      "Number of nodes: 100\n",
      "Number of edges: 96\n",
      "Average in degree:   0.9600\n",
      "Average out degree:   0.9600\n",
      "Name: article432.gml\n",
      "Type: MultiGraph\n",
      "Number of nodes: 100\n",
      "Number of edges: 94\n",
      "Average degree:   1.8800\n",
      "----------------------------------------\n",
      "../output/network/negative/article5164.gml\n",
      "Name: article5164.gml\n",
      "Type: MultiDiGraph\n",
      "Number of nodes: 104\n",
      "Number of edges: 119\n",
      "Average in degree:   1.1442\n",
      "Average out degree:   1.1442\n",
      "Name: article5164.gml\n",
      "Type: MultiGraph\n",
      "Number of nodes: 104\n",
      "Number of edges: 116\n",
      "Average degree:   2.2308\n",
      "----------------------------------------\n",
      "../output/network/negative/article5717.gml\n",
      "Name: article5717.gml\n",
      "Type: MultiDiGraph\n",
      "Number of nodes: 62\n",
      "Number of edges: 62\n",
      "Average in degree:   1.0000\n",
      "Average out degree:   1.0000\n",
      "Name: article5717.gml\n",
      "Type: MultiGraph\n",
      "Number of nodes: 62\n",
      "Number of edges: 62\n",
      "Average degree:   2.0000\n",
      "----------------------------------------\n",
      "../output/network/negative/article5813.gml\n",
      "Name: article5813.gml\n",
      "Type: MultiDiGraph\n",
      "Number of nodes: 50\n",
      "Number of edges: 54\n",
      "Average in degree:   1.0800\n",
      "Average out degree:   1.0800\n",
      "Name: article5813.gml\n",
      "Type: MultiGraph\n",
      "Number of nodes: 50\n",
      "Number of edges: 53\n",
      "Average degree:   2.1200\n",
      "----------------------------------------\n",
      "../output/network/negative/article621.gml\n",
      "Name: article621.gml\n",
      "Type: MultiDiGraph\n",
      "Number of nodes: 30\n",
      "Number of edges: 32\n",
      "Average in degree:   1.0667\n",
      "Average out degree:   1.0667\n",
      "Name: article621.gml\n",
      "Type: MultiGraph\n",
      "Number of nodes: 30\n",
      "Number of edges: 32\n",
      "Average degree:   2.1333\n",
      "----------------------------------------\n",
      "../output/network/negative/article683.gml\n",
      "Name: article683.gml\n",
      "Type: MultiDiGraph\n",
      "Number of nodes: 234\n",
      "Number of edges: 236\n",
      "Average in degree:   1.0085\n",
      "Average out degree:   1.0085\n",
      "Name: article683.gml\n",
      "Type: MultiGraph\n",
      "Number of nodes: 234\n",
      "Number of edges: 235\n",
      "Average degree:   2.0085\n",
      "----------------------------------------\n",
      "../output/network/negative/article703.gml\n",
      "Name: article703.gml\n",
      "Type: MultiDiGraph\n",
      "Number of nodes: 282\n",
      "Number of edges: 280\n",
      "Average in degree:   0.9929\n",
      "Average out degree:   0.9929\n",
      "Name: article703.gml\n",
      "Type: MultiGraph\n",
      "Number of nodes: 282\n",
      "Number of edges: 280\n",
      "Average degree:   1.9858\n",
      "----------------------------------------\n",
      "../output/network/negative/article774.gml\n",
      "Name: article774.gml\n",
      "Type: MultiDiGraph\n",
      "Number of nodes: 57\n",
      "Number of edges: 54\n",
      "Average in degree:   0.9474\n",
      "Average out degree:   0.9474\n",
      "Name: article774.gml\n",
      "Type: MultiGraph\n",
      "Number of nodes: 57\n",
      "Number of edges: 53\n",
      "Average degree:   1.8596\n",
      "----------------------------------------\n",
      "../output/network/negative/article782.gml\n",
      "Name: article782.gml\n",
      "Type: MultiDiGraph\n",
      "Number of nodes: 84\n",
      "Number of edges: 77\n",
      "Average in degree:   0.9167\n",
      "Average out degree:   0.9167\n",
      "Name: article782.gml\n",
      "Type: MultiGraph\n",
      "Number of nodes: 84\n",
      "Number of edges: 77\n",
      "Average degree:   1.8333\n",
      "----------------------------------------\n",
      "../output/network/negative/article99.gml\n",
      "Name: article99.gml\n",
      "Type: MultiDiGraph\n",
      "Number of nodes: 45\n",
      "Number of edges: 46\n",
      "Average in degree:   1.0222\n",
      "Average out degree:   1.0222\n",
      "Name: article99.gml\n",
      "Type: MultiGraph\n",
      "Number of nodes: 45\n",
      "Number of edges: 44\n",
      "Average degree:   1.9556\n"
     ]
    }
   ],
   "source": [
    "# graph = directed, ugraph = undirected\n",
    "\n",
    "for graph_num, gml_graph in enumerate(gml_files):\n",
    "    graph = nx.read_gml(gml_graph)\n",
    "    ugraph = graph.to_undirected() ## to undirected graph\n",
    "    ###\n",
    "#    U = graph.to_undirected(reciprocal=True)\n",
    "#    e = U.edges()\n",
    "#    ugraph.add_edges_from(e)\n",
    "    ###\n",
    "    (filepath, filename) = os.path.split(gml_graph)\n",
    "    print('-' * 40)\n",
    "    print(gml_graph)\n",
    "    calculate_graph_inf(graph)\n",
    "    calculate_graph_inf(ugraph)\n",
    "\n",
    "    # calculate variables\n",
    "    \n",
    "    sent = filepath.split('/')[-1]\n",
    "    nodes = nx.number_of_nodes(graph)\n",
    "    edges = nx.number_of_edges(graph)\n",
    "    density = float(\"{0:.4f}\".format(nx.density(graph)))\n",
    "    avg_deg_cen = np.array(nx.degree_centrality(graph).values()).mean()\n",
    "    avg_bet_cen = np.array(nx.betweenness_centrality(graph).values()).mean()\n",
    "    avg_clo_cen = np.array(nx.closeness_centrality(graph).values()).mean()\n",
    "    in_deg = sum(graph.in_degree().values())/float(nx.number_of_nodes(graph))\n",
    "    out_deg = sum(graph.out_degree().values())/float(nx.number_of_nodes(graph))\n",
    "    avg_deg = float(\"{0:.4f}\".format(in_deg + out_deg))\n",
    "    strong_comp = nx.number_strongly_connected_components(graph)\n",
    "    weak_comp =  nx.number_weakly_connected_components(graph)\n",
    "    avg_node_con = float(\"{0:.4f}\".format((nx.average_node_connectivity(graph))))\n",
    "    deg_assort_coeff = float(\"{0:.4f}\".format((nx.degree_assortativity_coefficient(graph))))\n",
    "    conn_comp = nx.number_connected_components(ugraph)\n",
    "    deg_cen = nx.degree_centrality(graph)\n",
    "    bet_cen = nx.betweenness_centrality(graph)\n",
    "    clo_cen = nx.closeness_centrality(graph)\n",
    "    highest_deg_cen = highest_centrality(deg_cen)\n",
    "    highest_bet_cen = highest_centrality(bet_cen)\n",
    "    highest_clo_cen = highest_centrality(clo_cen)\n",
    "\n",
    "    # save variables into list\n",
    "\n",
    "    graph_values = {'name':filename,\n",
    "                    'sentiment':sent,\n",
    "                    '# nodes':nodes,\n",
    "                    '# edges':edges,\n",
    "                    'avg degree':avg_deg,\n",
    "                    'density':density,\n",
    "                    'avg deg cent':\"%.4f\" % avg_deg_cen,\n",
    "                    'avg bet cent':\"%.4f\" % avg_bet_cen,\n",
    "                    'avg clo cent':\"%.4f\" % avg_clo_cen,\n",
    "                    'highest degc':highest_deg_cen,\n",
    "                    'highest betc':highest_bet_cen,\n",
    "                    'highest cloc':highest_clo_cen,\n",
    "                    'avg in-deg':\"%.4f\" % in_deg,\n",
    "                    'avg out-deg':\"%.4f\" % out_deg,\n",
    "                    '# strong comp':strong_comp,\n",
    "                    '# weak comp':weak_comp,\n",
    "                    '# conn comp':conn_comp,\n",
    "                    'avg node connect':avg_node_con,\n",
    "                    'deg assort coeff':deg_assort_coeff\n",
    "                    }\n",
    "    \n",
    "    network_data = network_data.append(graph_values, ignore_index=True)\n",
    "    \n",
    "    if graph_num == 20:\n",
    "        break"
   ]
  },
  {
   "cell_type": "code",
   "execution_count": null,
   "metadata": {
    "collapsed": false,
    "scrolled": false
   },
   "outputs": [],
   "source": [
    "network_data"
   ]
  },
  {
   "cell_type": "code",
   "execution_count": null,
   "metadata": {
    "collapsed": false
   },
   "outputs": [],
   "source": []
  },
  {
   "cell_type": "code",
   "execution_count": null,
   "metadata": {
    "collapsed": false
   },
   "outputs": [],
   "source": []
  },
  {
   "cell_type": "code",
   "execution_count": null,
   "metadata": {
    "collapsed": false,
    "scrolled": true
   },
   "outputs": [],
   "source": [
    "print graph"
   ]
  },
  {
   "cell_type": "code",
   "execution_count": null,
   "metadata": {
    "collapsed": false
   },
   "outputs": [],
   "source": []
  },
  {
   "cell_type": "code",
   "execution_count": null,
   "metadata": {
    "collapsed": true
   },
   "outputs": [],
   "source": []
  },
  {
   "cell_type": "markdown",
   "metadata": {},
   "source": [
    "- - -"
   ]
  },
  {
   "cell_type": "markdown",
   "metadata": {},
   "source": [
    "# Drawing"
   ]
  },
  {
   "cell_type": "code",
   "execution_count": null,
   "metadata": {
    "collapsed": true
   },
   "outputs": [],
   "source": [
    "# read gml file\n",
    "graph = nx.read_gml()\n",
    "ugraph = graph.to_undirected()"
   ]
  },
  {
   "cell_type": "code",
   "execution_count": null,
   "metadata": {
    "collapsed": true
   },
   "outputs": [],
   "source": [
    "# plot spring layout\n",
    "plt.figure(figsize=(11,11))\n",
    "nx.draw_spring(graph, arrows=True, with_labels=True)\n",
    "\n",
    "#plot circular layout\n",
    "plt.figure(figsize=(12,12))\n",
    "nx.draw_circular(graph, arrows=True, with_labels=True)"
   ]
  },
  {
   "cell_type": "markdown",
   "metadata": {
    "collapsed": true
   },
   "source": [
    "- - -"
   ]
  },
  {
   "cell_type": "markdown",
   "metadata": {},
   "source": [
    "# Analysis\n",
    "\n",
    "### Degree histogram\n",
    "Return a list of the frequency of each degree value; degree values are the index in the list"
   ]
  },
  {
   "cell_type": "code",
   "execution_count": null,
   "metadata": {
    "collapsed": false
   },
   "outputs": [],
   "source": [
    "# returns a list of frequencies of degrees\n",
    "print (\"undirected graph =\"), nx.degree_histogram(ugraph)\n",
    "print (\"directed graph =\"), nx.degree_histogram(graph)"
   ]
  },
  {
   "cell_type": "code",
   "execution_count": null,
   "metadata": {
    "collapsed": false
   },
   "outputs": [],
   "source": [
    "# degree rank plot\n",
    "# only for undirected type\n",
    "\n",
    "degree_sequence=sorted(nx.degree(ugraph).values(),reverse=True) # degree sequence\n",
    "#print \"Degree sequence\", degree_sequence\n",
    "dmax=max(degree_sequence)\n",
    "\n",
    "plt.loglog(degree_sequence,'b-',marker='o')\n",
    "plt.title(\"Degree rank plot\")\n",
    "plt.ylabel(\"degree\")\n",
    "plt.xlabel(\"rank\")\n",
    "\n",
    "# draw graph in inset\n",
    "plt.axes([0.45,0.45,0.45,0.45])\n",
    "Gcc=sorted(nx.connected_component_subgraphs(ugraph), key = len, reverse=True)[0]\n",
    "pos=nx.spring_layout(Gcc)\n",
    "plt.axis('off')\n",
    "nx.draw_networkx_nodes(Gcc,pos,node_size=20)\n",
    "nx.draw_networkx_edges(Gcc,pos,alpha=0.4)\n",
    "\n",
    "plt.show()"
   ]
  },
  {
   "cell_type": "markdown",
   "metadata": {},
   "source": [
    "### Density\n",
    "Notes: The density is 0 for a graph without edges, and density = 1 for a complete graph. The density of multigraphs can be higher than 1 (self loops are counted in the total number of edges, so graphs with self loops can have density higher than 1)."
   ]
  },
  {
   "cell_type": "code",
   "execution_count": null,
   "metadata": {
    "collapsed": false
   },
   "outputs": [],
   "source": [
    "print \"undirected graph =\", nx.density(ugraph)\n",
    "print \"directed graph =\", nx.density(graph)"
   ]
  },
  {
   "cell_type": "code",
   "execution_count": null,
   "metadata": {
    "collapsed": false
   },
   "outputs": [],
   "source": [
    "# nx.diameter()\n",
    "\n",
    "# nx.center()"
   ]
  },
  {
   "cell_type": "markdown",
   "metadata": {
    "collapsed": true
   },
   "source": [
    "### Degree centrality\n",
    "Degree centrality for a node v is the fraction of nodes it is connected to"
   ]
  },
  {
   "cell_type": "code",
   "execution_count": null,
   "metadata": {
    "collapsed": false
   },
   "outputs": [],
   "source": [
    "# get all the values of the dictionary, this returns a list of centrality scores\n",
    "# turn the list into a numpy array\n",
    "# take the mean of the numpy array\n",
    "\n",
    "print \"Degree centrality (directed) =\", np.array(nx.degree_centrality(graph).values()).mean()\n",
    "print \"Degree centrality (undirected) =\", np.array(nx.degree_centrality(ugraph).values()).mean()"
   ]
  },
  {
   "cell_type": "markdown",
   "metadata": {},
   "source": [
    "### Closeness centrality\n",
    "Closeness centrality of a node u is the reciprocal of the sum of the shortest path distances from u to all n-1 other nodes. Since the sum of distances depends on the number of nodes in the graph, closeness is normalized by the sum of minimum possible distances n-1\n",
    "Higher values of closeness indicate higher centrality"
   ]
  },
  {
   "cell_type": "code",
   "execution_count": null,
   "metadata": {
    "collapsed": false,
    "scrolled": true
   },
   "outputs": [],
   "source": [
    "# clo_cen = np.array(nx.closeness_centrality(graph).values()).mean()\n",
    "# nx.closeness_centrality(graph)\n",
    "# print \"Closeness centrality (directed) =\", np.array(nx.closeness_centrality(graph).values()).mean()\n",
    "# print \"Closeness centrality (undirected) =\", np.array(nx.closeness_centrality(ugraph).values()).mean()\n",
    "\n",
    "a = nx.closeness_centrality(graph)\n",
    "dfIn=pd.DataFrame.from_dict(a,orient='index')\n",
    "dfIn.columns = ['closeness centrality']\n",
    "dfIn = dfIn.sort_values(by=['closeness centrality'])\n",
    "dfIn"
   ]
  },
  {
   "cell_type": "markdown",
   "metadata": {},
   "source": [
    "### Betweenness centrality\n",
    "Betweenness centrality of a node v is the sum of the fraction of all pairs shortest paths that pass through v\n",
    "Compute the shortest-path betweenness centrality for nodes"
   ]
  },
  {
   "cell_type": "code",
   "execution_count": null,
   "metadata": {
    "collapsed": false,
    "scrolled": true
   },
   "outputs": [],
   "source": [
    "# nx.betweenness_centrality(graph)\n",
    "# bet_cen = np.array(nx.betweenness_centrality(graph).values()).mean()\n",
    "\n",
    "# print \"Betweenness centrality (directed) =\", nx.betweenness_centrality(graph)\n",
    "print \"Betweenness centrality (directed) =\", np.array(nx.betweenness_centrality(graph).values()).mean()\n",
    "print \"Betweenness centrality (undirected) =\", np.array(nx.betweenness_centrality(ugraph).values()).mean()\n",
    "\n",
    "a = nx.betweenness_centrality(graph)\n",
    "dfIn=pd.DataFrame.from_dict(a,orient='index')\n",
    "dfIn.columns = ['betweenness centrality']\n",
    "dfIn = dfIn.sort_values(by=['betweenness centrality'])\n",
    "dfIn"
   ]
  },
  {
   "cell_type": "markdown",
   "metadata": {},
   "source": [
    "### Current-flow betweenness centrality\n",
    "Current-flow betweenness centrality uses an electrical current model for information spreading in contrast to betweenness centrality which uses shortest paths. Current-flow betweenness centrality is also known as random-walk betweenness centrality"
   ]
  },
  {
   "cell_type": "code",
   "execution_count": null,
   "metadata": {
    "collapsed": false
   },
   "outputs": [],
   "source": [
    "# run for largest component\n",
    "# graph must be connected\n",
    "# print nx.current_flow_betweenness_centrality(graph)"
   ]
  },
  {
   "cell_type": "markdown",
   "metadata": {},
   "source": [
    "### Degree assortativity coefficient"
   ]
  },
  {
   "cell_type": "code",
   "execution_count": null,
   "metadata": {
    "collapsed": false
   },
   "outputs": [],
   "source": [
    "#deg_ac = nx.degree_assortativity_coefficient(graph)\n",
    "print \"Degree assortativity coefficient (directed) =\", nx.degree_assortativity_coefficient(graph)\n",
    "print \"Degree assortativity coefficient (undirected) =\", nx.degree_assortativity_coefficient(ugraph)"
   ]
  },
  {
   "cell_type": "markdown",
   "metadata": {},
   "source": [
    "### Clustering coefficient"
   ]
  },
  {
   "cell_type": "code",
   "execution_count": null,
   "metadata": {
    "collapsed": false,
    "scrolled": true
   },
   "outputs": [],
   "source": [
    "# (cannot be multigraph)\n",
    "# nx.average_clustering(ugraph)"
   ]
  },
  {
   "cell_type": "markdown",
   "metadata": {},
   "source": [
    "### Average node connectivity\n",
    "The average connectivity \\bar{\\kappa} of a graph G is the average of local node connectivity over all pairs of nodes of G"
   ]
  },
  {
   "cell_type": "code",
   "execution_count": null,
   "metadata": {
    "collapsed": false
   },
   "outputs": [],
   "source": [
    "# nx.edge_connectivity(graph)\n",
    "# nx.node_connectivity(graph)\n",
    "\n",
    "# avg_node_con = nx.average_node_connectivity(graph)\n",
    "print \"Average node connectivity (directed) =\", nx.average_node_connectivity(graph)\n",
    "print \"Average node connectivity (undirected) =\", nx.average_node_connectivity(ugraph)"
   ]
  },
  {
   "cell_type": "code",
   "execution_count": null,
   "metadata": {
    "collapsed": false
   },
   "outputs": [],
   "source": [
    "# intersection_all()\n",
    "# return a new graph that contains only the edges that exist in all graphs\n",
    "# all supplied graphs must have the same node set"
   ]
  },
  {
   "cell_type": "raw",
   "metadata": {
    "collapsed": false
   },
   "source": [
    "### Summary\n",
    "print info\n",
    "print \"Density =\"\n",
    "print \"Degree centrality =\"\n",
    "print \"Closeness centrality =\"\n",
    "print \"Betweenness centrality =\"\n",
    "print \"Degree assortativity coefficient =\"\n",
    "print \"Degree pearson correlation coefficient =\"\n",
    "print \"Average node connectivity =\"\n",
    "#print \"Closeness vitality =\""
   ]
  }
 ],
 "metadata": {
  "kernelspec": {
   "display_name": "Python 2",
   "language": "python",
   "name": "python2"
  },
  "language_info": {
   "codemirror_mode": {
    "name": "ipython",
    "version": 2
   },
   "file_extension": ".py",
   "mimetype": "text/x-python",
   "name": "python",
   "nbconvert_exporter": "python",
   "pygments_lexer": "ipython2",
   "version": "2.7.10"
  }
 },
 "nbformat": 4,
 "nbformat_minor": 0
}
