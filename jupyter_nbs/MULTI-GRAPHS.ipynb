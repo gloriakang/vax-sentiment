{
 "cells": [
  {
   "cell_type": "markdown",
   "metadata": {
    "collapsed": true
   },
   "source": [
    "## multi-graph\n",
    "0. Network-wide statistics\n"
   ]
  },
  {
   "cell_type": "code",
   "execution_count": 1,
   "metadata": {
    "collapsed": false,
    "scrolled": true
   },
   "outputs": [],
   "source": [
    "import networkx as nx\n",
    "import numpy as np\n",
    "import pandas as pd\n",
    "import matplotlib.pyplot as plt\n",
    "%matplotlib inline\n",
    "import os\n",
    "from glob import glob\n",
    "\n",
    "gml_files = glob('../output/network/*/*.gml')"
   ]
  },
  {
   "cell_type": "code",
   "execution_count": 2,
   "metadata": {
    "collapsed": false
   },
   "outputs": [],
   "source": [
    "def calculate_graph_inf(graph):\n",
    "    graph.name = filename\n",
    "    info = nx.info(graph)\n",
    "    print info\n",
    "   \n",
    "    ## plot spring layout\n",
    "    # plt.figure(figsize=(10,10))\n",
    "    # nx.draw_spring(graph, arrows=True, with_labels=True)"
   ]
  },
  {
   "cell_type": "code",
   "execution_count": 15,
   "metadata": {
    "collapsed": false
   },
   "outputs": [
    {
     "name": "stdout",
     "output_type": "stream",
     "text": [
      "----------------------------------------\n",
      "../output/network/positive/article2.gml\n",
      "Name: article2.gml\n",
      "Type: MultiDiGraph\n",
      "Number of nodes: 28\n",
      "Number of edges: 23\n",
      "Average in degree:   0.8214\n",
      "Average out degree:   0.8214\n",
      "Name: article2.gml\n",
      "Type: MultiGraph\n",
      "Number of nodes: 28\n",
      "Number of edges: 23\n",
      "Average degree:   1.6429\n",
      "----------------------------------------\n",
      "../output/network/positive/article1804.gml\n",
      "Name: article1804.gml\n",
      "Type: MultiDiGraph\n",
      "Number of nodes: 42\n",
      "Number of edges: 50\n",
      "Average in degree:   1.1905\n",
      "Average out degree:   1.1905\n",
      "Name: article1804.gml\n",
      "Type: MultiGraph\n",
      "Number of nodes: 42\n",
      "Number of edges: 49\n",
      "Average degree:   2.3333\n"
     ]
    }
   ],
   "source": [
    "#graph = directed, ugraph = undirected\n",
    "\n",
    "for graph_num, gml_graph in enumerate(gml_files):\n",
    "    graph = nx.read_gml(gml_graph)\n",
    "    ugraph = graph.to_undirected() ## to undirected graph\n",
    "    (filepath, filename) = os.path.split(gml_graph)\n",
    "    print('-' * 40)\n",
    "    print(gml_graph)\n",
    "    calculate_graph_inf(graph)\n",
    "    calculate_graph_inf(ugraph)\n",
    "    if graph_num == 1:\n",
    "        break"
   ]
  },
  {
   "cell_type": "code",
   "execution_count": null,
   "metadata": {
    "collapsed": false
   },
   "outputs": [],
   "source": [
    "# create empty dataframe with columns\n",
    "\n",
    "# undirected graphs\n",
    "# undirected_data_columns = ['name',\n",
    "#                           '# connected comp']\n",
    "#undirected_data = pd.DataFrame(columns = undirected_data_columns)"
   ]
  },
  {
   "cell_type": "code",
   "execution_count": 23,
   "metadata": {
    "collapsed": false
   },
   "outputs": [],
   "source": [
    "# calculate variables\n",
    "\n",
    "def stats(graph):\n",
    "    network_data_columns = ['name',\n",
    "                        'sentiment',\n",
    "                        'nodes',\n",
    "                        'edges',\n",
    "                        'avg degree',\n",
    "                        'density',\n",
    "                        'deg centrality',\n",
    "                        'bet centrality',\n",
    "                        'clo centrality',\n",
    "                        'in-deg',\n",
    "                        'out-deg',\n",
    "                        'strong comp',\n",
    "                        'weak comp',\n",
    "                        'avg node connect',\n",
    "                        'deg assort coeff']\n",
    "    network_data = pd.DataFrame(columns = network_data_columns)\n",
    "\n",
    "    sent = filepath.split('/')[-1]\n",
    "    nodes = nx.number_of_nodes(graph)\n",
    "    edges = nx.number_of_edges(graph)\n",
    "    density = nx.density(graph)\n",
    "    deg_cen = np.array(nx.degree_centrality(graph).values()).mean()\n",
    "    bet_cen = np.array(nx.betweenness_centrality(graph).values()).mean()\n",
    "    clo_cen = np.array(nx.closeness_centrality(graph).values()).mean()\n",
    "    in_deg = 'x' #np.array(nx.in_degree_centrality(graph).values()).mean()\n",
    "    out_deg = 'x' #np.array(nx.out_degree_centrality(graph).values()).mean()\n",
    "    avg_deg = 'x'\n",
    "    strong_comp = nx.number_strongly_connected_components(graph)\n",
    "    weak_comp =  nx.number_weakly_connected_components(graph)\n",
    "    avg_node_con = nx.average_node_connectivity(graph)\n",
    "    deg_assort_coe = nx.degree_assortativity_coefficient(graph)\n",
    "    conn_comp = nx.number_connected_components(ugraph)\n",
    "    \n",
    "    graph_values = {'name':filename,\n",
    "                    'sentiment':sent,\n",
    "                    'nodes':nodes,\n",
    "                    'edges':edges,\n",
    "                    'avg degree':avg_deg,\n",
    "                    'density':density,\n",
    "                    'deg centrality':deg_cen,\n",
    "                    'bet centrality':bet_cen,\n",
    "                    'clo centrality':clo_cen,\n",
    "                    'in-deg':in_deg,\n",
    "                    'out-deg':out_deg,\n",
    "                    'strong comp':strong_comp,\n",
    "                    'weak comp':weak_comp,\n",
    "                    'avg node connect':avg_node_con,\n",
    "                    'deg assort coeff':deg_assort_coe}\n",
    "    network_data = network_data.append(graph_values, ignore_index=True)\n",
    "    print network_data"
   ]
  },
  {
   "cell_type": "code",
   "execution_count": 24,
   "metadata": {
    "collapsed": false
   },
   "outputs": [
    {
     "name": "stdout",
     "output_type": "stream",
     "text": [
      "              name sentiment  nodes  edges avg degree   density  \\\n",
      "0  article1804.gml  positive     42     50          x  0.029036   \n",
      "\n",
      "   deg centrality  bet centrality  clo centrality in-deg out-deg  strong comp  \\\n",
      "0        0.058072        0.001118        0.038852      x       x           41   \n",
      "\n",
      "   weak comp  avg node connect  deg assort coeff  \n",
      "0          6          0.068525          0.089747  \n"
     ]
    }
   ],
   "source": [
    "all_data = pd.DataFrame(stats(graph))"
   ]
  },
  {
   "cell_type": "code",
   "execution_count": null,
   "metadata": {
    "collapsed": false,
    "scrolled": true
   },
   "outputs": [],
   "source": []
  },
  {
   "cell_type": "code",
   "execution_count": null,
   "metadata": {
    "collapsed": false
   },
   "outputs": [],
   "source": [
    "#for i in gml_files:\n",
    "#    graph = nx.read_gml(gml_files)\n",
    "#    stats(graph)\n",
    "#    network_data.append(graph_values, ignore_index=True)"
   ]
  },
  {
   "cell_type": "code",
   "execution_count": null,
   "metadata": {
    "collapsed": false
   },
   "outputs": [],
   "source": [
    "# save variables into list -- name:variable\n",
    "# append dataframe for network-wide statistics\n",
    "\n",
    "for i in gml_files:\n",
    "    graph = nx.read_gml(gml_files[4])\n",
    "    network_data.append(graph_values, ignore_index=True)"
   ]
  },
  {
   "cell_type": "code",
   "execution_count": null,
   "metadata": {
    "collapsed": false
   },
   "outputs": [],
   "source": []
  },
  {
   "cell_type": "code",
   "execution_count": null,
   "metadata": {
    "collapsed": false
   },
   "outputs": [],
   "source": []
  },
  {
   "cell_type": "code",
   "execution_count": null,
   "metadata": {
    "collapsed": false
   },
   "outputs": [],
   "source": []
  },
  {
   "cell_type": "code",
   "execution_count": null,
   "metadata": {
    "collapsed": false
   },
   "outputs": [],
   "source": []
  },
  {
   "cell_type": "markdown",
   "metadata": {
    "collapsed": false
   },
   "source": [
    "- - -"
   ]
  },
  {
   "cell_type": "markdown",
   "metadata": {},
   "source": [
    "## Network-wide variable calculations"
   ]
  },
  {
   "cell_type": "code",
   "execution_count": null,
   "metadata": {
    "collapsed": false
   },
   "outputs": [],
   "source": [
    "# degree histogram: returns a list of frequencies of degrees\n",
    "nx.degree_histogram(graph)"
   ]
  },
  {
   "cell_type": "code",
   "execution_count": null,
   "metadata": {
    "collapsed": false
   },
   "outputs": [],
   "source": [
    "# degree centrality\n",
    "#nx.degree_centrality(graph)\n",
    "a = nx.degree_centrality(graph)\n",
    "dfIn=pd.DataFrame.from_dict(a,orient='index')\n",
    "dfIn.columns = ['degree centrality']\n",
    "dfIn = dfIn.sort_values(by=['degree centrality'])\n",
    "dfIn"
   ]
  },
  {
   "cell_type": "code",
   "execution_count": null,
   "metadata": {
    "collapsed": false
   },
   "outputs": [],
   "source": [
    "# betweenness centrality\n",
    "#nx.betweenness_centrality(graph)\n",
    "a = nx.betweenness_centrality(graph)\n",
    "dfIn=pd.DataFrame.from_dict(a,orient='index')\n",
    "dfIn.columns = ['betweenness centrality']\n",
    "dfIn = dfIn.sort_values(by=['betweenness centrality'])\n",
    "dfIn"
   ]
  },
  {
   "cell_type": "code",
   "execution_count": null,
   "metadata": {
    "collapsed": false
   },
   "outputs": [],
   "source": [
    "# closeness centrality\n",
    "#nx.closeness_centrality(graph).values()\n",
    "a = nx.closeness_centrality(graph)\n",
    "dfIn=pd.DataFrame.from_dict(a,orient='index')\n",
    "dfIn.columns = ['closeness centrality']\n",
    "dfIn = dfIn.sort_values(by=['closeness centrality'])\n",
    "dfIn"
   ]
  },
  {
   "cell_type": "code",
   "execution_count": null,
   "metadata": {
    "collapsed": false
   },
   "outputs": [],
   "source": [
    "# in degree centrality\n",
    "a = nx.in_degree_centrality(graph)\n",
    "dfIn=pd.DataFrame.from_dict(a,orient='index')\n",
    "dfIn.columns = ['in deg centrality']\n",
    "dfIn = dfIn.sort_values(by=['in deg centrality'])\n",
    "dfIn"
   ]
  },
  {
   "cell_type": "code",
   "execution_count": null,
   "metadata": {
    "collapsed": false
   },
   "outputs": [],
   "source": [
    "# out degree centrality\n",
    "b = nx.out_degree_centrality(graph)\n",
    "dfIn=pd.DataFrame.from_dict(b,orient='index')\n",
    "dfIn.columns = ['out deg centrality']\n",
    "dfIn = dfIn.sort_values(by=['out deg centrality'])\n",
    "dfIn"
   ]
  },
  {
   "cell_type": "markdown",
   "metadata": {},
   "source": [
    "- - -"
   ]
  },
  {
   "cell_type": "code",
   "execution_count": null,
   "metadata": {
    "collapsed": true
   },
   "outputs": [],
   "source": []
  },
  {
   "cell_type": "code",
   "execution_count": null,
   "metadata": {
    "collapsed": true
   },
   "outputs": [],
   "source": []
  },
  {
   "cell_type": "code",
   "execution_count": null,
   "metadata": {
    "collapsed": true
   },
   "outputs": [],
   "source": [
    "# current-flow betweenness centrality (graph must be connected; run for largest component)\n",
    "#nx.current_flow_betweenness_centrality(graph)\n",
    "\n",
    "# eigenvector centrality\n",
    "\n",
    "# degree assortativity coefficient\n",
    "# average neighbor degree; average degree connectivity (k nearest neighbors)\n",
    "\n",
    "#nx.edge_connectivity(graph)\n",
    "#nx.node_connectivity(graph)\n",
    "\n",
    "# clustering coefficient (cannot be multigraph)\n",
    "# nx.average_clustering(graph)"
   ]
  },
  {
   "cell_type": "code",
   "execution_count": null,
   "metadata": {
    "collapsed": true
   },
   "outputs": [],
   "source": []
  },
  {
   "cell_type": "code",
   "execution_count": null,
   "metadata": {
    "collapsed": false
   },
   "outputs": [],
   "source": []
  },
  {
   "cell_type": "raw",
   "metadata": {
    "collapsed": false
   },
   "source": [
    "print \"Density =\"\n",
    "print \"Degree centrality =\"\n",
    "print \"Closeness centrality =\"\n",
    "print \"Betweenness centrality =\"\n",
    "print \"Degree assortativity coefficient =\"\n",
    "print \"Degree pearson correlation coefficient =\"\n",
    "print \"Average node connectivity =\""
   ]
  }
 ],
 "metadata": {
  "kernelspec": {
   "display_name": "Python 2",
   "language": "python",
   "name": "python2"
  },
  "language_info": {
   "codemirror_mode": {
    "name": "ipython",
    "version": 2
   },
   "file_extension": ".py",
   "mimetype": "text/x-python",
   "name": "python",
   "nbconvert_exporter": "python",
   "pygments_lexer": "ipython2",
   "version": "2.7.11"
  }
 },
 "nbformat": 4,
 "nbformat_minor": 0
}
