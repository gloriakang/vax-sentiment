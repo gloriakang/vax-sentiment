{
 "cells": [
  {
   "cell_type": "markdown",
   "metadata": {
    "collapsed": true
   },
   "source": [
    "## multi-graph\n",
    "0. Network-wide statistics\n"
   ]
  },
  {
   "cell_type": "code",
   "execution_count": 1,
   "metadata": {
    "collapsed": false,
    "scrolled": true
   },
   "outputs": [],
   "source": [
    "import networkx as nx\n",
    "import numpy as np\n",
    "import pandas as pd\n",
    "import matplotlib.pyplot as plt\n",
    "%matplotlib inline\n",
    "import os\n",
    "from glob import glob\n",
    "\n",
    "gml_files = glob('../output/network/*/*.gml')"
   ]
  },
  {
   "cell_type": "code",
   "execution_count": 2,
   "metadata": {
    "collapsed": false
   },
   "outputs": [],
   "source": [
    "def calculate_graph_inf(graph):\n",
    "    graph.name = filename\n",
    "    info = nx.info(graph)\n",
    "    print info\n",
    "    ## plot spring layout\n",
    "    # plt.figure(figsize=(10,10))\n",
    "    # nx.draw_spring(graph, arrows=True, with_labels=True)\n",
    "\n",
    "    \n",
    "def highest_centrality(cent_dict):\n",
    "    \"\"\"Returns a tuple (node,value) with the node\n",
    "    with largest value from centrality dictionary.\"\"\"\n",
    "    # create ordered tuple of centrality data\n",
    "    cent_items = [(b,a) for (a,b) in cent_dict.iteritems()]\n",
    "    \n",
    "    # sort in descending order\n",
    "    cent_items.sort()\n",
    "    cent_items.reverse()\n",
    "    \n",
    "    return tuple(reversed(cent_items[0]))"
   ]
  },
  {
   "cell_type": "code",
   "execution_count": 3,
   "metadata": {
    "collapsed": false,
    "scrolled": true
   },
   "outputs": [
    {
     "name": "stdout",
     "output_type": "stream",
     "text": [
      "----------------------------------------\n",
      "../output/network/positive/article2.gml\n",
      "Name: article2.gml\n",
      "Type: MultiDiGraph\n",
      "Number of nodes: 28\n",
      "Number of edges: 23\n",
      "Average in degree:   0.8214\n",
      "Average out degree:   0.8214\n",
      "Name: article2.gml\n",
      "Type: MultiGraph\n",
      "Number of nodes: 28\n",
      "Number of edges: 23\n",
      "Average degree:   1.6429\n",
      "----------------------------------------\n",
      "../output/network/positive/article1804.gml\n",
      "Name: article1804.gml\n",
      "Type: MultiDiGraph\n",
      "Number of nodes: 42\n",
      "Number of edges: 50\n",
      "Average in degree:   1.1905\n",
      "Average out degree:   1.1905\n",
      "Name: article1804.gml\n",
      "Type: MultiGraph\n",
      "Number of nodes: 42\n",
      "Number of edges: 49\n",
      "Average degree:   2.3333\n",
      "----------------------------------------\n",
      "../output/network/positive/article6247.gml\n",
      "Name: article6247.gml\n",
      "Type: MultiDiGraph\n",
      "Number of nodes: 109\n",
      "Number of edges: 96\n",
      "Average in degree:   0.8807\n",
      "Average out degree:   0.8807\n",
      "Name: article6247.gml\n",
      "Type: MultiGraph\n",
      "Number of nodes: 109\n",
      "Number of edges: 96\n",
      "Average degree:   1.7615\n"
     ]
    }
   ],
   "source": [
    "#graph = directed, ugraph = undirected\n",
    "\n",
    "for graph_num, gml_graph in enumerate(gml_files):\n",
    "    graph = nx.read_gml(gml_graph)\n",
    "    ugraph = graph.to_undirected() ## to undirected graph\n",
    "    (filepath, filename) = os.path.split(gml_graph)\n",
    "    print('-' * 40)\n",
    "    print(gml_graph)\n",
    "    calculate_graph_inf(graph)\n",
    "    calculate_graph_inf(ugraph)\n",
    "    if graph_num == 2:\n",
    "        break"
   ]
  },
  {
   "cell_type": "code",
   "execution_count": 4,
   "metadata": {
    "collapsed": false
   },
   "outputs": [],
   "source": [
    "# create empty dataframe with columns\n",
    "\n",
    "network_data_columns = ['name',\n",
    "                    'sentiment',\n",
    "                    '# nodes',\n",
    "                    '# edges',\n",
    "                    'avg degree',\n",
    "                    'density',\n",
    "                    'avg deg cent',\n",
    "                    'avg bet cent',\n",
    "                    'avg clo cent',\n",
    "                    'highest degc',\n",
    "                    'highest betc',\n",
    "                    'highest cloc',\n",
    "                    'avg in-deg',\n",
    "                    'avg out-deg',\n",
    "                    '# strong comp',\n",
    "                    '# weak comp',\n",
    "                    '# conn comp',\n",
    "                    'avg node connect',\n",
    "                    'deg assort coeff',\n",
    "                    ]\n",
    "\n",
    "network_data = pd.DataFrame(columns = network_data_columns)"
   ]
  },
  {
   "cell_type": "code",
   "execution_count": 5,
   "metadata": {
    "collapsed": false
   },
   "outputs": [],
   "source": [
    "# calculate variables for the first time\n",
    "\n",
    "sent = filepath.split('/')[-1]\n",
    "nodes = nx.number_of_nodes(graph)\n",
    "edges = nx.number_of_edges(graph)\n",
    "density = nx.density(graph)\n",
    "avg_deg_cen = np.array(nx.degree_centrality(graph).values()).mean()\n",
    "avg_bet_cen = np.array(nx.betweenness_centrality(graph).values()).mean()\n",
    "avg_clo_cen = np.array(nx.closeness_centrality(graph).values()).mean()\n",
    "in_deg = sum(graph.in_degree().values())/float(nx.number_of_nodes(graph))\n",
    "out_deg = sum(graph.out_degree().values())/float(nx.number_of_nodes(graph))\n",
    "avg_deg = in_deg + out_deg\n",
    "strong_comp = nx.number_strongly_connected_components(graph)\n",
    "weak_comp =  nx.number_weakly_connected_components(graph)\n",
    "avg_node_con = nx.average_node_connectivity(graph)\n",
    "deg_assort_coeff = nx.degree_assortativity_coefficient(graph)\n",
    "conn_comp = nx.number_connected_components(ugraph)\n",
    "deg_cen = nx.degree_centrality(graph)\n",
    "bet_cen = nx.betweenness_centrality(graph)\n",
    "clo_cen = nx.closeness_centrality(graph)\n",
    "highest_deg_cen = highest_centrality(deg_cen)\n",
    "highest_bet_cen = highest_centrality(bet_cen)\n",
    "highest_clo_cen = highest_centrality(clo_cen)\n",
    "\n",
    "# save variables into list -- name:variable\n",
    "# append dataframe for network-wide statistics\n",
    "\n",
    "graph_values = {'name':filename,\n",
    "                'sentiment':sent,\n",
    "                '# nodes':nodes,\n",
    "                '# edges':edges,\n",
    "                'avg degree':avg_deg,\n",
    "                'density':density,\n",
    "                'avg deg cent':avg_deg_cen,\n",
    "                'avg bet cent':avg_bet_cen,\n",
    "                'avg clo cent':avg_clo_cen,\n",
    "                'highest degc':highest_deg_cen,\n",
    "                'highest betc':highest_bet_cen,\n",
    "                'highest cloc':highest_clo_cen,\n",
    "                'avg in-deg':in_deg,\n",
    "                'avg out-deg':out_deg,\n",
    "                '# strong comp':strong_comp,\n",
    "                '# weak comp':weak_comp,\n",
    "                '# conn comp':conn_comp,\n",
    "                'avg node connect':avg_node_con,\n",
    "                'deg assort coeff':deg_assort_coeff,\n",
    "                }\n"
   ]
  },
  {
   "cell_type": "code",
   "execution_count": 8,
   "metadata": {
    "collapsed": false,
    "scrolled": false
   },
   "outputs": [],
   "source": [
    "def append_stats(network_data):\n",
    "    network_data = network_data.append(graph_values, ignore_index=True)\n",
    "    return network_data"
   ]
  },
  {
   "cell_type": "code",
   "execution_count": 9,
   "metadata": {
    "collapsed": false
   },
   "outputs": [
    {
     "data": {
      "text/html": [
       "<div>\n",
       "<table border=\"1\" class=\"dataframe\">\n",
       "  <thead>\n",
       "    <tr style=\"text-align: right;\">\n",
       "      <th></th>\n",
       "      <th>name</th>\n",
       "      <th>sentiment</th>\n",
       "      <th># nodes</th>\n",
       "      <th># edges</th>\n",
       "      <th>avg degree</th>\n",
       "      <th>density</th>\n",
       "      <th>avg deg cent</th>\n",
       "      <th>avg bet cent</th>\n",
       "      <th>avg clo cent</th>\n",
       "      <th>highest degc</th>\n",
       "      <th>highest betc</th>\n",
       "      <th>highest cloc</th>\n",
       "      <th>avg in-deg</th>\n",
       "      <th>avg out-deg</th>\n",
       "      <th># strong comp</th>\n",
       "      <th># weak comp</th>\n",
       "      <th># conn comp</th>\n",
       "      <th>avg node connect</th>\n",
       "      <th>deg assort coeff</th>\n",
       "    </tr>\n",
       "  </thead>\n",
       "  <tbody>\n",
       "    <tr>\n",
       "      <th>0</th>\n",
       "      <td>article6247.gml</td>\n",
       "      <td>positive</td>\n",
       "      <td>109</td>\n",
       "      <td>96</td>\n",
       "      <td>1.761468</td>\n",
       "      <td>0.008155</td>\n",
       "      <td>0.01631</td>\n",
       "      <td>0.000041</td>\n",
       "      <td>0.008927</td>\n",
       "      <td>(anti-vaccine website, 0.12962962963)</td>\n",
       "      <td>(MMR vaccine-autism link, 0.00103842159917)</td>\n",
       "      <td>(anti-vaccine website, 0.12962962963)</td>\n",
       "      <td>0.880734</td>\n",
       "      <td>0.880734</td>\n",
       "      <td>109</td>\n",
       "      <td>16</td>\n",
       "      <td>16</td>\n",
       "      <td>0.011468</td>\n",
       "      <td>-0.303582</td>\n",
       "    </tr>\n",
       "  </tbody>\n",
       "</table>\n",
       "</div>"
      ],
      "text/plain": [
       "              name sentiment  # nodes  # edges  avg degree   density  \\\n",
       "0  article6247.gml  positive      109       96    1.761468  0.008155   \n",
       "\n",
       "   avg deg cent  avg bet cent  avg clo cent  \\\n",
       "0       0.01631      0.000041      0.008927   \n",
       "\n",
       "                            highest degc  \\\n",
       "0  (anti-vaccine website, 0.12962962963)   \n",
       "\n",
       "                                  highest betc  \\\n",
       "0  (MMR vaccine-autism link, 0.00103842159917)   \n",
       "\n",
       "                            highest cloc  avg in-deg  avg out-deg  \\\n",
       "0  (anti-vaccine website, 0.12962962963)    0.880734     0.880734   \n",
       "\n",
       "   # strong comp  # weak comp  # conn comp  avg node connect  deg assort coeff  \n",
       "0            109           16           16          0.011468         -0.303582  "
      ]
     },
     "execution_count": 9,
     "metadata": {},
     "output_type": "execute_result"
    }
   ],
   "source": [
    "append_stats(network_data)"
   ]
  },
  {
   "cell_type": "code",
   "execution_count": null,
   "metadata": {
    "collapsed": true
   },
   "outputs": [],
   "source": [
    "def run_stats(graph, ugraph):\n",
    "    append_stats(network_data)"
   ]
  },
  {
   "cell_type": "code",
   "execution_count": null,
   "metadata": {
    "collapsed": true
   },
   "outputs": [],
   "source": []
  },
  {
   "cell_type": "code",
   "execution_count": null,
   "metadata": {
    "collapsed": false
   },
   "outputs": [],
   "source": []
  },
  {
   "cell_type": "code",
   "execution_count": null,
   "metadata": {
    "collapsed": false
   },
   "outputs": [],
   "source": [
    "\n"
   ]
  },
  {
   "cell_type": "code",
   "execution_count": null,
   "metadata": {
    "collapsed": false
   },
   "outputs": [],
   "source": []
  },
  {
   "cell_type": "code",
   "execution_count": null,
   "metadata": {
    "collapsed": false
   },
   "outputs": [],
   "source": []
  },
  {
   "cell_type": "code",
   "execution_count": null,
   "metadata": {
    "collapsed": false,
    "scrolled": false
   },
   "outputs": [],
   "source": []
  },
  {
   "cell_type": "code",
   "execution_count": null,
   "metadata": {
    "collapsed": false
   },
   "outputs": [],
   "source": []
  },
  {
   "cell_type": "code",
   "execution_count": null,
   "metadata": {
    "collapsed": false
   },
   "outputs": [],
   "source": []
  },
  {
   "cell_type": "code",
   "execution_count": null,
   "metadata": {
    "collapsed": false
   },
   "outputs": [],
   "source": [
    "for i, gml_graph in enumerate(gml_files):\n",
    "    graph = nx.read_gml(gml_graph)\n",
    "    ugraph = graph.to_undirected() ## to undirected graph\n",
    "    (filepath, filename) = os.path.split(gml_graph)\n",
    "    run_stats(graph,ugraph)\n",
    "    print network_data\n",
    "    if i ==2:\n",
    "        break"
   ]
  },
  {
   "cell_type": "code",
   "execution_count": null,
   "metadata": {
    "collapsed": false
   },
   "outputs": [],
   "source": []
  },
  {
   "cell_type": "code",
   "execution_count": null,
   "metadata": {
    "collapsed": true
   },
   "outputs": [],
   "source": []
  },
  {
   "cell_type": "code",
   "execution_count": null,
   "metadata": {
    "collapsed": false
   },
   "outputs": [],
   "source": []
  },
  {
   "cell_type": "code",
   "execution_count": null,
   "metadata": {
    "collapsed": true
   },
   "outputs": [],
   "source": []
  },
  {
   "cell_type": "code",
   "execution_count": null,
   "metadata": {
    "collapsed": true
   },
   "outputs": [],
   "source": []
  },
  {
   "cell_type": "code",
   "execution_count": null,
   "metadata": {
    "collapsed": false
   },
   "outputs": [],
   "source": [
    "## need to loop this part instead of manually changing graph_num\n",
    "# set graph_num == 0 through 49\n",
    "\n",
    "for graph_num, gml_graph in enumerate(gml_files):\n",
    "    graph = nx.read_gml(gml_graph)\n",
    "    ugraph = graph.to_undirected() ## to undirected graph\n",
    "    (filepath, filename) = os.path.split(gml_graph)\n",
    "    print('-' * 40)\n",
    "    print(gml_graph)\n",
    "    calculate_graph_inf(graph)\n",
    "    calculate_graph_inf(ugraph)\n",
    "    if graph_num == 49:\n",
    "        break\n",
    "\n",
    "# calculate variables for subsequent times\n",
    "# save variables into list -- name:variable\n",
    "# append dataframe for network-wide statistics\n"
   ]
  },
  {
   "cell_type": "code",
   "execution_count": null,
   "metadata": {
    "collapsed": false,
    "scrolled": true
   },
   "outputs": [],
   "source": [
    "# append to dataframe\n",
    "# network_data = network_data.append(graph_values, ignore_index=True)\n",
    "network_data"
   ]
  },
  {
   "cell_type": "code",
   "execution_count": null,
   "metadata": {
    "collapsed": false
   },
   "outputs": [],
   "source": [
    "# save dataframe to csv\n",
    "# network_data.to_csv('network_stats', encoding = 'utf-8')"
   ]
  },
  {
   "cell_type": "code",
   "execution_count": null,
   "metadata": {
    "collapsed": false
   },
   "outputs": [],
   "source": []
  },
  {
   "cell_type": "code",
   "execution_count": null,
   "metadata": {
    "collapsed": false
   },
   "outputs": [],
   "source": []
  },
  {
   "cell_type": "code",
   "execution_count": null,
   "metadata": {
    "collapsed": false
   },
   "outputs": [],
   "source": []
  },
  {
   "cell_type": "code",
   "execution_count": null,
   "metadata": {
    "collapsed": false
   },
   "outputs": [],
   "source": []
  },
  {
   "cell_type": "markdown",
   "metadata": {
    "collapsed": false
   },
   "source": [
    "- - -"
   ]
  },
  {
   "cell_type": "markdown",
   "metadata": {},
   "source": [
    "## Network-wide variable calculations"
   ]
  },
  {
   "cell_type": "code",
   "execution_count": null,
   "metadata": {
    "collapsed": false
   },
   "outputs": [],
   "source": [
    "# degree histogram: returns a list of frequencies of degrees\n",
    "nx.degree_histogram(graph)"
   ]
  },
  {
   "cell_type": "code",
   "execution_count": null,
   "metadata": {
    "collapsed": false
   },
   "outputs": [],
   "source": [
    "# degree centrality\n",
    "#nx.degree_centrality(graph)\n",
    "a = nx.degree_centrality(graph)\n",
    "dfIn=pd.DataFrame.from_dict(a,orient='index')\n",
    "dfIn.columns = ['degree centrality']\n",
    "dfIn = dfIn.sort_values(by=['degree centrality'])\n",
    "dfIn"
   ]
  },
  {
   "cell_type": "code",
   "execution_count": null,
   "metadata": {
    "collapsed": false
   },
   "outputs": [],
   "source": [
    "# betweenness centrality\n",
    "#nx.betweenness_centrality(graph)\n",
    "a = nx.betweenness_centrality(graph)\n",
    "dfIn=pd.DataFrame.from_dict(a,orient='index')\n",
    "dfIn.columns = ['betweenness centrality']\n",
    "dfIn = dfIn.sort_values(by=['betweenness centrality'])\n",
    "dfIn"
   ]
  },
  {
   "cell_type": "code",
   "execution_count": null,
   "metadata": {
    "collapsed": false
   },
   "outputs": [],
   "source": [
    "# closeness centrality\n",
    "#nx.closeness_centrality(graph).values()\n",
    "a = nx.closeness_centrality(graph)\n",
    "dfIn=pd.DataFrame.from_dict(a,orient='index')\n",
    "dfIn.columns = ['closeness centrality']\n",
    "dfIn = dfIn.sort_values(by=['closeness centrality'])\n",
    "dfIn"
   ]
  },
  {
   "cell_type": "code",
   "execution_count": null,
   "metadata": {
    "collapsed": false
   },
   "outputs": [],
   "source": [
    "# in degree centrality\n",
    "a = nx.in_degree_centrality(graph)\n",
    "dfIn=pd.DataFrame.from_dict(a,orient='index')\n",
    "dfIn.columns = ['in deg centrality']\n",
    "dfIn = dfIn.sort_values(by=['in deg centrality'])\n",
    "dfIn"
   ]
  },
  {
   "cell_type": "code",
   "execution_count": null,
   "metadata": {
    "collapsed": false
   },
   "outputs": [],
   "source": [
    "# out degree centrality\n",
    "b = nx.out_degree_centrality(graph)\n",
    "dfIn=pd.DataFrame.from_dict(b,orient='index')\n",
    "dfIn.columns = ['out deg centrality']\n",
    "dfIn = dfIn.sort_values(by=['out deg centrality'])\n",
    "dfIn"
   ]
  },
  {
   "cell_type": "markdown",
   "metadata": {},
   "source": [
    "- - -"
   ]
  },
  {
   "cell_type": "code",
   "execution_count": null,
   "metadata": {
    "collapsed": true
   },
   "outputs": [],
   "source": [
    "# current-flow betweenness centrality (graph must be connected; run for largest component)\n",
    "#nx.current_flow_betweenness_centrality(graph)\n",
    "\n",
    "# eigenvector centrality\n",
    "\n",
    "# degree assortativity coefficient\n",
    "# average neighbor degree; average degree connectivity (k nearest neighbors)\n",
    "\n",
    "#nx.edge_connectivity(graph)\n",
    "#nx.node_connectivity(graph)\n",
    "\n",
    "# clustering coefficient (cannot be multigraph)\n",
    "# nx.average_clustering(graph)"
   ]
  },
  {
   "cell_type": "code",
   "execution_count": null,
   "metadata": {
    "collapsed": true
   },
   "outputs": [],
   "source": []
  },
  {
   "cell_type": "raw",
   "metadata": {
    "collapsed": false
   },
   "source": [
    "print \"Density =\"\n",
    "print \"Degree centrality =\"\n",
    "print \"Closeness centrality =\"\n",
    "print \"Betweenness centrality =\"\n",
    "print \"Degree assortativity coefficient =\"\n",
    "print \"Degree pearson correlation coefficient =\"\n",
    "print \"Average node connectivity =\""
   ]
  }
 ],
 "metadata": {
  "kernelspec": {
   "display_name": "Python 2",
   "language": "python",
   "name": "python2"
  },
  "language_info": {
   "codemirror_mode": {
    "name": "ipython",
    "version": 2
   },
   "file_extension": ".py",
   "mimetype": "text/x-python",
   "name": "python",
   "nbconvert_exporter": "python",
   "pygments_lexer": "ipython2",
   "version": "2.7.11"
  }
 },
 "nbformat": 4,
 "nbformat_minor": 0
}
