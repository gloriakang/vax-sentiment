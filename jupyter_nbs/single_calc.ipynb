{
 "cells": [
  {
   "cell_type": "markdown",
   "metadata": {
    "collapsed": true
   },
   "source": [
    "# single network graph calculations\n",
    "- draw connected components as subgraphs"
   ]
  },
  {
   "cell_type": "code",
   "execution_count": 1,
   "metadata": {
    "collapsed": false,
    "scrolled": true
   },
   "outputs": [],
   "source": [
    "import networkx as nx\n",
    "import numpy as np\n",
    "import pandas as pd\n",
    "import matplotlib.pyplot as plt\n",
    "%matplotlib inline\n",
    "import os\n",
    "from glob import glob\n",
    "\n",
    "#gml_files = glob('../output/network/*/*.gml')\n",
    "\n",
    "#graph = nx.read_gml('../output/network/negative/article1.gml')\n",
    "#ugraph = graph.to_undirected()\n",
    "#U = graph.to_undirected(reciprocal=True)\n",
    "#e = U.edges()\n",
    "#ugraph.add_edges_from(e)\n",
    "\n",
    "def highest_centrality(cent_dict):\n",
    "    \"\"\"Returns a tuple (node,value) with the node\n",
    "    with largest value from centrality dictionary.\"\"\"\n",
    "    # create ordered tuple of centrality data\n",
    "    cent_items = [(b,a) for (a,b) in cent_dict.iteritems()]\n",
    "    # sort in descending order\n",
    "    cent_items.sort()\n",
    "    cent_items.reverse()\n",
    "    return tuple(reversed(cent_items[0]))"
   ]
  },
  {
   "cell_type": "code",
   "execution_count": 2,
   "metadata": {
    "collapsed": false
   },
   "outputs": [
    {
     "name": "stdout",
     "output_type": "stream",
     "text": [
      "Name: compose( ,  )\n",
      "Type: MultiGraph\n",
      "Number of nodes: 948\n",
      "Number of edges: 1110\n",
      "Average degree:   2.3418\n"
     ]
    }
   ],
   "source": [
    "# start here\n",
    "ugraph = nx.read_gml('positive_uall.gml')\n",
    "#print nx.info(graph)\n",
    "print nx.info(ugraph)"
   ]
  },
  {
   "cell_type": "code",
   "execution_count": 3,
   "metadata": {
    "collapsed": false,
    "scrolled": true
   },
   "outputs": [],
   "source": [
    "def drawIt(graph, what = 'graph'):\n",
    "    nsize = graph.number_of_nodes()\n",
    "    print \"Drawing %s of size %s:\" % (what, nsize)\n",
    "    \n",
    "    if nsize > 20:\n",
    "        plt.figure(figsize=(10, 10))\n",
    "        if nsize > 40:\n",
    "            nx.draw_spring(graph, with_labels = True, node_size = 70, font_size = 12)\n",
    "        else:\n",
    "            nx.draw_spring(graph, with_labels = True)\n",
    "    else:\n",
    "        nx.draw_spring(graph, with_labels = True)\n",
    "    plt.show()\n",
    "\n",
    "def describeGraph(graph):\n",
    "    components = sorted(nx.connected_components(graph), key = len, reverse = True)\n",
    "    cc = [len(c) for c in components]\n",
    "    subgraphs = list(nx.connected_component_subgraphs(graph))\n",
    "    params = (graph.number_of_edges(),graph.number_of_nodes(),len(cc))\n",
    "    print \"Graph has %s nodes, %s edges, %s connected components\\n\" % params\n",
    "    drawIt(graph)\n",
    "    for sub in components:\n",
    "        drawIt(graph.subgraph(sub), what = 'component')"
   ]
  },
  {
   "cell_type": "code",
   "execution_count": 4,
   "metadata": {
    "collapsed": false,
    "scrolled": true
   },
   "outputs": [],
   "source": [
    "#describeGraph(ugraph)"
   ]
  },
  {
   "cell_type": "markdown",
   "metadata": {},
   "source": [
    "### Components"
   ]
  },
  {
   "cell_type": "code",
   "execution_count": 10,
   "metadata": {
    "collapsed": false,
    "scrolled": true
   },
   "outputs": [
    {
     "name": "stdout",
     "output_type": "stream",
     "text": [
      "[709, 15, 7, 7, 5, 5, 5, 5, 5, 4, 4, 4, 4, 4, 3, 3, 3, 3, 3, 3, 3, 3, 3, 3, 3, 3, 3, 3, 3, 3, 3, 3, 3, 3, 3, 2, 2, 2, 2, 2, 2, 2, 2, 2, 2, 2, 2, 2, 2, 2, 2, 2, 2, 2, 2, 2, 2, 2, 2, 2, 2, 2, 2, 2, 2, 2, 2, 2, 2, 2, 2, 2, 2, 2, 2, 2, 2, 2, 2, 2, 2, 2, 2, 2, 2, 2]\n"
     ]
    }
   ],
   "source": [
    "# list of connected components (sets of nodes), starting with largest\n",
    "print [len(c) for c in sorted(nx.connected_components(ugraph), key=len, reverse=True)]"
   ]
  },
  {
   "cell_type": "code",
   "execution_count": 11,
   "metadata": {
    "collapsed": false
   },
   "outputs": [
    {
     "data": {
      "text/plain": [
       "709"
      ]
     },
     "execution_count": 11,
     "metadata": {},
     "output_type": "execute_result"
    }
   ],
   "source": [
    "# generate connected components as subgraphs; Gc is largest component\n",
    "subgraphs = list(nx.connected_component_subgraphs(ugraph))\n",
    "\n",
    "# Gc = size of largest component\n",
    "Gc = max(nx.connected_component_subgraphs(ugraph), key=len)\n",
    "len(Gc)"
   ]
  },
  {
   "cell_type": "markdown",
   "metadata": {},
   "source": [
    "### Connectivity"
   ]
  },
  {
   "cell_type": "raw",
   "metadata": {},
   "source": [
    "A k-component is a maximal subgraph of a graph G that has, at least, node connectivity k: we need to remove at least k nodes to break it into more components. k-components have an inherent hierarchical structure because they are nested in terms of connectivity: a connected graph can contain several 2-components, each of which can contain one or more 3-components, and so forth.\n",
    "\n",
    "k_components returns dictionary with all connectivity levels k in the input Graph as keys and a list of sets of nodes that form a k-component of level k as values.\n",
    "\n",
    "for finding all minimum-size node cut-sets of a graph\n",
    "1. Compute node connectivity, k, of the input graph G.\n",
    "2. Identify all k-cutsets at the current level of connectivity using Kanevsky’s algorithm.\n",
    "3. Generate new graph components based on the removal of these cutsets. Nodes in a cutset belong to both sides of the induced cut.\n",
    "4. If the graph is neither complete nor trivial, return to 1; else end\n",
    "\n",
    "MultiGraph and MultiDiGraph types not supported."
   ]
  },
  {
   "cell_type": "code",
   "execution_count": null,
   "metadata": {
    "collapsed": false
   },
   "outputs": [],
   "source": []
  },
  {
   "cell_type": "code",
   "execution_count": null,
   "metadata": {
    "collapsed": true
   },
   "outputs": [],
   "source": []
  },
  {
   "cell_type": "code",
   "execution_count": null,
   "metadata": {
    "collapsed": true
   },
   "outputs": [],
   "source": []
  },
  {
   "cell_type": "markdown",
   "metadata": {},
   "source": [
    "### Degree"
   ]
  },
  {
   "cell_type": "code",
   "execution_count": 12,
   "metadata": {
    "collapsed": false
   },
   "outputs": [
    {
     "data": {
      "text/plain": [
       "[0, 77, 32, 8, 10, 6, 3, 1, 0, 1, 1, 0, 0, 0, 0, 1]"
      ]
     },
     "execution_count": 12,
     "metadata": {},
     "output_type": "execute_result"
    }
   ],
   "source": [
    "# degree histogram: returns a list of frequencies of degrees\n",
    "nx.degree_histogram(graph)"
   ]
  },
  {
   "cell_type": "code",
   "execution_count": 13,
   "metadata": {
    "collapsed": false
   },
   "outputs": [
    {
     "data": {
      "image/png": "[encoded data removed]",
      "text/plain": [
       "<matplotlib.figure.Figure at 0x1121a6c90>"
      ]
     },
     "metadata": {},
     "output_type": "display_data"
    }
   ],
   "source": [
    "# degree rank plot (undirected)\n",
    "\n",
    "degree_sequence=sorted(nx.degree(ugraph).values(),reverse=True) # degree sequence\n",
    "#print \"Degree sequence\", degree_sequence\n",
    "dmax=max(degree_sequence)\n",
    "\n",
    "plt.loglog(degree_sequence,'b-',marker='o')\n",
    "plt.title(\"Degree rank plot\")\n",
    "plt.ylabel(\"degree\")\n",
    "plt.xlabel(\"rank\")\n",
    "\n",
    "# draw graph in inset\n",
    "plt.axes([0.45,0.45,0.45,0.45])\n",
    "Gcc=sorted(nx.connected_component_subgraphs(ugraph), key = len, reverse=True)[0]\n",
    "pos=nx.spring_layout(Gcc)\n",
    "plt.axis('off')\n",
    "nx.draw_networkx_nodes(Gcc,pos,node_size=20)\n",
    "nx.draw_networkx_edges(Gcc,pos,alpha=0.4)\n",
    "\n",
    "plt.show()"
   ]
  },
  {
   "cell_type": "code",
   "execution_count": null,
   "metadata": {
    "collapsed": false
   },
   "outputs": [],
   "source": []
  },
  {
   "cell_type": "markdown",
   "metadata": {},
   "source": [
    "### Centrality"
   ]
  },
  {
   "cell_type": "code",
   "execution_count": null,
   "metadata": {
    "collapsed": false,
    "scrolled": true
   },
   "outputs": [],
   "source": [
    "# degree centrality\n",
    "a = nx.degree_centrality(graph)\n",
    "dfIn=pd.DataFrame.from_dict(a,orient='index')\n",
    "dfIn.columns = ['degree centrality']\n",
    "dfIn = dfIn.sort_values(by=['degree centrality'])\n",
    "dfIn"
   ]
  },
  {
   "cell_type": "code",
   "execution_count": null,
   "metadata": {
    "collapsed": false,
    "scrolled": true
   },
   "outputs": [],
   "source": [
    "# betweenness centrality\n",
    "a = nx.betweenness_centrality(graph)\n",
    "dfIn=pd.DataFrame.from_dict(a,orient='index')\n",
    "dfIn.columns = ['betweenness centrality']\n",
    "dfIn = dfIn.sort_values(by=['betweenness centrality'])\n",
    "dfIn"
   ]
  },
  {
   "cell_type": "code",
   "execution_count": null,
   "metadata": {
    "collapsed": false,
    "scrolled": true
   },
   "outputs": [],
   "source": [
    "# closeness centrality\n",
    "a = nx.closeness_centrality(graph)\n",
    "dfIn=pd.DataFrame.from_dict(a,orient='index')\n",
    "dfIn.columns = ['closeness centrality']\n",
    "dfIn = dfIn.sort_values(by=['closeness centrality'])\n",
    "dfIn"
   ]
  },
  {
   "cell_type": "code",
   "execution_count": null,
   "metadata": {
    "collapsed": false,
    "scrolled": true
   },
   "outputs": [],
   "source": [
    "# in degree centrality\n",
    "a = nx.in_degree_centrality(graph)\n",
    "dfIn=pd.DataFrame.from_dict(a,orient='index')\n",
    "dfIn.columns = ['in deg centrality']\n",
    "dfIn = dfIn.sort_values(by=['in deg centrality'])\n",
    "dfIn"
   ]
  },
  {
   "cell_type": "code",
   "execution_count": null,
   "metadata": {
    "collapsed": false
   },
   "outputs": [],
   "source": [
    "# out degree centrality\n",
    "b = nx.out_degree_centrality(graph)\n",
    "dfIn=pd.DataFrame.from_dict(b,orient='index')\n",
    "dfIn.columns = ['out deg centrality']\n",
    "dfIn = dfIn.sort_values(by=['out deg centrality'])\n",
    "dfIn"
   ]
  },
  {
   "cell_type": "code",
   "execution_count": null,
   "metadata": {
    "collapsed": false
   },
   "outputs": [],
   "source": []
  },
  {
   "cell_type": "markdown",
   "metadata": {},
   "source": [
    "- - -"
   ]
  },
  {
   "cell_type": "code",
   "execution_count": null,
   "metadata": {
    "collapsed": true
   },
   "outputs": [],
   "source": [
    "# current-flow betweenness centrality (graph must be connected; run for largest component)\n",
    "#nx.current_flow_betweenness_centrality(graph)\n",
    "\n",
    "# eigenvector centrality\n",
    "\n",
    "# degree assortativity coefficient\n",
    "# average neighbor degree; average degree connectivity (k nearest neighbors)\n",
    "\n",
    "#nx.edge_connectivity(graph)\n",
    "#nx.node_connectivity(graph)\n",
    "\n",
    "# clustering coefficient (cannot be multigraph)\n",
    "# nx.average_clustering(graph)"
   ]
  }
 ],
 "metadata": {
  "kernelspec": {
   "display_name": "Python 2",
   "language": "python",
   "name": "python2"
  },
  "language_info": {
   "codemirror_mode": {
    "name": "ipython",
    "version": 2
   },
   "file_extension": ".py",
   "mimetype": "text/x-python",
   "name": "python",
   "nbconvert_exporter": "python",
   "pygments_lexer": "ipython2",
   "version": "2.7.11"
  }
 },
 "nbformat": 4,
 "nbformat_minor": 0
}
