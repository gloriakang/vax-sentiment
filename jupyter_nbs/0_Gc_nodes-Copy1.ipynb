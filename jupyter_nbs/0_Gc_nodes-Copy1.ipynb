{
 "cells": [
  {
   "cell_type": "markdown",
   "metadata": {
    "collapsed": true
   },
   "source": [
    "## Gc nodes centralization\n",
    "\n",
    "- (import \"Gc_negative.gml\")\n",
    "- calculate degree centralization"
   ]
  },
  {
   "cell_type": "code",
   "execution_count": 6,
   "metadata": {
    "collapsed": false
   },
   "outputs": [
    {
     "name": "stdout",
     "output_type": "stream",
     "text": [
      "----------\n",
      "../output/network/Gc_neutral.gml\n",
      "Name: Gc_neutral.gml\n",
      "Type: MultiGraph\n",
      "Number of nodes: 171\n",
      "Number of edges: 221\n",
      "Average degree:   2.5848\n"
     ]
    }
   ],
   "source": [
    "import networkx as nx\n",
    "import numpy as np\n",
    "import pandas as pd\n",
    "import matplotlib.pyplot as plt\n",
    "%matplotlib inline\n",
    "import os\n",
    "from glob import glob\n",
    "\n",
    "#Gc_files = glob('../output/network/Gc_negative.gml')\n",
    "#Gc_files = glob('../output/network/Gc_positive.gml')\n",
    "Gc_files = glob('../output/network/Gc_neutral.gml')\n",
    "\n",
    "def calculate_graph_inf(graph):\n",
    "    graph.name = filename\n",
    "    info = nx.info(graph)\n",
    "    print info\n",
    "\n",
    "for graph_num, gml_graph in enumerate(Gc_files):\n",
    "    graph = nx.read_gml(gml_graph)\n",
    "    (filepath, filename) = os.path.split(gml_graph)\n",
    "    print('-' * 10)\n",
    "    print(gml_graph)\n",
    "    calculate_graph_inf(graph)"
   ]
  },
  {
   "cell_type": "code",
   "execution_count": 3,
   "metadata": {
    "collapsed": false
   },
   "outputs": [
    {
     "data": {
      "text/plain": [
       "0.11493531670265107"
      ]
     },
     "execution_count": 3,
     "metadata": {},
     "output_type": "execute_result"
    }
   ],
   "source": [
    "# negative\n",
    "\n",
    "N = graph.order()\n",
    "degrees = graph.degree().values()\n",
    "max_in = max(degrees)\n",
    "centralization = float((N*max_in - sum(degrees)))/(N-1)**2\n",
    "centralization"
   ]
  },
  {
   "cell_type": "code",
   "execution_count": 5,
   "metadata": {
    "collapsed": false
   },
   "outputs": [
    {
     "data": {
      "text/plain": [
       "0.11025755301182211"
      ]
     },
     "execution_count": 5,
     "metadata": {},
     "output_type": "execute_result"
    }
   ],
   "source": [
    "# positive\n",
    "\n",
    "N = graph.order()\n",
    "degrees = graph.degree().values()\n",
    "max_in = max(degrees)\n",
    "centralization = float((N*max_in - sum(degrees)))/(N-1)**2\n",
    "centralization"
   ]
  },
  {
   "cell_type": "code",
   "execution_count": 8,
   "metadata": {
    "collapsed": false
   },
   "outputs": [
    {
     "data": {
      "text/plain": [
       "0.17996539792387542"
      ]
     },
     "execution_count": 8,
     "metadata": {},
     "output_type": "execute_result"
    }
   ],
   "source": [
    "# neutral\n",
    "\n",
    "N = graph.order()\n",
    "degrees = graph.degree().values()\n",
    "max_in = max(degrees)\n",
    "centralization = float((N*max_in - sum(degrees)))/(N-1)**2\n",
    "centralization"
   ]
  },
  {
   "cell_type": "code",
   "execution_count": null,
   "metadata": {
    "collapsed": true
   },
   "outputs": [],
   "source": []
  }
 ],
 "metadata": {
  "kernelspec": {
   "display_name": "Python 2",
   "language": "python",
   "name": "python2"
  },
  "language_info": {
   "codemirror_mode": {
    "name": "ipython",
    "version": 2
   },
   "file_extension": ".py",
   "mimetype": "text/x-python",
   "name": "python",
   "nbconvert_exporter": "python",
   "pygments_lexer": "ipython2",
   "version": "2.7.11"
  }
 },
 "nbformat": 4,
 "nbformat_minor": 0
}
