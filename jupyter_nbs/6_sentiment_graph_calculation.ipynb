{
 "cells": [
  {
   "cell_type": "markdown",
   "metadata": {
    "collapsed": true
   },
   "source": [
    "# sentiment_graphs\n",
    "0. (make_union & single_calc copy)\n",
    "1. import positive, negative, neutral gml files\n",
    "2. write to directed and undirected gml files\n",
    "3. component and connectivity analysis\n",
    "4. plot graph components and subgraphs"
   ]
  },
  {
   "cell_type": "code",
   "execution_count": 1,
   "metadata": {
    "collapsed": false,
    "scrolled": true
   },
   "outputs": [],
   "source": [
    "import networkx as nx\n",
    "import numpy as np\n",
    "import pandas as pd\n",
    "import matplotlib.pyplot as plt\n",
    "%matplotlib inline\n",
    "import os\n",
    "from glob import glob\n",
    "\n",
    "pd.set_option('display.mpl_style', 'default') \n",
    "pd.set_option('display.width', 5000) \n",
    "pd.set_option('display.max_columns', 60)\n",
    "\n",
    "#gml_files = glob('../output/network/*/*.gml')\n",
    "pos_files = glob('../output/network/positive/*.gml')\n",
    "neg_files = glob('../output/network/negative/*.gml')\n",
    "neu_files = glob('../output/network/neutral/*.gml')\n",
    "\n",
    "def calculate_graph_inf(graph):\n",
    "    graph.name = filename\n",
    "    info = nx.info(graph)\n",
    "    print info\n",
    "\n",
    "def plot_graph(graph):\n",
    "    info = nx.info(graph)\n",
    "    print info\n",
    "    plt.figure(figsize=(10,10))\n",
    "    nx.draw_spring(graph, with_labels = True)"
   ]
  },
  {
   "cell_type": "code",
   "execution_count": null,
   "metadata": {
    "collapsed": false,
    "scrolled": true
   },
   "outputs": [],
   "source": [
    "# don't run\n",
    "pos_graphs = []\n",
    "pos_ugraphs = []\n",
    "neg_graphs = []\n",
    "neg_ugraphs = []\n",
    "neu_graphs = []\n",
    "neu_ugraphs = []\n",
    "\n",
    "for graph_num, gml_graph in enumerate(pos_files):\n",
    "    graph = nx.read_gml(gml_graph)\n",
    "    ugraph = graph.to_undirected()\n",
    "    U = graph.to_undirected(reciprocal=True)\n",
    "    e = U.edges()\n",
    "    ugraph.add_edges_from(e)\n",
    "    (filepath, filename) = os.path.split(gml_graph)\n",
    "    print('-' * 40)\n",
    "    print(gml_graph)\n",
    "    print(nx.info(graph))\n",
    "    pos_graphs.append(graph)\n",
    "    pos_ugraphs.append(ugraph)\n",
    "    \n",
    "for graph_num, gml_graph in enumerate(neg_files):\n",
    "    graph = nx.read_gml(gml_graph)\n",
    "    ugraph = graph.to_undirected()\n",
    "    U = graph.to_undirected(reciprocal=True)\n",
    "    e = U.edges()\n",
    "    ugraph.add_edges_from(e)\n",
    "    (filepath, filename) = os.path.split(gml_graph)\n",
    "    print('-' * 40)\n",
    "    print(gml_graph)\n",
    "    print(nx.info(graph))\n",
    "    neg_graphs.append(graph)\n",
    "    neg_ugraphs.append(ugraph)\n",
    "    \n",
    "for graph_num, gml_graph in enumerate(neu_files):\n",
    "    graph = nx.read_gml(gml_graph)\n",
    "    ugraph = graph.to_undirected()\n",
    "    U = graph.to_undirected(reciprocal=True)\n",
    "    e = U.edges()\n",
    "    ugraph.add_edges_from(e)\n",
    "    (filepath, filename) = os.path.split(gml_graph)\n",
    "    print('-' * 40)\n",
    "    print(gml_graph)\n",
    "    print(nx.info(graph))\n",
    "    neu_graphs.append(graph)\n",
    "    neu_ugraphs.append(ugraph)"
   ]
  },
  {
   "cell_type": "code",
   "execution_count": null,
   "metadata": {
    "collapsed": false
   },
   "outputs": [],
   "source": [
    "# don't run\n",
    "# compose(G1, G2): combine graphs identifying nodes common to both\n",
    "pos_all = nx.compose_all(pos_graphs)\n",
    "pos_uall = nx.compose_all(pos_ugraphs)\n",
    "neg_all = nx.compose_all(neg_graphs)\n",
    "neg_uall = nx.compose_all(neg_ugraphs)\n",
    "neu_all = nx.compose_all(neu_graphs)\n",
    "neu_uall = nx.compose_all(neu_ugraphs)\n",
    "\n",
    "# write to gml\n",
    "nx.write_gml(pos_all, \"positive_all.gml\")\n",
    "nx.write_gml(pos_uall, \"positive_uall.gml\")\n",
    "nx.write_gml(neg_all, \"negative_all.gml\")\n",
    "nx.write_gml(neg_uall, \"negative_uall.gml\")\n",
    "nx.write_gml(neu_all, \"neutral_all.gml\")\n",
    "nx.write_gml(neu_uall, \"neutral_uall.gml\")"
   ]
  },
  {
   "cell_type": "markdown",
   "metadata": {},
   "source": [
    "- - -"
   ]
  },
  {
   "cell_type": "markdown",
   "metadata": {},
   "source": [
    "# start here"
   ]
  },
  {
   "cell_type": "code",
   "execution_count": 2,
   "metadata": {
    "collapsed": false
   },
   "outputs": [],
   "source": [
    "graph = nx.read_gml(\"positive_all.gml\")\n",
    "ugraph = nx.read_gml(\"positive_uall.gml\")"
   ]
  },
  {
   "cell_type": "code",
   "execution_count": 3,
   "metadata": {
    "collapsed": true
   },
   "outputs": [],
   "source": [
    "def drawIt(graph, what = 'graph'):\n",
    "    nsize = graph.number_of_nodes()\n",
    "    print \"Drawing %s of size %s:\" % (what, nsize)\n",
    "    \n",
    "    if nsize > 20:\n",
    "        plt.figure(figsize=(10, 10))\n",
    "        if nsize > 40:\n",
    "            nx.draw_spring(graph, with_labels = True, node_size = 70, font_size = 12)\n",
    "        else:\n",
    "            nx.draw_spring(graph, with_labels = True)\n",
    "    else:\n",
    "        nx.draw_spring(graph, with_labels = True)\n",
    "    plt.show()\n",
    "\n",
    "def describeGraph(graph):\n",
    "    components = sorted(nx.connected_components(graph), key = len, reverse = True)\n",
    "    cc = [len(c) for c in components]\n",
    "    subgraphs = list(nx.connected_component_subgraphs(graph))\n",
    "    params = (graph.number_of_edges(),graph.number_of_nodes(),len(cc))\n",
    "    print \"Graph has %s nodes, %s edges, %s connected components\\n\" % params\n",
    "    drawIt(graph)\n",
    "    for sub in components:\n",
    "        drawIt(graph.subgraph(sub), what = 'component')"
   ]
  },
  {
   "cell_type": "markdown",
   "metadata": {},
   "source": [
    "## Components & connectivity"
   ]
  },
  {
   "cell_type": "code",
   "execution_count": 4,
   "metadata": {
    "collapsed": false
   },
   "outputs": [
    {
     "name": "stdout",
     "output_type": "stream",
     "text": [
      "List of connected components = [709, 15, 7, 7, 5, 5, 5, 5, 5, 4, 4, 4, 4, 4, 3, 3, 3, 3, 3, 3, 3, 3, 3, 3, 3, 3, 3, 3, 3, 3, 3, 3, 3, 3, 3, 2, 2, 2, 2, 2, 2, 2, 2, 2, 2, 2, 2, 2, 2, 2, 2, 2, 2, 2, 2, 2, 2, 2, 2, 2, 2, 2, 2, 2, 2, 2, 2, 2, 2, 2, 2, 2, 2, 2, 2, 2, 2, 2, 2, 2, 2, 2, 2, 2, 2, 2]\n"
     ]
    }
   ],
   "source": [
    "# list of connected components (sets of nodes), starting with largest\n",
    "print \"List of connected components =\", [len(c) for c in sorted(nx.connected_components(ugraph), key=len, reverse=True)]\n",
    "\n",
    "# generate connected components as subgraphs; Gc is largest component\n",
    "subgraphs = list(nx.connected_component_subgraphs(ugraph))"
   ]
  },
  {
   "cell_type": "markdown",
   "metadata": {},
   "source": [
    "### Greatest component"
   ]
  },
  {
   "cell_type": "code",
   "execution_count": 5,
   "metadata": {
    "collapsed": false
   },
   "outputs": [
    {
     "name": "stdout",
     "output_type": "stream",
     "text": [
      "Size of greatest component = 709\n"
     ]
    }
   ],
   "source": [
    "Gc = max(nx.connected_component_subgraphs(ugraph), key=len)\n",
    "print \"Size of greatest component =\", len(Gc)"
   ]
  },
  {
   "cell_type": "markdown",
   "metadata": {},
   "source": [
    "Moody and White provide an algorithm for identifying k-components in a graph, which is based on Kanevsky’s algorithm for finding all minimum-size node cut-sets of a graph (implemented in all_node_cuts() function):\n",
    "\n",
    "1. Compute node connectivity, k, of the input graph G.\n",
    "2. Identify all k-cutsets at the current level of connectivity using Kanevsky’s algorithm.\n",
    "3. Generate new graph components based on the removal of these cutsets. Nodes in a cutset belong to both sides of the induced cut.\n",
    "4. If the graph is neither complete nor trivial, return to 1; else end."
   ]
  },
  {
   "cell_type": "code",
   "execution_count": 33,
   "metadata": {
    "collapsed": false
   },
   "outputs": [
    {
     "name": "stdout",
     "output_type": "stream",
     "text": [
      "# of cutsets = 165\n",
      "Min node cut = set([u'Tdap vaccine'])\n",
      "Min edge cut = set([(u'Tdap vaccine', u'Pregnant women')])\n"
     ]
    }
   ],
   "source": [
    "# returns all minimum k cutsets of an undirected graph\n",
    "# i.e., the set(s) of nodes of cardinality equal to the node connectivity of G\n",
    "# thus if removed, would break G into two or more connected components\n",
    "cutsets = list(nx.all_node_cuts(Gc))\n",
    "print \"# of cutsets =\", len(cutsets)\n",
    "\n",
    "# returns a set of nodes or edges of minimum cardinality that disconnects G\n",
    "print \"Min node cut =\", nx.minimum_node_cut(Gc)\n",
    "print \"Min edge cut =\", nx.minimum_edge_cut(Gc)"
   ]
  },
  {
   "cell_type": "code",
   "execution_count": 18,
   "metadata": {
    "collapsed": false
   },
   "outputs": [],
   "source": [
    "# this takes forever\n",
    "# average connectivity k of a graph G is the average of local node connectivity over all pairs of nodes of G\n",
    "\n",
    "#nx.average_node_connectivity(Gc)"
   ]
  },
  {
   "cell_type": "code",
   "execution_count": 34,
   "metadata": {
    "collapsed": false
   },
   "outputs": [
    {
     "name": "stdout",
     "output_type": "stream",
     "text": [
      "List of connected components = [709, 15, 7, 7, 5, 5, 5, 5, 5, 4, 4, 4, 4, 4, 3, 3, 3, 3, 3, 3, 3, 3, 3, 3, 3, 3, 3, 3, 3, 3, 3, 3, 3, 3, 3, 2, 2, 2, 2, 2, 2, 2, 2, 2, 2, 2, 2, 2, 2, 2, 2, 2, 2, 2, 2, 2, 2, 2, 2, 2, 2, 2, 2, 2, 2, 2, 2, 2, 2, 2, 2, 2, 2, 2, 2, 2, 2, 2, 2, 2, 2, 2, 2, 2, 2, 2]\n",
      "Size of greatest component = 709\n",
      "# of cutsets = 165\n",
      "Min node cut = set([u'Tdap vaccine'])\n",
      "Min edge cut = set([(u'Tdap vaccine', u'Pregnant women')])\n"
     ]
    }
   ],
   "source": [
    "# summary\n",
    "\n",
    "print \"List of connected components =\", [len(c) for c in sorted(nx.connected_components(ugraph), key=len, reverse=True)]\n",
    "print \"Size of greatest component =\", len(Gc)\n",
    "print \"# of cutsets =\", len(cutsets)\n",
    "print \"Min node cut =\", nx.minimum_node_cut(Gc)\n",
    "print \"Min edge cut =\", nx.minimum_edge_cut(Gc)"
   ]
  },
  {
   "cell_type": "code",
   "execution_count": null,
   "metadata": {
    "collapsed": true
   },
   "outputs": [],
   "source": []
  }
 ],
 "metadata": {
  "kernelspec": {
   "display_name": "Python 2",
   "language": "python",
   "name": "python2"
  },
  "language_info": {
   "codemirror_mode": {
    "name": "ipython",
    "version": 2
   },
   "file_extension": ".py",
   "mimetype": "text/x-python",
   "name": "python",
   "nbconvert_exporter": "python",
   "pygments_lexer": "ipython2",
   "version": "2.7.11"
  }
 },
 "nbformat": 4,
 "nbformat_minor": 0
}
