{
 "cells": [
  {
   "cell_type": "markdown",
   "metadata": {
    "collapsed": true
   },
   "source": [
    "## undirected negative graph\n",
    "\n",
    "1. import .gml\n",
    "2. save u_nodes_negative.csv\n",
    "    - node labels, degrees, and centralities for entire network\n",
    "3. save u_Gc_negative.gml\n",
    "4. load u_Gc_negative.gml\n",
    "5. save \"Gc_df_neg.csv\"\n",
    "    - node labels, degrees, and centralities for greatest component"
   ]
  },
  {
   "cell_type": "code",
   "execution_count": 17,
   "metadata": {
    "collapsed": false,
    "scrolled": false
   },
   "outputs": [],
   "source": [
    "# 1_network_df\n",
    "\n",
    "import networkx as nx\n",
    "import numpy as np\n",
    "import pandas as pd\n",
    "import matplotlib.pyplot as plt\n",
    "%matplotlib inline\n",
    "import os\n",
    "from glob import glob\n",
    "\n",
    "plt.style.use('ggplot')\n",
    "pd.set_option('display.width', 5000) \n",
    "pd.set_option('display.max_columns', 60)\n",
    "\n",
    "gml_files = glob('../output/network/u_negative.gml')"
   ]
  },
  {
   "cell_type": "code",
   "execution_count": 2,
   "metadata": {
    "collapsed": true,
    "scrolled": false
   },
   "outputs": [],
   "source": [
    "def calculate_graph_inf(graph):\n",
    "    graph.name = filename\n",
    "    info = nx.info(graph)\n",
    "    print info\n",
    "\n",
    "def highest_centrality(cent_dict):\n",
    "    \"\"\"Returns a tuple (node,value) with the node\n",
    "    with largest value from centrality dictionary.\"\"\"\n",
    "    # create ordered tuple of centrality data\n",
    "    cent_items = [(b,a) for (a,b) in cent_dict.iteritems()]\n",
    "    # sort in descending order\n",
    "    cent_items.sort()\n",
    "    cent_items.reverse()\n",
    "    return tuple(reversed(cent_items[0]))"
   ]
  },
  {
   "cell_type": "markdown",
   "metadata": {},
   "source": [
    "---\n",
    "# calculate network stats"
   ]
  },
  {
   "cell_type": "code",
   "execution_count": 18,
   "metadata": {
    "collapsed": false
   },
   "outputs": [
    {
     "data": {
      "text/plain": [
       "[]"
      ]
     },
     "execution_count": 18,
     "metadata": {},
     "output_type": "execute_result"
    }
   ],
   "source": [
    "gml_files"
   ]
  },
  {
   "cell_type": "code",
   "execution_count": 13,
   "metadata": {
    "collapsed": true
   },
   "outputs": [],
   "source": [
    "network_data_columns = ['name',\n",
    "                    'sentiment',\n",
    "                    '# nodes',\n",
    "                    '# edges',\n",
    "                    #'avg deg',\n",
    "                    'density',\n",
    "                    'deg assort coef', \n",
    "                    'avg deg cent',\n",
    "                    'avg bet cent',\n",
    "                    'avg clo cent',\n",
    "                    'high deg cent',\n",
    "                    'high bet cent',\n",
    "                    'high clo cent',\n",
    "                    'avg node conn',\n",
    "                    '# conn comp',\n",
    "                    'gc size'\n",
    "                    ]\n",
    "network_data = pd.DataFrame(columns = network_data_columns)"
   ]
  },
  {
   "cell_type": "code",
   "execution_count": 14,
   "metadata": {
    "collapsed": true
   },
   "outputs": [],
   "source": [
    "for graph_num, gml_graph in enumerate(gml_files):\n",
    "    graph = nx.read_gml(gml_graph)\n",
    "    (filepath, filename) = os.path.split(gml_graph)\n",
    "    print('-' * 10)\n",
    "    print(gml_graph)\n",
    "    calculate_graph_inf(graph)\n",
    "    \n",
    "    # calculate variables\n",
    "    sent = \"neg\"\n",
    "    nodes = nx.number_of_nodes(graph)\n",
    "    edges = nx.number_of_edges(graph)\n",
    "    density = float(\"{0:.4f}\".format(nx.density(graph)))\n",
    "    avg_deg_cen = np.array(nx.degree_centrality(graph).values()).mean()\n",
    "    avg_bet_cen = np.array(nx.betweenness_centrality(graph).values()).mean()\n",
    "    avg_clo_cen = np.array(nx.closeness_centrality(graph).values()).mean()\n",
    "    #avg_deg = float(\"{0:.4f}\".format(in_deg + out_deg))\n",
    "    avg_node_con = float(\"{0:.4f}\".format((nx.average_node_connectivity(graph))))\n",
    "    deg_assort_coeff = float(\"{0:.4f}\".format((nx.degree_assortativity_coefficient(graph))))\n",
    "    conn_comp = nx.number_weakly_connected_components(graph) # undirected\n",
    "    deg_cen = nx.degree_centrality(graph)\n",
    "    bet_cen = nx.betweenness_centrality(graph)\n",
    "    clo_cen = nx.closeness_centrality(graph)\n",
    "    highest_deg_cen = highest_centrality(deg_cen)\n",
    "    highest_bet_cen = highest_centrality(bet_cen)\n",
    "    highest_clo_cen = highest_centrality(clo_cen)\n",
    "    Gc = len(max(nx.weakly_connected_component_subgraphs(graph), key=len))\n",
    "\n",
    "    # save variables into list\n",
    "    graph_values = {'name':filename,\n",
    "                    'sentiment':sent,\n",
    "                    '# nodes':nodes,\n",
    "                    '# edges':edges,\n",
    "                    #'avg deg':avg_deg,\n",
    "                    'density':density,\n",
    "                    'deg assort coef':deg_assort_coeff,\n",
    "                    'avg deg cent':\"%.4f\" % avg_deg_cen,\n",
    "                    'avg bet cent':\"%.4f\" % avg_bet_cen,\n",
    "                    'avg clo cent':\"%.4f\" % avg_clo_cen,\n",
    "                    'high deg cent':highest_deg_cen,\n",
    "                    'high bet cent':highest_bet_cen,\n",
    "                    'high clo cent':highest_clo_cen,\n",
    "                    'avg node conn':avg_node_con,\n",
    "                    '# conn comp':conn_comp,\n",
    "                    'gc size':Gc\n",
    "                    }\n",
    "    network_data = network_data.append(graph_values, ignore_index=True)"
   ]
  },
  {
   "cell_type": "code",
   "execution_count": 15,
   "metadata": {
    "collapsed": false
   },
   "outputs": [
    {
     "data": {
      "text/html": [
       "<div>\n",
       "<table border=\"1\" class=\"dataframe\">\n",
       "  <thead>\n",
       "    <tr style=\"text-align: right;\">\n",
       "      <th></th>\n",
       "      <th>name</th>\n",
       "      <th>sentiment</th>\n",
       "      <th># nodes</th>\n",
       "      <th># edges</th>\n",
       "      <th>density</th>\n",
       "      <th>deg assort coef</th>\n",
       "      <th>avg deg cent</th>\n",
       "      <th>avg bet cent</th>\n",
       "      <th>avg clo cent</th>\n",
       "      <th>high deg cent</th>\n",
       "      <th>high bet cent</th>\n",
       "      <th>high clo cent</th>\n",
       "      <th>avg node conn</th>\n",
       "      <th># conn comp</th>\n",
       "      <th>gc size</th>\n",
       "    </tr>\n",
       "  </thead>\n",
       "  <tbody>\n",
       "  </tbody>\n",
       "</table>\n",
       "</div>"
      ],
      "text/plain": [
       "Empty DataFrame\n",
       "Columns: [name, sentiment, # nodes, # edges, density, deg assort coef, avg deg cent, avg bet cent, avg clo cent, high deg cent, high bet cent, high clo cent, avg node conn, # conn comp, gc size]\n",
       "Index: []"
      ]
     },
     "execution_count": 15,
     "metadata": {},
     "output_type": "execute_result"
    }
   ],
   "source": [
    "# print network data for greatest component\n",
    "network_data"
   ]
  },
  {
   "cell_type": "markdown",
   "metadata": {},
   "source": [
    "---\n",
    "# all nodes table"
   ]
  },
  {
   "cell_type": "code",
   "execution_count": 8,
   "metadata": {
    "collapsed": true,
    "scrolled": false
   },
   "outputs": [],
   "source": [
    "# 2_node_df: list all nodes and centrality\n",
    "data_columns = ['name',\n",
    "                'sentiment'\n",
    "                ]\n",
    "data = pd.DataFrame(columns = data_columns)\n",
    "combined_df = pd.DataFrame()"
   ]
  },
  {
   "cell_type": "code",
   "execution_count": 9,
   "metadata": {
    "collapsed": false,
    "scrolled": true
   },
   "outputs": [],
   "source": [
    "# graph = directed, ugraph = undirected\n",
    "for graph_num, gml_graph in enumerate(gml_files):\n",
    "    graph = nx.read_gml(gml_graph)\n",
    "    #dgraph = graph.to_directed() # to directed graph\n",
    "    #U = ugraph.to_directed(reciprocal=True)\n",
    "    #e = U.edges()\n",
    "    #graph.add_edges_from(e)\n",
    "    (filepath, filename) = os.path.split(gml_graph)\n",
    "    print('-' * 10)\n",
    "    print(gml_graph)\n",
    "    calculate_graph_inf(graph)\n",
    "    calculate_graph_inf(dgraph)\n",
    "\n",
    "    ## calculate variables and save into list\n",
    "    sent = \"neg\"    \n",
    "    deg_cent = nx.degree_centrality(ugraph)\n",
    "    bet_cent = nx.betweenness_centrality(ugraph)\n",
    "    clo_cent = nx.closeness_centrality(ugraph)\n",
    "    graph_values = {'name':filename,\n",
    "                    'sentiment':sent\n",
    "                    }\n",
    "    data = data.append(graph_values, ignore_index=True)\n",
    "\n",
    "    degree = nx.degree(ugraph)\n",
    "    deg_df = pd.DataFrame.from_dict(degree, orient = 'index')\n",
    "    deg_df.columns = ['degree']\n",
    "    # degree centrality\n",
    "    deg_cent = nx.degree_centrality(ugraph)\n",
    "    dc_df = pd.DataFrame.from_dict(deg_cent, orient = 'index')\n",
    "    dc_df.columns = ['deg cent']\n",
    "    # betweenness centrality\n",
    "    bet_cent = nx.betweenness_centrality(ugraph)\n",
    "    bc_df = pd.DataFrame.from_dict(bet_cent, orient = 'index')\n",
    "    bc_df.columns = ['bet cent']\n",
    "    # closeness centrality\n",
    "    clo_cent = nx.closeness_centrality(ugraph)\n",
    "    cc_df = pd.DataFrame.from_dict(clo_cent, orient = 'index')\n",
    "    cc_df.columns = ['clo cent']\n",
    "    # concat node frames into node_df\n",
    "    frames = [deg_df, dc_df, bc_df, cc_df]\n",
    "    node_df = pd.concat(frames, axis = 1)\n",
    "    node_df.index.name = 'node'\n",
    "    node_df = node_df.reset_index()\n",
    "\n",
    "    values = pd.DataFrame(graph_values, columns = ('name', 'sentiment'), index = [0])\n",
    "    \n",
    "    # df = merges graph_values with node_df for single graph and fill NaNs\n",
    "    df = pd.concat([values, node_df], axis = 1)\n",
    "    df = df.fillna(method='ffill')\n",
    "    combined_df = combined_df.append(df)"
   ]
  },
  {
   "cell_type": "code",
   "execution_count": null,
   "metadata": {
    "collapsed": false
   },
   "outputs": [],
   "source": []
  },
  {
   "cell_type": "code",
   "execution_count": null,
   "metadata": {
    "collapsed": false,
    "scrolled": true
   },
   "outputs": [],
   "source": [
    "# print entire network\n",
    "combined_df"
   ]
  },
  {
   "cell_type": "code",
   "execution_count": null,
   "metadata": {
    "collapsed": true
   },
   "outputs": [],
   "source": [
    "# save\n",
    "combined_df.to_csv('../output/df/u_nodes_neg.csv')"
   ]
  },
  {
   "cell_type": "markdown",
   "metadata": {},
   "source": [
    "---\n",
    "# Draw undirected and directed network"
   ]
  },
  {
   "cell_type": "code",
   "execution_count": null,
   "metadata": {
    "collapsed": true,
    "scrolled": false
   },
   "outputs": [],
   "source": [
    "# 7_graph_calculation\n",
    "def drawIt(graph, what = 'graph'):\n",
    "    nsize = graph.number_of_nodes()\n",
    "    print \"Drawing %s of size %s:\" % (what, nsize)\n",
    "    \n",
    "    if nsize > 20:\n",
    "        plt.figure(figsize=(10, 10))\n",
    "        if nsize > 40:\n",
    "            nx.draw_spring(graph, with_labels = True, node_size = 70, font_size = 12)\n",
    "        else:\n",
    "            nx.draw_spring(graph, with_labels = True)\n",
    "    else:\n",
    "        nx.draw_spring(graph, with_labels = True)\n",
    "    plt.show()\n",
    "\n",
    "# for undirected graphs\n",
    "def describeGraph(graph):\n",
    "    components = sorted(nx.connected_components(graph), key = len, reverse = True)\n",
    "    cc = [len(c) for c in components]\n",
    "    subgraphs = list(nx.connected_component_subgraphs(graph))\n",
    "    params = (graph.number_of_edges(),graph.number_of_nodes(),len(cc))\n",
    "    print \"Graph has %s edges, %s nodes, %s connected components\\n\" % params\n",
    "    drawIt(graph)\n",
    "    for sub in components:\n",
    "        drawIt(graph.subgraph(sub), what = 'component')\n",
    "\n",
    "# for directed graphs\n",
    "def describeGraph_d(graph):\n",
    "    components = sorted(nx.weakly_connected_components(graph), key = len, reverse = True)\n",
    "    cc = [len(c) for c in components]\n",
    "    subgraphs = list(nx.weakly_connected_component_subgraphs(graph))\n",
    "    params = (graph.number_of_edges(),graph.number_of_nodes(),len(cc))\n",
    "    print \"Graph has %s edges, %s nodes, %s connected components\\n\" % params\n",
    "    drawIt(graph)\n",
    "    for sub in components:\n",
    "        drawIt(graph.subgraph(sub), what = 'component')\n"
   ]
  },
  {
   "cell_type": "code",
   "execution_count": null,
   "metadata": {
    "collapsed": false,
    "scrolled": true
   },
   "outputs": [],
   "source": [
    "# UNDIRECTED network graph\n",
    "describeGraph(ugraph)"
   ]
  },
  {
   "cell_type": "code",
   "execution_count": null,
   "metadata": {
    "collapsed": false,
    "scrolled": true
   },
   "outputs": [],
   "source": [
    "# DIRECTED network graph\n",
    "describeGraph_d(graph)"
   ]
  },
  {
   "cell_type": "markdown",
   "metadata": {},
   "source": [
    "## Undirected graph representation"
   ]
  },
  {
   "cell_type": "code",
   "execution_count": null,
   "metadata": {
    "collapsed": false,
    "scrolled": false
   },
   "outputs": [],
   "source": [
    "# list of connected components by size (undirected graph)\n",
    "connected_components = [len(c) for c in sorted(nx.connected_components(ugraph), key=len, reverse=True)]\n",
    "\n",
    "# generate connected components as subgraphs (undirected graph)\n",
    "subgraphs = list(nx.connected_component_subgraphs(ugraph))\n",
    "\n",
    "# greatest component (undirected MultiGraph)\n",
    "u_Gc = max(nx.connected_component_subgraphs(ugraph), key=len)\n",
    "u_Gc.name = \"undirected Gc\""
   ]
  },
  {
   "cell_type": "code",
   "execution_count": null,
   "metadata": {
    "collapsed": false
   },
   "outputs": [],
   "source": [
    "print \"connected components = \", connected_components\n",
    "print nx.info(u_Gc)"
   ]
  },
  {
   "cell_type": "markdown",
   "metadata": {},
   "source": [
    "## Directed graph representation"
   ]
  },
  {
   "cell_type": "code",
   "execution_count": null,
   "metadata": {
    "collapsed": false
   },
   "outputs": [],
   "source": [
    "# use directed graph\n",
    "components = sorted(nx.weakly_connected_components(graph), key = len, reverse = True)\n",
    "cc = [len(c) for c in components]\n",
    "\n",
    "# generate connected components as subgraphs \n",
    "subgraphs = list(nx.weakly_connected_component_subgraphs(graph))\n",
    "\n",
    "# greatest component\n",
    "d_Gc = max(nx.weakly_connected_component_subgraphs(graph), key=len)\n",
    "d_Gc.name = \"directed Gc\""
   ]
  },
  {
   "cell_type": "code",
   "execution_count": null,
   "metadata": {
    "collapsed": false
   },
   "outputs": [],
   "source": [
    "print \"connected components = \", cc\n",
    "print nx.info(d_Gc)"
   ]
  },
  {
   "cell_type": "code",
   "execution_count": null,
   "metadata": {
    "collapsed": false
   },
   "outputs": [],
   "source": [
    "## understand how direction changes degree ##\n",
    "\n",
    "print nx.info(graph)  # original directed\n",
    "print nx.info(ugraph)  # to undirected\n",
    "temp = ugraph.to_directed()  # back to directed\n",
    "print nx.info(temp)"
   ]
  },
  {
   "cell_type": "code",
   "execution_count": null,
   "metadata": {
    "collapsed": false,
    "scrolled": false
   },
   "outputs": [],
   "source": [
    "# finally, greatest components for undirected and directed graphs\n",
    "print nx.info(u_Gc)\n",
    "print nx.info(d_Gc)"
   ]
  },
  {
   "cell_type": "code",
   "execution_count": null,
   "metadata": {
    "collapsed": true,
    "scrolled": false
   },
   "outputs": [],
   "source": [
    "# save Gc\n",
    "#nx.write_gml(u_Gc, \"../output/network/u_Gc_negative.gml\")\n",
    "#nx.write_gml(d_Gc, \"../output/network/d_Gc_negative.gml\")"
   ]
  },
  {
   "cell_type": "markdown",
   "metadata": {},
   "source": [
    "---\n",
    "# Calculate network statistics (averages) for greatest component."
   ]
  },
  {
   "cell_type": "code",
   "execution_count": null,
   "metadata": {
    "collapsed": true,
    "scrolled": false
   },
   "outputs": [],
   "source": [
    "# load directed Gc\n",
    "Gc_files = glob('../output/network/d_Gc_negative.gml')\n",
    "\n",
    "network_data_columns = ['name',\n",
    "                    'sentiment',\n",
    "                    '# nodes',\n",
    "                    '# edges',\n",
    "                    #'avg deg',\n",
    "                    'density',\n",
    "                    'deg assort coef', \n",
    "                    'avg deg cent',\n",
    "                    'avg bet cent',\n",
    "                    'avg clo cent',\n",
    "                    'high deg cent',\n",
    "                    'high bet cent',\n",
    "                    'high clo cent',\n",
    "                    'avg node conn',\n",
    "                    '# conn comp',\n",
    "                    'gc size'\n",
    "                    ]\n",
    "network_data = pd.DataFrame(columns = network_data_columns)"
   ]
  },
  {
   "cell_type": "code",
   "execution_count": null,
   "metadata": {
    "collapsed": false,
    "scrolled": false
   },
   "outputs": [],
   "source": [
    "# Gc_files\n",
    "\n",
    "for graph_num, gml_graph in enumerate(Gc_files):\n",
    "    graph = nx.read_gml(gml_graph)\n",
    "    (filepath, filename) = os.path.split(gml_graph)\n",
    "    print('-' * 10)\n",
    "    print(gml_graph)\n",
    "    calculate_graph_inf(graph)\n",
    "    \n",
    "    # calculate variables\n",
    "    sent = \"neg\"\n",
    "    nodes = nx.number_of_nodes(graph)\n",
    "    edges = nx.number_of_edges(graph)\n",
    "    density = float(\"{0:.4f}\".format(nx.density(graph)))\n",
    "    avg_deg_cen = np.array(nx.degree_centrality(graph).values()).mean()\n",
    "    avg_bet_cen = np.array(nx.betweenness_centrality(graph).values()).mean()\n",
    "    avg_clo_cen = np.array(nx.closeness_centrality(graph).values()).mean()\n",
    "    #avg_deg = float(\"{0:.4f}\".format(in_deg + out_deg))\n",
    "    avg_node_con = float(\"{0:.4f}\".format((nx.average_node_connectivity(graph))))\n",
    "    deg_assort_coeff = float(\"{0:.4f}\".format((nx.degree_assortativity_coefficient(graph))))\n",
    "    conn_comp = nx.number_weakly_connected_components(graph) # ugraph\n",
    "    deg_cen = nx.degree_centrality(graph)\n",
    "    bet_cen = nx.betweenness_centrality(graph)\n",
    "    clo_cen = nx.closeness_centrality(graph)\n",
    "    highest_deg_cen = highest_centrality(deg_cen)\n",
    "    highest_bet_cen = highest_centrality(bet_cen)\n",
    "    highest_clo_cen = highest_centrality(clo_cen)\n",
    "    Gc = len(max(nx.weakly_connected_component_subgraphs(graph), key=len))\n",
    "\n",
    "    # save variables into list\n",
    "    graph_values = {'name':filename,\n",
    "                    'sentiment':sent,\n",
    "                    '# nodes':nodes,\n",
    "                    '# edges':edges,\n",
    "                    #'avg deg':avg_deg,\n",
    "                    'density':density,\n",
    "                    'deg assort coef':deg_assort_coeff,\n",
    "                    'avg deg cent':\"%.4f\" % avg_deg_cen,\n",
    "                    'avg bet cent':\"%.4f\" % avg_bet_cen,\n",
    "                    'avg clo cent':\"%.4f\" % avg_clo_cen,\n",
    "                    'high deg cent':highest_deg_cen,\n",
    "                    'high bet cent':highest_bet_cen,\n",
    "                    'high clo cent':highest_clo_cen,\n",
    "                    'avg node conn':avg_node_con,\n",
    "                    '# conn comp':conn_comp,\n",
    "                    'gc size':Gc\n",
    "                    }\n",
    "    network_data = network_data.append(graph_values, ignore_index=True)"
   ]
  },
  {
   "cell_type": "code",
   "execution_count": null,
   "metadata": {
    "collapsed": false,
    "scrolled": false
   },
   "outputs": [],
   "source": [
    "# print network data for greatest component\n",
    "network_data"
   ]
  },
  {
   "cell_type": "code",
   "execution_count": null,
   "metadata": {
    "collapsed": true
   },
   "outputs": [],
   "source": [
    "# save\n",
    "#network_data.to_csv('../output/df/Gc_df_neg.csv')"
   ]
  },
  {
   "cell_type": "markdown",
   "metadata": {},
   "source": [
    "---\n",
    "# Gc nodes table"
   ]
  },
  {
   "cell_type": "code",
   "execution_count": null,
   "metadata": {
    "collapsed": true
   },
   "outputs": [],
   "source": [
    "gml_files = glob('../output/network/d_Gc_negative.gml')"
   ]
  },
  {
   "cell_type": "code",
   "execution_count": null,
   "metadata": {
    "collapsed": true
   },
   "outputs": [],
   "source": [
    "# 2_node_df: list all nodes and centrality\n",
    "data_columns = ['name',\n",
    "                'sentiment'\n",
    "                ]\n",
    "data = pd.DataFrame(columns = data_columns)\n",
    "#combined_df = pd.DataFrame()"
   ]
  },
  {
   "cell_type": "code",
   "execution_count": null,
   "metadata": {
    "collapsed": false
   },
   "outputs": [],
   "source": [
    "# graph = directed, ugraph = undirected\n",
    "for graph_num, gml_graph in enumerate(gml_files):\n",
    "    graph = nx.read_gml(gml_graph)\n",
    "    (filepath, filename) = os.path.split(gml_graph)\n",
    "    print('-' * 10)\n",
    "    print(gml_graph)\n",
    "    calculate_graph_inf(graph)\n",
    "\n",
    "    ## calculate variables and save into list\n",
    "    sent = \"neg\"    \n",
    "    deg_cent = nx.degree_centrality(graph)\n",
    "    bet_cent = nx.betweenness_centrality(graph)\n",
    "    clo_cent = nx.closeness_centrality(graph)\n",
    "    graph_values = {'name':filename,\n",
    "                    'sentiment':sent\n",
    "                    }\n",
    "    data = data.append(graph_values, ignore_index=True)\n",
    "\n",
    "    degree = nx.degree(graph)\n",
    "    deg_df = pd.DataFrame.from_dict(degree, orient = 'index')\n",
    "    deg_df.columns = ['degree']\n",
    "    # degree centrality\n",
    "    deg_cent = nx.degree_centrality(graph)\n",
    "    dc_df = pd.DataFrame.from_dict(deg_cent, orient = 'index')\n",
    "    dc_df.columns = ['deg cent']\n",
    "    # betweenness centrality\n",
    "    bet_cent = nx.betweenness_centrality(graph)\n",
    "    bc_df = pd.DataFrame.from_dict(bet_cent, orient = 'index')\n",
    "    bc_df.columns = ['bet cent']\n",
    "    # closeness centrality\n",
    "    clo_cent = nx.closeness_centrality(graph)\n",
    "    cc_df = pd.DataFrame.from_dict(clo_cent, orient = 'index')\n",
    "    cc_df.columns = ['clo cent']\n",
    "    # concat node frames into node_df\n",
    "    frames = [deg_df, dc_df, bc_df, cc_df]\n",
    "    node_df = pd.concat(frames, axis = 1)\n",
    "    node_df.index.name = 'node'\n",
    "    node_df = node_df.reset_index()\n",
    "\n",
    "    values = pd.DataFrame(graph_values, columns = ('name', 'sentiment'), index = [0])\n",
    "    \n",
    "    # df = merges graph_values with node_df for single graph and fill NaNs\n",
    "    df = pd.concat([values, node_df], axis = 1)\n",
    "    df = df.fillna(method='ffill')\n",
    "    #combined_df = combined_df.append(df)"
   ]
  },
  {
   "cell_type": "code",
   "execution_count": null,
   "metadata": {
    "collapsed": false
   },
   "outputs": [],
   "source": [
    "# print negative gc nodes\n",
    "df"
   ]
  },
  {
   "cell_type": "code",
   "execution_count": null,
   "metadata": {
    "collapsed": true
   },
   "outputs": [],
   "source": [
    "# save\n",
    "df.to_csv('../output/df/Gc_nodes_neg.csv')"
   ]
  },
  {
   "cell_type": "markdown",
   "metadata": {},
   "source": [
    "---\n",
    "# Cutsets"
   ]
  },
  {
   "cell_type": "code",
   "execution_count": null,
   "metadata": {
    "collapsed": false
   },
   "outputs": [],
   "source": [
    "print \"Greatest component size =\", len(graph)"
   ]
  },
  {
   "cell_type": "code",
   "execution_count": null,
   "metadata": {
    "collapsed": false,
    "scrolled": false
   },
   "outputs": [],
   "source": [
    "# returns all minimum k cutsets of an undirected graph\n",
    "# i.e., the set(s) of nodes of cardinality equal to the node connectivity of G\n",
    "# thus if removed, would break G into two or more connected components\n",
    "\n",
    "#cutsets = list(nx.all_node_cuts(graph))  # must be undirected\n",
    "\n",
    "print \"Greatest component size =\", len(graph)\n",
    "#print \"# of cutsets =\", len(cutsets)\n",
    "\n",
    "# returns a set of nodes or edges of minimum cardinality that disconnects G\n",
    "min_ncut = nx.minimum_node_cut(graph)\n",
    "min_ecut = nx.minimum_edge_cut(graph)\n",
    "\n",
    "print \"Min node cut =\", min_ncut\n",
    "print \"Min edge cut =\", min_ecut\n",
    "\n",
    "# min cuts with source and target\n",
    "print nx.minimum_node_cut(graph, s='vaccines', t='autism')\n",
    "print nx.minimum_edge_cut(graph, s='vaccines', t='autism')"
   ]
  },
  {
   "cell_type": "code",
   "execution_count": null,
   "metadata": {
    "collapsed": false,
    "scrolled": false
   },
   "outputs": [],
   "source": [
    "# read edge labels in min cut for Gc\n",
    "# change source and target\n",
    "a = nx.minimum_edge_cut(graph, s='vaccines', t='autism')\n",
    "#a = nx.minimum_edge_cut(graph)\n",
    "\n",
    "labels = nx.get_edge_attributes(graph,'edge')\n",
    "edgelabels = {}\n",
    "for e in labels.keys():\n",
    "    e1 = e[0:2]\n",
    "    edgelabels[e1]=labels[e]\n",
    "\n",
    "for e in a:\n",
    "    if edgelabels.has_key(e):\n",
    "        print e,edgelabels[e]\n",
    "    else:\n",
    "        rev_e = e[::-1]\n",
    "        print rev_e, edgelabels[rev_e]"
   ]
  },
  {
   "cell_type": "markdown",
   "metadata": {},
   "source": [
    "- - -"
   ]
  },
  {
   "cell_type": "markdown",
   "metadata": {},
   "source": [
    "# Centrality tables"
   ]
  },
  {
   "cell_type": "code",
   "execution_count": null,
   "metadata": {
    "collapsed": false
   },
   "outputs": [],
   "source": [
    "# make sure you're using the right graph\n",
    "print \"gml_files = \", gml_files\n",
    "print \"gml_graph = \", gml_graph"
   ]
  },
  {
   "cell_type": "code",
   "execution_count": null,
   "metadata": {
    "collapsed": false
   },
   "outputs": [],
   "source": [
    "graph = nx.read_gml('../output/network/article_neg1.gml')  # full network\n",
    "#graph = nx.read_gml('../output/network/d_Gc_negative.gml')  # gc network\n",
    "\n",
    "print nx.info(graph)"
   ]
  },
  {
   "cell_type": "code",
   "execution_count": null,
   "metadata": {
    "collapsed": false,
    "scrolled": true
   },
   "outputs": [],
   "source": [
    "# degree centrality\n",
    "dc = nx.degree_centrality(graph)\n",
    "dc_df = pd.DataFrame.from_dict(dc, orient = 'index')\n",
    "dc_df.columns = ['degree cent']\n",
    "dc_df = dc_df.sort_values(by = ['degree cent'])\n",
    "#dc_df\n",
    "\n",
    "# betweenness centrality\n",
    "bc = nx.betweenness_centrality(graph)\n",
    "bc_df = pd.DataFrame.from_dict(bc, orient = 'index')\n",
    "bc_df.columns = ['betweenness cent']\n",
    "bc_df = bc_df.sort_values(by = ['betweenness cent'])\n",
    "#bc_df\n",
    "\n",
    "# closeness centrality\n",
    "cc = nx.closeness_centrality(graph)\n",
    "cc_df = pd.DataFrame.from_dict(cc, orient = 'index')\n",
    "cc_df.columns = ['closeness cent']\n",
    "cc_df = cc_df.sort_values(by = ['closeness cent'])\n",
    "#cc_df"
   ]
  },
  {
   "cell_type": "code",
   "execution_count": null,
   "metadata": {
    "collapsed": false
   },
   "outputs": [],
   "source": [
    "dc_df"
   ]
  },
  {
   "cell_type": "code",
   "execution_count": null,
   "metadata": {
    "collapsed": false
   },
   "outputs": [],
   "source": [
    "bc_df"
   ]
  },
  {
   "cell_type": "code",
   "execution_count": null,
   "metadata": {
    "collapsed": false
   },
   "outputs": [],
   "source": [
    "cc_df"
   ]
  },
  {
   "cell_type": "code",
   "execution_count": null,
   "metadata": {
    "collapsed": true
   },
   "outputs": [],
   "source": []
  }
 ],
 "metadata": {
  "kernelspec": {
   "display_name": "Python 2",
   "language": "python",
   "name": "python2"
  },
  "language_info": {
   "codemirror_mode": {
    "name": "ipython",
    "version": 2
   },
   "file_extension": ".py",
   "mimetype": "text/x-python",
   "name": "python",
   "nbconvert_exporter": "python",
   "pygments_lexer": "ipython2",
   "version": "2.7.11"
  }
 },
 "nbformat": 4,
 "nbformat_minor": 0
}
