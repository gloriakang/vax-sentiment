{
 "cells": [
  {
   "cell_type": "markdown",
   "metadata": {},
   "source": [
    "# Full network measures for all sentiment"
   ]
  },
  {
   "cell_type": "code",
   "execution_count": 1,
   "metadata": {
    "collapsed": false,
    "scrolled": false
   },
   "outputs": [],
   "source": [
    "import networkx as nx\n",
    "import numpy as np\n",
    "import pandas as pd\n",
    "import matplotlib.pyplot as plt\n",
    "%matplotlib inline\n",
    "import os\n",
    "from glob import glob\n",
    "\n",
    "plt.style.use('ggplot')\n",
    "pd.set_option('display.width', 5000) \n",
    "pd.set_option('display.max_columns', 60)"
   ]
  },
  {
   "cell_type": "code",
   "execution_count": 2,
   "metadata": {
    "collapsed": true,
    "scrolled": false
   },
   "outputs": [],
   "source": [
    "def calculate_graph_inf(graph):\n",
    "    graph.name = filename\n",
    "    info = nx.info(graph)\n",
    "    print info\n",
    "\n",
    "def highest_centrality(cent_dict):\n",
    "    \"\"\"Returns a tuple (node,value) with the node\n",
    "    with largest value from centrality dictionary.\"\"\"\n",
    "    # create ordered tuple of centrality data\n",
    "    cent_items = [(b,a) for (a,b) in cent_dict.iteritems()]\n",
    "    # sort in descending order\n",
    "    cent_items.sort()\n",
    "    cent_items.reverse()\n",
    "    return tuple(reversed(cent_items[0]))"
   ]
  },
  {
   "cell_type": "markdown",
   "metadata": {},
   "source": [
    "---\n",
    "# Calculate network statistics (undirected)"
   ]
  },
  {
   "cell_type": "code",
   "execution_count": 3,
   "metadata": {
    "collapsed": false
   },
   "outputs": [],
   "source": [
    "# run undirected\n",
    "gml_files = glob('../output/network/article_u_*.gml')\n",
    "\n",
    "# load undirected\n",
    "#gml_files = glob('../output/network/article_u_pos.gml')\n",
    "#gml_files = glob('../output/network/article_u_neg.gml')\n",
    "#gml_files = glob('../output/network/article_u_neu.gml')"
   ]
  },
  {
   "cell_type": "code",
   "execution_count": 4,
   "metadata": {
    "collapsed": false
   },
   "outputs": [
    {
     "data": {
      "text/plain": [
       "['../output/network/article_u_neg.gml',\n",
       " '../output/network/article_u_neu.gml',\n",
       " '../output/network/article_u_pos.gml']"
      ]
     },
     "execution_count": 4,
     "metadata": {},
     "output_type": "execute_result"
    }
   ],
   "source": [
    "gml_files"
   ]
  },
  {
   "cell_type": "code",
   "execution_count": 5,
   "metadata": {
    "collapsed": true
   },
   "outputs": [],
   "source": [
    "network_data_columns = ['name',\n",
    "                    #'sentiment',\n",
    "                    '# nodes',\n",
    "                    '# edges',\n",
    "                    #'avg deg',\n",
    "                    'density',\n",
    "                    'deg assort coef', \n",
    "                    'avg deg cent',\n",
    "                    'avg bet cent',\n",
    "                    'avg clo cent',\n",
    "                    'high deg cent',\n",
    "                    'high bet cent',\n",
    "                    'high clo cent',\n",
    "                    'avg node conn',\n",
    "                    '# conn comp',\n",
    "                    'gc size'\n",
    "                    ]\n",
    "network_data = pd.DataFrame(columns = network_data_columns)"
   ]
  },
  {
   "cell_type": "code",
   "execution_count": null,
   "metadata": {
    "collapsed": false
   },
   "outputs": [
    {
     "name": "stdout",
     "output_type": "stream",
     "text": [
      "----------\n",
      "../output/network/article_u_neg.gml\n",
      "Name: article_u_neg.gml\n",
      "Type: MultiGraph\n",
      "Number of nodes: 1257\n",
      "Number of edges: 1854\n",
      "Average degree:   2.9499\n"
     ]
    }
   ],
   "source": [
    "for graph_num, gml_graph in enumerate(gml_files):\n",
    "    graph = nx.read_gml(gml_graph)\n",
    "    (filepath, filename) = os.path.split(gml_graph)\n",
    "    print('-' * 10)\n",
    "    print(gml_graph)\n",
    "    calculate_graph_inf(graph)\n",
    "    \n",
    "    # change\n",
    "    #sent = \"\"\n",
    "    nodes = nx.number_of_nodes(graph)\n",
    "    edges = nx.number_of_edges(graph)\n",
    "    density = float(\"{0:.4f}\".format(nx.density(graph)))\n",
    "    avg_deg_cen = np.array(nx.degree_centrality(graph).values()).mean()\n",
    "    avg_bet_cen = np.array(nx.betweenness_centrality(graph).values()).mean()\n",
    "    avg_clo_cen = np.array(nx.closeness_centrality(graph).values()).mean()\n",
    "    #avg_deg = float(\"{0:.4f}\".format(in_deg + out_deg))\n",
    "    avg_node_con = float(\"{0:.4f}\".format((nx.average_node_connectivity(graph))))\n",
    "    deg_assort_coeff = float(\"{0:.4f}\".format((nx.degree_assortativity_coefficient(graph))))\n",
    "    #conn_comp = nx.number_weakly_connected_components(graph) # not for undirected\n",
    "    deg_cen = nx.degree_centrality(graph)\n",
    "    bet_cen = nx.betweenness_centrality(graph)\n",
    "    clo_cen = nx.closeness_centrality(graph)\n",
    "    highest_deg_cen = highest_centrality(deg_cen)\n",
    "    highest_bet_cen = highest_centrality(bet_cen)\n",
    "    highest_clo_cen = highest_centrality(clo_cen)\n",
    "    #Gc = len(max(nx.weakly_connected_component_subgraphs(graph), key=len))\n",
    "\n",
    "    # save variables into list\n",
    "    graph_values = {'name':filename,\n",
    "                    #'sentiment':sent,\n",
    "                    '# nodes':nodes,\n",
    "                    '# edges':edges,\n",
    "                    #'avg deg':avg_deg,\n",
    "                    'density':density,\n",
    "                    'deg assort coef':deg_assort_coeff,\n",
    "                    'avg deg cent':\"%.4f\" % avg_deg_cen,\n",
    "                    'avg bet cent':\"%.4f\" % avg_bet_cen,\n",
    "                    'avg clo cent':\"%.4f\" % avg_clo_cen,\n",
    "                    'high deg cent':highest_deg_cen,\n",
    "                    'high bet cent':highest_bet_cen,\n",
    "                    'high clo cent':highest_clo_cen,\n",
    "                    'avg node conn':avg_node_con\n",
    "                    #'# conn comp':conn_comp,\n",
    "                    #'gc size':Gc\n",
    "                    }\n",
    "    network_data = network_data.append(graph_values, ignore_index=True)"
   ]
  },
  {
   "cell_type": "code",
   "execution_count": null,
   "metadata": {
    "collapsed": false
   },
   "outputs": [],
   "source": [
    "# print network data\n",
    "network_data"
   ]
  },
  {
   "cell_type": "code",
   "execution_count": null,
   "metadata": {
    "collapsed": true
   },
   "outputs": [],
   "source": [
    "# save\n"
   ]
  },
  {
   "cell_type": "markdown",
   "metadata": {
    "collapsed": true
   },
   "source": [
    "---\n",
    "# Calculate network statistics (directed)"
   ]
  },
  {
   "cell_type": "code",
   "execution_count": null,
   "metadata": {
    "collapsed": true
   },
   "outputs": [],
   "source": [
    "# run directed\n",
    "#gml_files = glob('../output/network/article_*.gml')\n",
    "\n",
    "# load directed\n",
    "#gml_files = glob('../output/network/article_pos1.gml')\n",
    "#gml_files = glob('../output/network/article_neg1.gml')\n",
    "#gml_files = glob('../output/network/article_neu1.gml')"
   ]
  },
  {
   "cell_type": "code",
   "execution_count": null,
   "metadata": {
    "collapsed": true
   },
   "outputs": [],
   "source": [
    "for graph_num, gml_graph in enumerate(gml_files):\n",
    "    graph = nx.read_gml(gml_graph)\n",
    "    (filepath, filename) = os.path.split(gml_graph)\n",
    "    print('-' * 10)\n",
    "    print(gml_graph)\n",
    "    calculate_graph_inf(graph)\n",
    "    \n",
    "    # change\n",
    "    #sent = \"\"\n",
    "    nodes = nx.number_of_nodes(graph)\n",
    "    edges = nx.number_of_edges(graph)\n",
    "    density = float(\"{0:.4f}\".format(nx.density(graph)))\n",
    "    avg_deg_cen = np.array(nx.degree_centrality(graph).values()).mean()\n",
    "    avg_bet_cen = np.array(nx.betweenness_centrality(graph).values()).mean()\n",
    "    avg_clo_cen = np.array(nx.closeness_centrality(graph).values()).mean()\n",
    "    #avg_deg = float(\"{0:.4f}\".format(in_deg + out_deg))\n",
    "    avg_node_con = float(\"{0:.4f}\".format((nx.average_node_connectivity(graph))))\n",
    "    deg_assort_coeff = float(\"{0:.4f}\".format((nx.degree_assortativity_coefficient(graph))))\n",
    "    #conn_comp = nx.number_weakly_connected_components(graph) # not for undirected\n",
    "    deg_cen = nx.degree_centrality(graph)\n",
    "    bet_cen = nx.betweenness_centrality(graph)\n",
    "    clo_cen = nx.closeness_centrality(graph)\n",
    "    highest_deg_cen = highest_centrality(deg_cen)\n",
    "    highest_bet_cen = highest_centrality(bet_cen)\n",
    "    highest_clo_cen = highest_centrality(clo_cen)\n",
    "    #Gc = len(max(nx.weakly_connected_component_subgraphs(graph), key=len))\n",
    "\n",
    "    # save variables into list\n",
    "    graph_values = {'name':filename,\n",
    "                    #'sentiment':sent,\n",
    "                    '# nodes':nodes,\n",
    "                    '# edges':edges,\n",
    "                    #'avg deg':avg_deg,\n",
    "                    'density':density,\n",
    "                    'deg assort coef':deg_assort_coeff,\n",
    "                    'avg deg cent':\"%.4f\" % avg_deg_cen,\n",
    "                    'avg bet cent':\"%.4f\" % avg_bet_cen,\n",
    "                    'avg clo cent':\"%.4f\" % avg_clo_cen,\n",
    "                    'high deg cent':highest_deg_cen,\n",
    "                    'high bet cent':highest_bet_cen,\n",
    "                    'high clo cent':highest_clo_cen,\n",
    "                    'avg node conn':avg_node_con\n",
    "                    #'# conn comp':conn_comp,\n",
    "                    #'gc size':Gc\n",
    "                    }\n",
    "    network_data = network_data.append(graph_values, ignore_index=True)"
   ]
  },
  {
   "cell_type": "code",
   "execution_count": null,
   "metadata": {
    "collapsed": true
   },
   "outputs": [],
   "source": [
    "# print network data\n",
    "network_data"
   ]
  },
  {
   "cell_type": "code",
   "execution_count": null,
   "metadata": {
    "collapsed": true
   },
   "outputs": [],
   "source": [
    "# save\n"
   ]
  },
  {
   "cell_type": "markdown",
   "metadata": {},
   "source": [
    "---\n",
    "# all nodes table"
   ]
  },
  {
   "cell_type": "code",
   "execution_count": null,
   "metadata": {
    "collapsed": true
   },
   "outputs": [],
   "source": [
    "# run directed\n",
    "#gml_files = glob('../output/network/article_*.gml')\n",
    "\n",
    "# run undirected\n",
    "gml_files = glob('../output/network/article_u_*.gml')\n",
    "\n",
    "\n",
    "# load directed\n",
    "#gml_files = glob('../output/network/article_pos1.gml')\n",
    "#gml_files = glob('../output/network/article_neg1.gml')\n",
    "#gml_files = glob('../output/network/article_neu1.gml')\n",
    "\n",
    "# load undirected\n",
    "#gml_files = glob('../output/network/article_u_pos.gml')\n",
    "#gml_files = glob('../output/network/article_u_neg.gml')\n",
    "#gml_files = glob('../output/network/article_u_neu.gml')"
   ]
  },
  {
   "cell_type": "code",
   "execution_count": null,
   "metadata": {
    "collapsed": true,
    "scrolled": false
   },
   "outputs": [],
   "source": [
    "data_columns = ['name'\n",
    "                ]\n",
    "data = pd.DataFrame(columns = data_columns)\n",
    "combined_df = pd.DataFrame()"
   ]
  },
  {
   "cell_type": "code",
   "execution_count": null,
   "metadata": {
    "collapsed": false,
    "scrolled": true
   },
   "outputs": [],
   "source": [
    "for graph_num, gml_graph in enumerate(gml_files):\n",
    "    graph = nx.read_gml(gml_graph)\n",
    "    (filepath, filename) = os.path.split(gml_graph)\n",
    "    print('-' * 10)\n",
    "    print(gml_graph)\n",
    "    calculate_graph_inf(graph)\n",
    "\n",
    "    ## calculate variables and save into list\n",
    "    #sent = \"\"    \n",
    "    deg_cent = nx.degree_centrality(graph)\n",
    "    bet_cent = nx.betweenness_centrality(graph)\n",
    "    clo_cent = nx.closeness_centrality(graph)\n",
    "    graph_values = {'name':filename,\n",
    "                    'sentiment':sent\n",
    "                    }\n",
    "    data = data.append(graph_values, ignore_index=True)\n",
    "\n",
    "    degree = nx.degree(graph)\n",
    "    deg_df = pd.DataFrame.from_dict(degree, orient = 'index')\n",
    "    deg_df.columns = ['degree']\n",
    "    # degree centrality\n",
    "    deg_cent = nx.degree_centrality(graph)\n",
    "    dc_df = pd.DataFrame.from_dict(deg_cent, orient = 'index')\n",
    "    dc_df.columns = ['deg cent']\n",
    "    # betweenness centrality\n",
    "    bet_cent = nx.betweenness_centrality(graph)\n",
    "    bc_df = pd.DataFrame.from_dict(bet_cent, orient = 'index')\n",
    "    bc_df.columns = ['bet cent']\n",
    "    # closeness centrality\n",
    "    clo_cent = nx.closeness_centrality(graph)\n",
    "    cc_df = pd.DataFrame.from_dict(clo_cent, orient = 'index')\n",
    "    cc_df.columns = ['clo cent']\n",
    "    # concat node frames into node_df\n",
    "    frames = [deg_df, dc_df, bc_df, cc_df]\n",
    "    node_df = pd.concat(frames, axis = 1)\n",
    "    node_df.index.name = 'node'\n",
    "    node_df = node_df.reset_index()\n",
    "\n",
    "    values = pd.DataFrame(graph_values, columns = ('name', 'sentiment'), index = [0])\n",
    "    \n",
    "    # df = merges graph_values with node_df for single graph and fill NaNs\n",
    "    df = pd.concat([values, node_df], axis = 1)\n",
    "    df = df.fillna(method='ffill')\n",
    "    combined_df = combined_df.append(df)"
   ]
  },
  {
   "cell_type": "code",
   "execution_count": null,
   "metadata": {
    "collapsed": false,
    "scrolled": true
   },
   "outputs": [],
   "source": [
    "# print entire network\n",
    "combined_df"
   ]
  },
  {
   "cell_type": "code",
   "execution_count": null,
   "metadata": {
    "collapsed": false
   },
   "outputs": [],
   "source": [
    "print graph"
   ]
  }
 ],
 "metadata": {
  "kernelspec": {
   "display_name": "Python 2",
   "language": "python",
   "name": "python2"
  },
  "language_info": {
   "codemirror_mode": {
    "name": "ipython",
    "version": 2
   },
   "file_extension": ".py",
   "mimetype": "text/x-python",
   "name": "python",
   "nbconvert_exporter": "python",
   "pygments_lexer": "ipython2",
   "version": "2.7.11"
  }
 },
 "nbformat": 4,
 "nbformat_minor": 0
}
