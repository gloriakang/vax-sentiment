{
 "cells": [
  {
   "cell_type": "markdown",
   "metadata": {
    "collapsed": true
   },
   "source": [
    "## negative graph"
   ]
  },
  {
   "cell_type": "markdown",
   "metadata": {},
   "source": [
    "# 1."
   ]
  },
  {
   "cell_type": "code",
   "execution_count": 1,
   "metadata": {
    "collapsed": false,
    "scrolled": false
   },
   "outputs": [],
   "source": [
    "# 1_network_df\n",
    "\n",
    "import networkx as nx\n",
    "import numpy as np\n",
    "import pandas as pd\n",
    "import matplotlib.pyplot as plt\n",
    "%matplotlib inline\n",
    "import os\n",
    "from glob import glob\n",
    "\n",
    "plt.style.use('ggplot')\n",
    "pd.set_option('display.width', 5000) \n",
    "pd.set_option('display.max_columns', 60)\n",
    "\n",
    "gml_files = glob('../output/network/article_neg1.gml')"
   ]
  },
  {
   "cell_type": "code",
   "execution_count": 2,
   "metadata": {
    "collapsed": true,
    "scrolled": false
   },
   "outputs": [],
   "source": [
    "def calculate_graph_inf(graph):\n",
    "    graph.name = filename\n",
    "    info = nx.info(graph)\n",
    "    print info\n",
    "\n",
    "def highest_centrality(cent_dict):\n",
    "    \"\"\"Returns a tuple (node,value) with the node\n",
    "    with largest value from centrality dictionary.\"\"\"\n",
    "    # create ordered tuple of centrality data\n",
    "    cent_items = [(b,a) for (a,b) in cent_dict.iteritems()]\n",
    "    # sort in descending order\n",
    "    cent_items.sort()\n",
    "    cent_items.reverse()\n",
    "    return tuple(reversed(cent_items[0]))"
   ]
  },
  {
   "cell_type": "markdown",
   "metadata": {},
   "source": [
    "---\n",
    "# 2. convert to undirected"
   ]
  },
  {
   "cell_type": "code",
   "execution_count": 3,
   "metadata": {
    "collapsed": false
   },
   "outputs": [
    {
     "name": "stdout",
     "output_type": "stream",
     "text": [
      "----------\n",
      "../output/network/article_neg1.gml\n",
      "Name: article_neg1.gml\n",
      "Type: MultiDiGraph\n",
      "Number of nodes: 1257\n",
      "Number of edges: 1898\n",
      "Average in degree:   1.5099\n",
      "Average out degree:   1.5099\n",
      "Name: article_neg1.gml\n",
      "Type: MultiGraph\n",
      "Number of nodes: 1257\n",
      "Number of edges: 1854\n",
      "Average degree:   2.9499\n"
     ]
    }
   ],
   "source": [
    "for graph_num, gml_graph in enumerate(gml_files):\n",
    "    dgraph = nx.read_gml(gml_graph)\n",
    "    ugraph = dgraph.to_undirected() # to undirected graph\n",
    "    #U = dgraph.to_undirected(reciprocal=True)\n",
    "    #e = U.edges()\n",
    "    #ugraph.add_edges_from(e)\n",
    "    (filepath, filename) = os.path.split(gml_graph)\n",
    "    print('-' * 10)\n",
    "    print(gml_graph)\n",
    "    calculate_graph_inf(dgraph)\n",
    "    calculate_graph_inf(ugraph)"
   ]
  },
  {
   "cell_type": "code",
   "execution_count": 4,
   "metadata": {
    "collapsed": false
   },
   "outputs": [],
   "source": [
    "# save undirected gml\n",
    "nx.write_gml(ugraph, \"../output/network/article_u_neg.gml\")"
   ]
  },
  {
   "cell_type": "markdown",
   "metadata": {},
   "source": [
    "dgraph = directed\n",
    "ugraph = undirected"
   ]
  },
  {
   "cell_type": "markdown",
   "metadata": {},
   "source": [
    "# undirected graph"
   ]
  },
  {
   "cell_type": "code",
   "execution_count": 5,
   "metadata": {
    "collapsed": true
   },
   "outputs": [],
   "source": [
    "# load\n",
    "gml_files = glob('../output/network/article_u_neg.gml')"
   ]
  },
  {
   "cell_type": "code",
   "execution_count": 6,
   "metadata": {
    "collapsed": false
   },
   "outputs": [
    {
     "name": "stdout",
     "output_type": "stream",
     "text": [
      "----------\n",
      "../output/network/article_u_neg.gml\n",
      "Name: article_u_neg.gml\n",
      "Type: MultiGraph\n",
      "Number of nodes: 1257\n",
      "Number of edges: 1854\n",
      "Average degree:   2.9499\n"
     ]
    }
   ],
   "source": [
    "# ugraph = undirected; dgraph = directed\n",
    "for graph_num, gml_graph in enumerate(gml_files):\n",
    "    ugraph = nx.read_gml(gml_graph)\n",
    "    (filepath, filename) = os.path.split(gml_graph)\n",
    "    print('-' * 10)\n",
    "    print(gml_graph)\n",
    "    calculate_graph_inf(ugraph)"
   ]
  },
  {
   "cell_type": "markdown",
   "metadata": {},
   "source": [
    "---\n",
    "# 3. all nodes table"
   ]
  },
  {
   "cell_type": "code",
   "execution_count": 7,
   "metadata": {
    "collapsed": true,
    "scrolled": false
   },
   "outputs": [],
   "source": [
    "# 2_node_df: list all nodes and centrality\n",
    "data_columns = ['name',\n",
    "                'sentiment'\n",
    "                ]\n",
    "data = pd.DataFrame(columns = data_columns)\n",
    "combined_df = pd.DataFrame()"
   ]
  },
  {
   "cell_type": "code",
   "execution_count": 8,
   "metadata": {
    "collapsed": true
   },
   "outputs": [],
   "source": [
    "# calculate variables and save into list\n",
    "sent = \"negative\"    \n",
    "deg_cent = nx.degree_centrality(ugraph)\n",
    "bet_cent = nx.betweenness_centrality(ugraph)\n",
    "clo_cent = nx.closeness_centrality(ugraph)\n",
    "graph_values = {'name':filename,\n",
    "                'sentiment':sent\n",
    "                }\n",
    "data = data.append(graph_values, ignore_index=True)\n",
    "\n",
    "degree = nx.degree(ugraph)\n",
    "deg_df = pd.DataFrame.from_dict(degree, orient = 'index')\n",
    "deg_df.columns = ['degree']\n",
    "\n",
    "# degree centrality\n",
    "deg_cent = nx.degree_centrality(ugraph)\n",
    "dc_df = pd.DataFrame.from_dict(deg_cent, orient = 'index')\n",
    "dc_df.columns = ['deg cent']\n",
    "\n",
    "# betweenness centrality\n",
    "bet_cent = nx.betweenness_centrality(ugraph)\n",
    "bc_df = pd.DataFrame.from_dict(bet_cent, orient = 'index')\n",
    "bc_df.columns = ['bet cent']\n",
    "\n",
    "# closeness centrality\n",
    "clo_cent = nx.closeness_centrality(ugraph)\n",
    "cc_df = pd.DataFrame.from_dict(clo_cent, orient = 'index')\n",
    "cc_df.columns = ['clo cent']\n",
    "\n",
    "# concat node frames into node_df\n",
    "frames = [deg_df, dc_df, bc_df, cc_df]\n",
    "node_df = pd.concat(frames, axis = 1)\n",
    "node_df.index.name = 'node'\n",
    "node_df = node_df.reset_index()\n",
    "\n",
    "values = pd.DataFrame(graph_values, columns = ('name', 'sentiment'), index = [0])\n",
    "\n",
    "# df = merges graph_values with node_df for single graph and fill NaNs\n",
    "df = pd.concat([values, node_df], axis = 1)\n",
    "df = df.fillna(method='ffill')\n",
    "combined_df = combined_df.append(df)"
   ]
  },
  {
   "cell_type": "code",
   "execution_count": 9,
   "metadata": {
    "collapsed": false,
    "scrolled": true
   },
   "outputs": [
    {
     "data": {
      "text/html": [
       "<div>\n",
       "<table border=\"1\" class=\"dataframe\">\n",
       "  <thead>\n",
       "    <tr style=\"text-align: right;\">\n",
       "      <th></th>\n",
       "      <th>name</th>\n",
       "      <th>sentiment</th>\n",
       "      <th>node</th>\n",
       "      <th>degree</th>\n",
       "      <th>deg cent</th>\n",
       "      <th>bet cent</th>\n",
       "      <th>clo cent</th>\n",
       "    </tr>\n",
       "  </thead>\n",
       "  <tbody>\n",
       "    <tr>\n",
       "      <th>0</th>\n",
       "      <td>article_u_neg.gml</td>\n",
       "      <td>negative</td>\n",
       "      <td>ACIP</td>\n",
       "      <td>1</td>\n",
       "      <td>0.000796</td>\n",
       "      <td>0.000000e+00</td>\n",
       "      <td>0.149349</td>\n",
       "    </tr>\n",
       "    <tr>\n",
       "      <th>1</th>\n",
       "      <td>article_u_neg.gml</td>\n",
       "      <td>negative</td>\n",
       "      <td>ACIP's rotavirus use recommendation</td>\n",
       "      <td>1</td>\n",
       "      <td>0.000796</td>\n",
       "      <td>0.000000e+00</td>\n",
       "      <td>0.187493</td>\n",
       "    </tr>\n",
       "    <tr>\n",
       "      <th>2</th>\n",
       "      <td>article_u_neg.gml</td>\n",
       "      <td>negative</td>\n",
       "      <td>ADHD</td>\n",
       "      <td>1</td>\n",
       "      <td>0.000796</td>\n",
       "      <td>0.000000e+00</td>\n",
       "      <td>0.228872</td>\n",
       "    </tr>\n",
       "    <tr>\n",
       "      <th>3</th>\n",
       "      <td>article_u_neg.gml</td>\n",
       "      <td>negative</td>\n",
       "      <td>AIDS</td>\n",
       "      <td>1</td>\n",
       "      <td>0.000796</td>\n",
       "      <td>0.000000e+00</td>\n",
       "      <td>0.177383</td>\n",
       "    </tr>\n",
       "    <tr>\n",
       "      <th>4</th>\n",
       "      <td>article_u_neg.gml</td>\n",
       "      <td>negative</td>\n",
       "      <td>African American males</td>\n",
       "      <td>2</td>\n",
       "      <td>0.001592</td>\n",
       "      <td>0.000000e+00</td>\n",
       "      <td>0.222944</td>\n",
       "    </tr>\n",
       "    <tr>\n",
       "      <th>5</th>\n",
       "      <td>article_u_neg.gml</td>\n",
       "      <td>negative</td>\n",
       "      <td>African women</td>\n",
       "      <td>3</td>\n",
       "      <td>0.002389</td>\n",
       "      <td>2.158333e-03</td>\n",
       "      <td>0.241219</td>\n",
       "    </tr>\n",
       "    <tr>\n",
       "      <th>6</th>\n",
       "      <td>article_u_neg.gml</td>\n",
       "      <td>negative</td>\n",
       "      <td>African-American children</td>\n",
       "      <td>1</td>\n",
       "      <td>0.000796</td>\n",
       "      <td>0.000000e+00</td>\n",
       "      <td>0.206704</td>\n",
       "    </tr>\n",
       "    <tr>\n",
       "      <th>7</th>\n",
       "      <td>article_u_neg.gml</td>\n",
       "      <td>negative</td>\n",
       "      <td>Alysia Osoff</td>\n",
       "      <td>6</td>\n",
       "      <td>0.004777</td>\n",
       "      <td>5.157534e-03</td>\n",
       "      <td>0.190783</td>\n",
       "    </tr>\n",
       "    <tr>\n",
       "      <th>8</th>\n",
       "      <td>article_u_neg.gml</td>\n",
       "      <td>negative</td>\n",
       "      <td>America</td>\n",
       "      <td>2</td>\n",
       "      <td>0.001592</td>\n",
       "      <td>2.885274e-03</td>\n",
       "      <td>0.166489</td>\n",
       "    </tr>\n",
       "    <tr>\n",
       "      <th>9</th>\n",
       "      <td>article_u_neg.gml</td>\n",
       "      <td>negative</td>\n",
       "      <td>American Academy of Pediatrics</td>\n",
       "      <td>2</td>\n",
       "      <td>0.001592</td>\n",
       "      <td>4.519712e-04</td>\n",
       "      <td>0.234217</td>\n",
       "    </tr>\n",
       "    <tr>\n",
       "      <th>10</th>\n",
       "      <td>article_u_neg.gml</td>\n",
       "      <td>negative</td>\n",
       "      <td>American Nursing Association's Code of Ethics</td>\n",
       "      <td>2</td>\n",
       "      <td>0.001592</td>\n",
       "      <td>8.038547e-04</td>\n",
       "      <td>0.203367</td>\n",
       "    </tr>\n",
       "    <tr>\n",
       "      <th>11</th>\n",
       "      <td>article_u_neg.gml</td>\n",
       "      <td>negative</td>\n",
       "      <td>Americans</td>\n",
       "      <td>7</td>\n",
       "      <td>0.005573</td>\n",
       "      <td>4.718502e-03</td>\n",
       "      <td>0.251436</td>\n",
       "    </tr>\n",
       "    <tr>\n",
       "      <th>12</th>\n",
       "      <td>article_u_neg.gml</td>\n",
       "      <td>negative</td>\n",
       "      <td>Amish</td>\n",
       "      <td>2</td>\n",
       "      <td>0.001592</td>\n",
       "      <td>1.443906e-03</td>\n",
       "      <td>0.153204</td>\n",
       "    </tr>\n",
       "    <tr>\n",
       "      <th>13</th>\n",
       "      <td>article_u_neg.gml</td>\n",
       "      <td>negative</td>\n",
       "      <td>Andrew Wakefield</td>\n",
       "      <td>1</td>\n",
       "      <td>0.000796</td>\n",
       "      <td>0.000000e+00</td>\n",
       "      <td>0.210839</td>\n",
       "    </tr>\n",
       "    <tr>\n",
       "      <th>14</th>\n",
       "      <td>article_u_neg.gml</td>\n",
       "      <td>negative</td>\n",
       "      <td>Apartheid</td>\n",
       "      <td>1</td>\n",
       "      <td>0.000796</td>\n",
       "      <td>0.000000e+00</td>\n",
       "      <td>0.159324</td>\n",
       "    </tr>\n",
       "    <tr>\n",
       "      <th>15</th>\n",
       "      <td>article_u_neg.gml</td>\n",
       "      <td>negative</td>\n",
       "      <td>Attkisson's website</td>\n",
       "      <td>2</td>\n",
       "      <td>0.001592</td>\n",
       "      <td>7.213185e-04</td>\n",
       "      <td>0.166731</td>\n",
       "    </tr>\n",
       "    <tr>\n",
       "      <th>16</th>\n",
       "      <td>article_u_neg.gml</td>\n",
       "      <td>negative</td>\n",
       "      <td>Australia</td>\n",
       "      <td>1</td>\n",
       "      <td>0.000796</td>\n",
       "      <td>0.000000e+00</td>\n",
       "      <td>0.196968</td>\n",
       "    </tr>\n",
       "    <tr>\n",
       "      <th>17</th>\n",
       "      <td>article_u_neg.gml</td>\n",
       "      <td>negative</td>\n",
       "      <td>Baby Boom</td>\n",
       "      <td>2</td>\n",
       "      <td>0.001592</td>\n",
       "      <td>0.000000e+00</td>\n",
       "      <td>0.219766</td>\n",
       "    </tr>\n",
       "    <tr>\n",
       "      <th>18</th>\n",
       "      <td>article_u_neg.gml</td>\n",
       "      <td>negative</td>\n",
       "      <td>Baby Boomers</td>\n",
       "      <td>5</td>\n",
       "      <td>0.003981</td>\n",
       "      <td>7.314888e-03</td>\n",
       "      <td>0.230249</td>\n",
       "    </tr>\n",
       "    <tr>\n",
       "      <th>19</th>\n",
       "      <td>article_u_neg.gml</td>\n",
       "      <td>negative</td>\n",
       "      <td>Baker College nursing school</td>\n",
       "      <td>3</td>\n",
       "      <td>0.002389</td>\n",
       "      <td>2.641888e-03</td>\n",
       "      <td>0.172380</td>\n",
       "    </tr>\n",
       "    <tr>\n",
       "      <th>20</th>\n",
       "      <td>article_u_neg.gml</td>\n",
       "      <td>negative</td>\n",
       "      <td>Baker College nursing school instructors</td>\n",
       "      <td>6</td>\n",
       "      <td>0.004777</td>\n",
       "      <td>3.977791e-03</td>\n",
       "      <td>0.205675</td>\n",
       "    </tr>\n",
       "    <tr>\n",
       "      <th>21</th>\n",
       "      <td>article_u_neg.gml</td>\n",
       "      <td>negative</td>\n",
       "      <td>Bell's Palsy</td>\n",
       "      <td>1</td>\n",
       "      <td>0.000796</td>\n",
       "      <td>0.000000e+00</td>\n",
       "      <td>0.196968</td>\n",
       "    </tr>\n",
       "    <tr>\n",
       "      <th>22</th>\n",
       "      <td>article_u_neg.gml</td>\n",
       "      <td>negative</td>\n",
       "      <td>Big Pharma</td>\n",
       "      <td>12</td>\n",
       "      <td>0.009554</td>\n",
       "      <td>1.170330e-02</td>\n",
       "      <td>0.261493</td>\n",
       "    </tr>\n",
       "    <tr>\n",
       "      <th>23</th>\n",
       "      <td>article_u_neg.gml</td>\n",
       "      <td>negative</td>\n",
       "      <td>Big Tobacco</td>\n",
       "      <td>2</td>\n",
       "      <td>0.001592</td>\n",
       "      <td>1.984357e-04</td>\n",
       "      <td>0.225721</td>\n",
       "    </tr>\n",
       "    <tr>\n",
       "      <th>24</th>\n",
       "      <td>article_u_neg.gml</td>\n",
       "      <td>negative</td>\n",
       "      <td>Bill of Rights</td>\n",
       "      <td>1</td>\n",
       "      <td>0.000796</td>\n",
       "      <td>0.000000e+00</td>\n",
       "      <td>0.159324</td>\n",
       "    </tr>\n",
       "    <tr>\n",
       "      <th>25</th>\n",
       "      <td>article_u_neg.gml</td>\n",
       "      <td>negative</td>\n",
       "      <td>Brian Hooker</td>\n",
       "      <td>1</td>\n",
       "      <td>0.000796</td>\n",
       "      <td>0.000000e+00</td>\n",
       "      <td>0.189766</td>\n",
       "    </tr>\n",
       "    <tr>\n",
       "      <th>26</th>\n",
       "      <td>article_u_neg.gml</td>\n",
       "      <td>negative</td>\n",
       "      <td>Bruesewitz v. Wyeth</td>\n",
       "      <td>2</td>\n",
       "      <td>0.001592</td>\n",
       "      <td>2.885274e-03</td>\n",
       "      <td>0.223959</td>\n",
       "    </tr>\n",
       "    <tr>\n",
       "      <th>27</th>\n",
       "      <td>article_u_neg.gml</td>\n",
       "      <td>negative</td>\n",
       "      <td>Bush Administration</td>\n",
       "      <td>2</td>\n",
       "      <td>0.001592</td>\n",
       "      <td>5.187031e-05</td>\n",
       "      <td>0.204940</td>\n",
       "    </tr>\n",
       "    <tr>\n",
       "      <th>28</th>\n",
       "      <td>article_u_neg.gml</td>\n",
       "      <td>negative</td>\n",
       "      <td>CDC</td>\n",
       "      <td>60</td>\n",
       "      <td>0.047771</td>\n",
       "      <td>1.047685e-01</td>\n",
       "      <td>0.289896</td>\n",
       "    </tr>\n",
       "    <tr>\n",
       "      <th>29</th>\n",
       "      <td>article_u_neg.gml</td>\n",
       "      <td>negative</td>\n",
       "      <td>CDC and Big Pharma</td>\n",
       "      <td>3</td>\n",
       "      <td>0.002389</td>\n",
       "      <td>9.561462e-05</td>\n",
       "      <td>0.202410</td>\n",
       "    </tr>\n",
       "    <tr>\n",
       "      <th>...</th>\n",
       "      <td>...</td>\n",
       "      <td>...</td>\n",
       "      <td>...</td>\n",
       "      <td>...</td>\n",
       "      <td>...</td>\n",
       "      <td>...</td>\n",
       "      <td>...</td>\n",
       "    </tr>\n",
       "    <tr>\n",
       "      <th>1227</th>\n",
       "      <td>article_u_neg.gml</td>\n",
       "      <td>negative</td>\n",
       "      <td>violation of basic human rights</td>\n",
       "      <td>2</td>\n",
       "      <td>0.001592</td>\n",
       "      <td>5.059144e-03</td>\n",
       "      <td>0.210152</td>\n",
       "    </tr>\n",
       "    <tr>\n",
       "      <th>1228</th>\n",
       "      <td>article_u_neg.gml</td>\n",
       "      <td>negative</td>\n",
       "      <td>violation of law</td>\n",
       "      <td>1</td>\n",
       "      <td>0.000796</td>\n",
       "      <td>0.000000e+00</td>\n",
       "      <td>0.159324</td>\n",
       "    </tr>\n",
       "    <tr>\n",
       "      <th>1229</th>\n",
       "      <td>article_u_neg.gml</td>\n",
       "      <td>negative</td>\n",
       "      <td>viral replication</td>\n",
       "      <td>2</td>\n",
       "      <td>0.001592</td>\n",
       "      <td>6.344051e-07</td>\n",
       "      <td>0.001791</td>\n",
       "    </tr>\n",
       "    <tr>\n",
       "      <th>1230</th>\n",
       "      <td>article_u_neg.gml</td>\n",
       "      <td>negative</td>\n",
       "      <td>vitamin A supplements</td>\n",
       "      <td>2</td>\n",
       "      <td>0.001592</td>\n",
       "      <td>1.443906e-03</td>\n",
       "      <td>0.171892</td>\n",
       "    </tr>\n",
       "    <tr>\n",
       "      <th>1231</th>\n",
       "      <td>article_u_neg.gml</td>\n",
       "      <td>negative</td>\n",
       "      <td>vitamin B12</td>\n",
       "      <td>2</td>\n",
       "      <td>0.001592</td>\n",
       "      <td>6.344051e-07</td>\n",
       "      <td>0.001791</td>\n",
       "    </tr>\n",
       "    <tr>\n",
       "      <th>1232</th>\n",
       "      <td>article_u_neg.gml</td>\n",
       "      <td>negative</td>\n",
       "      <td>vitamin C</td>\n",
       "      <td>2</td>\n",
       "      <td>0.001592</td>\n",
       "      <td>6.344051e-07</td>\n",
       "      <td>0.001791</td>\n",
       "    </tr>\n",
       "    <tr>\n",
       "      <th>1233</th>\n",
       "      <td>article_u_neg.gml</td>\n",
       "      <td>negative</td>\n",
       "      <td>vitamin D</td>\n",
       "      <td>1</td>\n",
       "      <td>0.000796</td>\n",
       "      <td>0.000000e+00</td>\n",
       "      <td>0.193535</td>\n",
       "    </tr>\n",
       "    <tr>\n",
       "      <th>1234</th>\n",
       "      <td>article_u_neg.gml</td>\n",
       "      <td>negative</td>\n",
       "      <td>vitamin D deficiency</td>\n",
       "      <td>1</td>\n",
       "      <td>0.000796</td>\n",
       "      <td>0.000000e+00</td>\n",
       "      <td>0.000796</td>\n",
       "    </tr>\n",
       "    <tr>\n",
       "      <th>1235</th>\n",
       "      <td>article_u_neg.gml</td>\n",
       "      <td>negative</td>\n",
       "      <td>vitamin supplements</td>\n",
       "      <td>1</td>\n",
       "      <td>0.000796</td>\n",
       "      <td>0.000000e+00</td>\n",
       "      <td>0.124521</td>\n",
       "    </tr>\n",
       "    <tr>\n",
       "      <th>1236</th>\n",
       "      <td>article_u_neg.gml</td>\n",
       "      <td>negative</td>\n",
       "      <td>vulnerable</td>\n",
       "      <td>1</td>\n",
       "      <td>0.000796</td>\n",
       "      <td>0.000000e+00</td>\n",
       "      <td>0.223765</td>\n",
       "    </tr>\n",
       "    <tr>\n",
       "      <th>1237</th>\n",
       "      <td>article_u_neg.gml</td>\n",
       "      <td>negative</td>\n",
       "      <td>wander</td>\n",
       "      <td>1</td>\n",
       "      <td>0.000796</td>\n",
       "      <td>0.000000e+00</td>\n",
       "      <td>0.131697</td>\n",
       "    </tr>\n",
       "    <tr>\n",
       "      <th>1238</th>\n",
       "      <td>article_u_neg.gml</td>\n",
       "      <td>negative</td>\n",
       "      <td>wander off</td>\n",
       "      <td>1</td>\n",
       "      <td>0.000796</td>\n",
       "      <td>0.000000e+00</td>\n",
       "      <td>0.131697</td>\n",
       "    </tr>\n",
       "    <tr>\n",
       "      <th>1239</th>\n",
       "      <td>article_u_neg.gml</td>\n",
       "      <td>negative</td>\n",
       "      <td>war propaganda</td>\n",
       "      <td>2</td>\n",
       "      <td>0.001592</td>\n",
       "      <td>6.344051e-07</td>\n",
       "      <td>0.001791</td>\n",
       "    </tr>\n",
       "    <tr>\n",
       "      <th>1240</th>\n",
       "      <td>article_u_neg.gml</td>\n",
       "      <td>negative</td>\n",
       "      <td>water</td>\n",
       "      <td>1</td>\n",
       "      <td>0.000796</td>\n",
       "      <td>0.000000e+00</td>\n",
       "      <td>0.149306</td>\n",
       "    </tr>\n",
       "    <tr>\n",
       "      <th>1241</th>\n",
       "      <td>article_u_neg.gml</td>\n",
       "      <td>negative</td>\n",
       "      <td>whistle</td>\n",
       "      <td>1</td>\n",
       "      <td>0.000796</td>\n",
       "      <td>0.000000e+00</td>\n",
       "      <td>0.189314</td>\n",
       "    </tr>\n",
       "    <tr>\n",
       "      <th>1242</th>\n",
       "      <td>article_u_neg.gml</td>\n",
       "      <td>negative</td>\n",
       "      <td>whistleblower</td>\n",
       "      <td>3</td>\n",
       "      <td>0.002389</td>\n",
       "      <td>5.864966e-04</td>\n",
       "      <td>0.187493</td>\n",
       "    </tr>\n",
       "    <tr>\n",
       "      <th>1243</th>\n",
       "      <td>article_u_neg.gml</td>\n",
       "      <td>negative</td>\n",
       "      <td>whistleblowers</td>\n",
       "      <td>1</td>\n",
       "      <td>0.000796</td>\n",
       "      <td>0.000000e+00</td>\n",
       "      <td>0.189314</td>\n",
       "    </tr>\n",
       "    <tr>\n",
       "      <th>1244</th>\n",
       "      <td>article_u_neg.gml</td>\n",
       "      <td>negative</td>\n",
       "      <td>whooping cough</td>\n",
       "      <td>1</td>\n",
       "      <td>0.000796</td>\n",
       "      <td>0.000000e+00</td>\n",
       "      <td>0.213057</td>\n",
       "    </tr>\n",
       "    <tr>\n",
       "      <th>1245</th>\n",
       "      <td>article_u_neg.gml</td>\n",
       "      <td>negative</td>\n",
       "      <td>whooping cough outbreaks</td>\n",
       "      <td>1</td>\n",
       "      <td>0.000796</td>\n",
       "      <td>0.000000e+00</td>\n",
       "      <td>0.169355</td>\n",
       "    </tr>\n",
       "    <tr>\n",
       "      <th>1246</th>\n",
       "      <td>article_u_neg.gml</td>\n",
       "      <td>negative</td>\n",
       "      <td>widespread</td>\n",
       "      <td>1</td>\n",
       "      <td>0.000796</td>\n",
       "      <td>0.000000e+00</td>\n",
       "      <td>0.000796</td>\n",
       "    </tr>\n",
       "    <tr>\n",
       "      <th>1247</th>\n",
       "      <td>article_u_neg.gml</td>\n",
       "      <td>negative</td>\n",
       "      <td>widespread fear</td>\n",
       "      <td>2</td>\n",
       "      <td>0.001592</td>\n",
       "      <td>3.252148e-03</td>\n",
       "      <td>0.239652</td>\n",
       "    </tr>\n",
       "    <tr>\n",
       "      <th>1248</th>\n",
       "      <td>article_u_neg.gml</td>\n",
       "      <td>negative</td>\n",
       "      <td>widespread health problems</td>\n",
       "      <td>2</td>\n",
       "      <td>0.001592</td>\n",
       "      <td>0.000000e+00</td>\n",
       "      <td>0.255226</td>\n",
       "    </tr>\n",
       "    <tr>\n",
       "      <th>1249</th>\n",
       "      <td>article_u_neg.gml</td>\n",
       "      <td>negative</td>\n",
       "      <td>words</td>\n",
       "      <td>2</td>\n",
       "      <td>0.001592</td>\n",
       "      <td>0.000000e+00</td>\n",
       "      <td>0.249734</td>\n",
       "    </tr>\n",
       "    <tr>\n",
       "      <th>1250</th>\n",
       "      <td>article_u_neg.gml</td>\n",
       "      <td>negative</td>\n",
       "      <td>world</td>\n",
       "      <td>1</td>\n",
       "      <td>0.000796</td>\n",
       "      <td>0.000000e+00</td>\n",
       "      <td>0.166731</td>\n",
       "    </tr>\n",
       "    <tr>\n",
       "      <th>1251</th>\n",
       "      <td>article_u_neg.gml</td>\n",
       "      <td>negative</td>\n",
       "      <td>world's healthiest children</td>\n",
       "      <td>1</td>\n",
       "      <td>0.000796</td>\n",
       "      <td>0.000000e+00</td>\n",
       "      <td>0.196257</td>\n",
       "    </tr>\n",
       "    <tr>\n",
       "      <th>1252</th>\n",
       "      <td>article_u_neg.gml</td>\n",
       "      <td>negative</td>\n",
       "      <td>wrong doing</td>\n",
       "      <td>3</td>\n",
       "      <td>0.002389</td>\n",
       "      <td>1.692245e-03</td>\n",
       "      <td>0.212312</td>\n",
       "    </tr>\n",
       "    <tr>\n",
       "      <th>1253</th>\n",
       "      <td>article_u_neg.gml</td>\n",
       "      <td>negative</td>\n",
       "      <td>years</td>\n",
       "      <td>1</td>\n",
       "      <td>0.000796</td>\n",
       "      <td>0.000000e+00</td>\n",
       "      <td>0.182491</td>\n",
       "    </tr>\n",
       "    <tr>\n",
       "      <th>1254</th>\n",
       "      <td>article_u_neg.gml</td>\n",
       "      <td>negative</td>\n",
       "      <td>you</td>\n",
       "      <td>10</td>\n",
       "      <td>0.007962</td>\n",
       "      <td>5.704791e-03</td>\n",
       "      <td>0.235070</td>\n",
       "    </tr>\n",
       "    <tr>\n",
       "      <th>1255</th>\n",
       "      <td>article_u_neg.gml</td>\n",
       "      <td>negative</td>\n",
       "      <td>young adults</td>\n",
       "      <td>1</td>\n",
       "      <td>0.000796</td>\n",
       "      <td>0.000000e+00</td>\n",
       "      <td>0.182911</td>\n",
       "    </tr>\n",
       "    <tr>\n",
       "      <th>1256</th>\n",
       "      <td>article_u_neg.gml</td>\n",
       "      <td>negative</td>\n",
       "      <td>young doctors</td>\n",
       "      <td>7</td>\n",
       "      <td>0.005573</td>\n",
       "      <td>5.104453e-03</td>\n",
       "      <td>0.190186</td>\n",
       "    </tr>\n",
       "  </tbody>\n",
       "</table>\n",
       "<p>1257 rows × 7 columns</p>\n",
       "</div>"
      ],
      "text/plain": [
       "                   name sentiment                                           node  degree  deg cent      bet cent  clo cent\n",
       "0     article_u_neg.gml  negative                                           ACIP       1  0.000796  0.000000e+00  0.149349\n",
       "1     article_u_neg.gml  negative            ACIP's rotavirus use recommendation       1  0.000796  0.000000e+00  0.187493\n",
       "2     article_u_neg.gml  negative                                           ADHD       1  0.000796  0.000000e+00  0.228872\n",
       "3     article_u_neg.gml  negative                                           AIDS       1  0.000796  0.000000e+00  0.177383\n",
       "4     article_u_neg.gml  negative                         African American males       2  0.001592  0.000000e+00  0.222944\n",
       "5     article_u_neg.gml  negative                                  African women       3  0.002389  2.158333e-03  0.241219\n",
       "6     article_u_neg.gml  negative                      African-American children       1  0.000796  0.000000e+00  0.206704\n",
       "7     article_u_neg.gml  negative                                   Alysia Osoff       6  0.004777  5.157534e-03  0.190783\n",
       "8     article_u_neg.gml  negative                                        America       2  0.001592  2.885274e-03  0.166489\n",
       "9     article_u_neg.gml  negative                 American Academy of Pediatrics       2  0.001592  4.519712e-04  0.234217\n",
       "10    article_u_neg.gml  negative  American Nursing Association's Code of Ethics       2  0.001592  8.038547e-04  0.203367\n",
       "11    article_u_neg.gml  negative                                      Americans       7  0.005573  4.718502e-03  0.251436\n",
       "12    article_u_neg.gml  negative                                          Amish       2  0.001592  1.443906e-03  0.153204\n",
       "13    article_u_neg.gml  negative                               Andrew Wakefield       1  0.000796  0.000000e+00  0.210839\n",
       "14    article_u_neg.gml  negative                                      Apartheid       1  0.000796  0.000000e+00  0.159324\n",
       "15    article_u_neg.gml  negative                            Attkisson's website       2  0.001592  7.213185e-04  0.166731\n",
       "16    article_u_neg.gml  negative                                      Australia       1  0.000796  0.000000e+00  0.196968\n",
       "17    article_u_neg.gml  negative                                      Baby Boom       2  0.001592  0.000000e+00  0.219766\n",
       "18    article_u_neg.gml  negative                                   Baby Boomers       5  0.003981  7.314888e-03  0.230249\n",
       "19    article_u_neg.gml  negative                   Baker College nursing school       3  0.002389  2.641888e-03  0.172380\n",
       "20    article_u_neg.gml  negative       Baker College nursing school instructors       6  0.004777  3.977791e-03  0.205675\n",
       "21    article_u_neg.gml  negative                                   Bell's Palsy       1  0.000796  0.000000e+00  0.196968\n",
       "22    article_u_neg.gml  negative                                     Big Pharma      12  0.009554  1.170330e-02  0.261493\n",
       "23    article_u_neg.gml  negative                                    Big Tobacco       2  0.001592  1.984357e-04  0.225721\n",
       "24    article_u_neg.gml  negative                                 Bill of Rights       1  0.000796  0.000000e+00  0.159324\n",
       "25    article_u_neg.gml  negative                                   Brian Hooker       1  0.000796  0.000000e+00  0.189766\n",
       "26    article_u_neg.gml  negative                            Bruesewitz v. Wyeth       2  0.001592  2.885274e-03  0.223959\n",
       "27    article_u_neg.gml  negative                            Bush Administration       2  0.001592  5.187031e-05  0.204940\n",
       "28    article_u_neg.gml  negative                                            CDC      60  0.047771  1.047685e-01  0.289896\n",
       "29    article_u_neg.gml  negative                             CDC and Big Pharma       3  0.002389  9.561462e-05  0.202410\n",
       "...                 ...       ...                                            ...     ...       ...           ...       ...\n",
       "1227  article_u_neg.gml  negative                violation of basic human rights       2  0.001592  5.059144e-03  0.210152\n",
       "1228  article_u_neg.gml  negative                               violation of law       1  0.000796  0.000000e+00  0.159324\n",
       "1229  article_u_neg.gml  negative                              viral replication       2  0.001592  6.344051e-07  0.001791\n",
       "1230  article_u_neg.gml  negative                          vitamin A supplements       2  0.001592  1.443906e-03  0.171892\n",
       "1231  article_u_neg.gml  negative                                    vitamin B12       2  0.001592  6.344051e-07  0.001791\n",
       "1232  article_u_neg.gml  negative                                      vitamin C       2  0.001592  6.344051e-07  0.001791\n",
       "1233  article_u_neg.gml  negative                                      vitamin D       1  0.000796  0.000000e+00  0.193535\n",
       "1234  article_u_neg.gml  negative                           vitamin D deficiency       1  0.000796  0.000000e+00  0.000796\n",
       "1235  article_u_neg.gml  negative                            vitamin supplements       1  0.000796  0.000000e+00  0.124521\n",
       "1236  article_u_neg.gml  negative                                     vulnerable       1  0.000796  0.000000e+00  0.223765\n",
       "1237  article_u_neg.gml  negative                                         wander       1  0.000796  0.000000e+00  0.131697\n",
       "1238  article_u_neg.gml  negative                                     wander off       1  0.000796  0.000000e+00  0.131697\n",
       "1239  article_u_neg.gml  negative                                 war propaganda       2  0.001592  6.344051e-07  0.001791\n",
       "1240  article_u_neg.gml  negative                                          water       1  0.000796  0.000000e+00  0.149306\n",
       "1241  article_u_neg.gml  negative                                        whistle       1  0.000796  0.000000e+00  0.189314\n",
       "1242  article_u_neg.gml  negative                                  whistleblower       3  0.002389  5.864966e-04  0.187493\n",
       "1243  article_u_neg.gml  negative                                 whistleblowers       1  0.000796  0.000000e+00  0.189314\n",
       "1244  article_u_neg.gml  negative                                 whooping cough       1  0.000796  0.000000e+00  0.213057\n",
       "1245  article_u_neg.gml  negative                       whooping cough outbreaks       1  0.000796  0.000000e+00  0.169355\n",
       "1246  article_u_neg.gml  negative                                     widespread       1  0.000796  0.000000e+00  0.000796\n",
       "1247  article_u_neg.gml  negative                                widespread fear       2  0.001592  3.252148e-03  0.239652\n",
       "1248  article_u_neg.gml  negative                     widespread health problems       2  0.001592  0.000000e+00  0.255226\n",
       "1249  article_u_neg.gml  negative                                          words       2  0.001592  0.000000e+00  0.249734\n",
       "1250  article_u_neg.gml  negative                                          world       1  0.000796  0.000000e+00  0.166731\n",
       "1251  article_u_neg.gml  negative                    world's healthiest children       1  0.000796  0.000000e+00  0.196257\n",
       "1252  article_u_neg.gml  negative                                    wrong doing       3  0.002389  1.692245e-03  0.212312\n",
       "1253  article_u_neg.gml  negative                                          years       1  0.000796  0.000000e+00  0.182491\n",
       "1254  article_u_neg.gml  negative                                            you      10  0.007962  5.704791e-03  0.235070\n",
       "1255  article_u_neg.gml  negative                                   young adults       1  0.000796  0.000000e+00  0.182911\n",
       "1256  article_u_neg.gml  negative                                  young doctors       7  0.005573  5.104453e-03  0.190186\n",
       "\n",
       "[1257 rows x 7 columns]"
      ]
     },
     "execution_count": 9,
     "metadata": {},
     "output_type": "execute_result"
    }
   ],
   "source": [
    "# print entire network\n",
    "combined_df"
   ]
  },
  {
   "cell_type": "code",
   "execution_count": null,
   "metadata": {
    "collapsed": true
   },
   "outputs": [],
   "source": [
    "# save\n",
    "combined_df.to_csv('../output/df/article_u_neg.csv')"
   ]
  },
  {
   "cell_type": "markdown",
   "metadata": {},
   "source": [
    "---\n",
    "# 4. Draw undirected and directed network"
   ]
  },
  {
   "cell_type": "code",
   "execution_count": null,
   "metadata": {
    "collapsed": true,
    "scrolled": false
   },
   "outputs": [],
   "source": [
    "# 7_graph_calculation\n",
    "def drawIt(graph, what = 'graph'):\n",
    "    nsize = graph.number_of_nodes()\n",
    "    print \"Drawing %s of size %s:\" % (what, nsize)\n",
    "    \n",
    "    if nsize > 20:\n",
    "        plt.figure(figsize=(10, 10))\n",
    "        if nsize > 40:\n",
    "            nx.draw_spring(graph, with_labels = True, node_size = 70, font_size = 12)\n",
    "        else:\n",
    "            nx.draw_spring(graph, with_labels = True)\n",
    "    else:\n",
    "        nx.draw_spring(graph, with_labels = True)\n",
    "    plt.show()\n",
    "\n",
    "# for undirected graphs\n",
    "def describeGraph(graph):\n",
    "    components = sorted(nx.connected_components(graph), key = len, reverse = True)\n",
    "    cc = [len(c) for c in components]\n",
    "    subgraphs = list(nx.connected_component_subgraphs(graph))\n",
    "    params = (graph.number_of_edges(),graph.number_of_nodes(),len(cc))\n",
    "    print \"Graph has %s edges, %s nodes, %s connected components\\n\" % params\n",
    "    drawIt(graph)\n",
    "    for sub in components:\n",
    "        drawIt(graph.subgraph(sub), what = 'component')\n",
    "\n",
    "# for directed graphs\n",
    "def describeGraph_d(graph):\n",
    "    components = sorted(nx.weakly_connected_components(graph), key = len, reverse = True)\n",
    "    cc = [len(c) for c in components]\n",
    "    subgraphs = list(nx.weakly_connected_component_subgraphs(graph))\n",
    "    params = (graph.number_of_edges(),graph.number_of_nodes(),len(cc))\n",
    "    print \"Graph has %s edges, %s nodes, %s connected components\\n\" % params\n",
    "    drawIt(graph)\n",
    "    for sub in components:\n",
    "        drawIt(graph.subgraph(sub), what = 'component')\n"
   ]
  },
  {
   "cell_type": "code",
   "execution_count": null,
   "metadata": {
    "collapsed": false,
    "scrolled": true
   },
   "outputs": [],
   "source": [
    "# UNDIRECTED network graph\n",
    "describeGraph(ugraph)"
   ]
  },
  {
   "cell_type": "code",
   "execution_count": null,
   "metadata": {
    "collapsed": false,
    "scrolled": true
   },
   "outputs": [],
   "source": [
    "# DIRECTED network graph\n",
    "describeGraph_d(dgraph)"
   ]
  },
  {
   "cell_type": "markdown",
   "metadata": {},
   "source": [
    "## Undirected graph components"
   ]
  },
  {
   "cell_type": "code",
   "execution_count": null,
   "metadata": {
    "collapsed": false,
    "scrolled": false
   },
   "outputs": [],
   "source": [
    "# list of connected components by size (undirected graph)\n",
    "connected_components = [len(c) for c in sorted(nx.connected_components(ugraph), key=len, reverse=True)]\n",
    "\n",
    "# generate connected components as subgraphs (undirected graph)\n",
    "subgraphs = list(nx.connected_component_subgraphs(ugraph))\n",
    "\n",
    "# greatest component (undirected MultiGraph)\n",
    "u_Gc = max(nx.connected_component_subgraphs(ugraph), key=len)\n",
    "u_Gc.name = \"undirected Gc\""
   ]
  },
  {
   "cell_type": "code",
   "execution_count": null,
   "metadata": {
    "collapsed": false
   },
   "outputs": [],
   "source": [
    "print \"connected components = \", connected_components\n",
    "print nx.info(u_Gc)"
   ]
  },
  {
   "cell_type": "markdown",
   "metadata": {},
   "source": [
    "## ~~Directed graph components~~"
   ]
  },
  {
   "cell_type": "code",
   "execution_count": null,
   "metadata": {
    "collapsed": false
   },
   "outputs": [],
   "source": [
    "# use directed dgraph\n",
    "components = sorted(nx.weakly_connected_components(dgraph), key = len, reverse = True)\n",
    "cc = [len(c) for c in components]\n",
    "\n",
    "# generate connected components as subgraphs \n",
    "subgraphs = list(nx.weakly_connected_component_subgraphs(dgraph))\n",
    "\n",
    "# greatest component\n",
    "d_Gc = max(nx.weakly_connected_component_subgraphs(dgraph), key=len)\n",
    "d_Gc.name = \"directed Gc\""
   ]
  },
  {
   "cell_type": "code",
   "execution_count": null,
   "metadata": {
    "collapsed": false
   },
   "outputs": [],
   "source": [
    "print \"connected components = \", cc\n",
    "print nx.info(d_Gc)"
   ]
  },
  {
   "cell_type": "markdown",
   "metadata": {},
   "source": [
    "# 5. Greatest component graph"
   ]
  },
  {
   "cell_type": "code",
   "execution_count": null,
   "metadata": {
    "collapsed": false,
    "scrolled": false
   },
   "outputs": [],
   "source": [
    "# finally, greatest components for undirected and directed graphs\n",
    "print nx.info(u_Gc)\n",
    "print nx.info(d_Gc)"
   ]
  },
  {
   "cell_type": "code",
   "execution_count": null,
   "metadata": {
    "collapsed": true,
    "scrolled": false
   },
   "outputs": [],
   "source": [
    "# save Gc\n",
    "nx.write_gml(u_Gc, \"../output/network/u_Gc_negative.gml\")\n",
    "nx.write_gml(d_Gc, \"../output/network/d_Gc_negative.gml\")"
   ]
  },
  {
   "cell_type": "markdown",
   "metadata": {},
   "source": [
    "---\n",
    "# ~~6. network stats for DIRECTED GC~~"
   ]
  },
  {
   "cell_type": "code",
   "execution_count": null,
   "metadata": {
    "collapsed": true,
    "scrolled": false
   },
   "outputs": [],
   "source": [
    "# load directed Gc\n",
    "Gc_files = glob('../output/network/d_Gc_negative.gml')\n",
    "\n",
    "network_data_columns = ['name',\n",
    "                    'sentiment',\n",
    "                    '# nodes',\n",
    "                    '# edges',\n",
    "                    #'avg deg',\n",
    "                    'density',\n",
    "                    'deg assort coef', \n",
    "                    'avg deg cent',\n",
    "                    'avg bet cent',\n",
    "                    'avg clo cent',\n",
    "                    'high deg cent',\n",
    "                    'high bet cent',\n",
    "                    'high clo cent',\n",
    "                    'avg node conn',\n",
    "                    '# conn comp',\n",
    "                    'gc size'\n",
    "                    ]\n",
    "network_data = pd.DataFrame(columns = network_data_columns)"
   ]
  },
  {
   "cell_type": "code",
   "execution_count": null,
   "metadata": {
    "collapsed": false,
    "scrolled": false
   },
   "outputs": [],
   "source": [
    "# Gc_files\n",
    "for graph_num, gml_graph in enumerate(Gc_files):\n",
    "    graph = nx.read_gml(gml_graph)\n",
    "    (filepath, filename) = os.path.split(gml_graph)\n",
    "    print('-' * 10)\n",
    "    print(gml_graph)\n",
    "    calculate_graph_inf(graph)\n",
    "    \n",
    "    # calculate variables\n",
    "    sent = \"neg\"\n",
    "    nodes = nx.number_of_nodes(graph)\n",
    "    edges = nx.number_of_edges(graph)\n",
    "    density = float(\"{0:.4f}\".format(nx.density(graph)))\n",
    "    avg_deg_cen = np.array(nx.degree_centrality(graph).values()).mean()\n",
    "    avg_bet_cen = np.array(nx.betweenness_centrality(graph).values()).mean()\n",
    "    avg_clo_cen = np.array(nx.closeness_centrality(graph).values()).mean()\n",
    "    #avg_deg = float(\"{0:.4f}\".format(in_deg + out_deg))\n",
    "    avg_node_con = float(\"{0:.4f}\".format((nx.average_node_connectivity(graph))))\n",
    "    deg_assort_coeff = float(\"{0:.4f}\".format((nx.degree_assortativity_coefficient(graph))))\n",
    "    conn_comp = nx.number_weakly_connected_components(graph) # ugraph\n",
    "    deg_cen = nx.degree_centrality(graph)\n",
    "    bet_cen = nx.betweenness_centrality(graph)\n",
    "    clo_cen = nx.closeness_centrality(graph)\n",
    "    highest_deg_cen = highest_centrality(deg_cen)\n",
    "    highest_bet_cen = highest_centrality(bet_cen)\n",
    "    highest_clo_cen = highest_centrality(clo_cen)\n",
    "    Gc = len(max(nx.weakly_connected_component_subgraphs(graph), key=len))\n",
    "\n",
    "    # save variables into list\n",
    "    graph_values = {'name':filename,\n",
    "                    'sentiment':sent,\n",
    "                    '# nodes':nodes,\n",
    "                    '# edges':edges,\n",
    "                    #'avg deg':avg_deg,\n",
    "                    'density':density,\n",
    "                    'deg assort coef':deg_assort_coeff,\n",
    "                    'avg deg cent':\"%.4f\" % avg_deg_cen,\n",
    "                    'avg bet cent':\"%.4f\" % avg_bet_cen,\n",
    "                    'avg clo cent':\"%.4f\" % avg_clo_cen,\n",
    "                    'high deg cent':highest_deg_cen,\n",
    "                    'high bet cent':highest_bet_cen,\n",
    "                    'high clo cent':highest_clo_cen,\n",
    "                    'avg node conn':avg_node_con,\n",
    "                    '# conn comp':conn_comp,\n",
    "                    'gc size':Gc\n",
    "                    }\n",
    "    network_data = network_data.append(graph_values, ignore_index=True)"
   ]
  },
  {
   "cell_type": "code",
   "execution_count": null,
   "metadata": {
    "collapsed": false,
    "scrolled": false
   },
   "outputs": [],
   "source": [
    "# print network data for greatest component\n",
    "network_data"
   ]
  },
  {
   "cell_type": "code",
   "execution_count": null,
   "metadata": {
    "collapsed": true
   },
   "outputs": [],
   "source": [
    "# save\n",
    "#network_data.to_csv('../output/df/d_Gc_neg.csv')"
   ]
  },
  {
   "cell_type": "markdown",
   "metadata": {},
   "source": [
    "# 7. network stats for UNDIRECTED GC"
   ]
  },
  {
   "cell_type": "code",
   "execution_count": null,
   "metadata": {
    "collapsed": true
   },
   "outputs": [],
   "source": [
    "# load UNdirected Gc\n",
    "Gc_files = glob('../output/network/u_Gc_negative.gml')\n",
    "\n",
    "network_data_columns = ['name',\n",
    "                    'sentiment',\n",
    "                    '# nodes',\n",
    "                    '# edges',\n",
    "                    #'avg deg',\n",
    "                    'density',\n",
    "                    'deg assort coef', \n",
    "                    'avg deg cent',\n",
    "                    'avg bet cent',\n",
    "                    'avg clo cent',\n",
    "                    'high deg cent',\n",
    "                    'high bet cent',\n",
    "                    'high clo cent',\n",
    "                    'avg node conn'\n",
    "                    #'# conn comp',\n",
    "                    #'gc size'\n",
    "                    ]\n",
    "network_data = pd.DataFrame(columns = network_data_columns)"
   ]
  },
  {
   "cell_type": "code",
   "execution_count": null,
   "metadata": {
    "collapsed": false
   },
   "outputs": [],
   "source": [
    "# Gc_files\n",
    "for graph_num, gml_graph in enumerate(Gc_files):\n",
    "    graph = nx.read_gml(gml_graph)\n",
    "    (filepath, filename) = os.path.split(gml_graph)\n",
    "    print('-' * 10)\n",
    "    print(gml_graph)\n",
    "    calculate_graph_inf(graph)\n",
    "    \n",
    "    # calculate variables\n",
    "    sent = \"neg\"\n",
    "    nodes = nx.number_of_nodes(graph)\n",
    "    edges = nx.number_of_edges(graph)\n",
    "    density = float(\"{0:.4f}\".format(nx.density(graph)))\n",
    "    avg_deg_cen = np.array(nx.degree_centrality(graph).values()).mean()\n",
    "    avg_bet_cen = np.array(nx.betweenness_centrality(graph).values()).mean()\n",
    "    avg_clo_cen = np.array(nx.closeness_centrality(graph).values()).mean()\n",
    "    #avg_deg = float(\"{0:.4f}\".format(in_deg + out_deg))\n",
    "    avg_node_con = float(\"{0:.4f}\".format((nx.average_node_connectivity(graph))))\n",
    "    deg_assort_coeff = float(\"{0:.4f}\".format((nx.degree_assortativity_coefficient(graph))))\n",
    "    #conn_comp = nx.number_weakly_connected_components(graph) # ugraph\n",
    "    deg_cen = nx.degree_centrality(graph)\n",
    "    bet_cen = nx.betweenness_centrality(graph)\n",
    "    clo_cen = nx.closeness_centrality(graph)\n",
    "    highest_deg_cen = highest_centrality(deg_cen)\n",
    "    highest_bet_cen = highest_centrality(bet_cen)\n",
    "    highest_clo_cen = highest_centrality(clo_cen)\n",
    "    #Gc = len(max(nx.weakly_connected_component_subgraphs(graph), key=len))\n",
    "\n",
    "    # save variables into list\n",
    "    graph_values = {'name':filename,\n",
    "                    'sentiment':sent,\n",
    "                    '# nodes':nodes,\n",
    "                    '# edges':edges,\n",
    "                    #'avg deg':avg_deg,\n",
    "                    'density':density,\n",
    "                    'deg assort coef':deg_assort_coeff,\n",
    "                    'avg deg cent':\"%.4f\" % avg_deg_cen,\n",
    "                    'avg bet cent':\"%.4f\" % avg_bet_cen,\n",
    "                    'avg clo cent':\"%.4f\" % avg_clo_cen,\n",
    "                    'high deg cent':highest_deg_cen,\n",
    "                    'high bet cent':highest_bet_cen,\n",
    "                    'high clo cent':highest_clo_cen,\n",
    "                    'avg node conn':avg_node_con\n",
    "                    #'# conn comp':conn_comp,\n",
    "                    #'gc size':Gc\n",
    "                    }\n",
    "    network_data = network_data.append(graph_values, ignore_index=True)"
   ]
  },
  {
   "cell_type": "code",
   "execution_count": null,
   "metadata": {
    "collapsed": false
   },
   "outputs": [],
   "source": [
    "# print network data for greatest component\n",
    "network_data"
   ]
  },
  {
   "cell_type": "code",
   "execution_count": null,
   "metadata": {
    "collapsed": true
   },
   "outputs": [],
   "source": [
    "# save\n",
    "#network_data.to_csv('../output/df/u_Gc_neg.csv')"
   ]
  },
  {
   "cell_type": "markdown",
   "metadata": {},
   "source": [
    "---\n",
    "# Gc nodes table"
   ]
  },
  {
   "cell_type": "code",
   "execution_count": null,
   "metadata": {
    "collapsed": true
   },
   "outputs": [],
   "source": [
    "#gml_files = glob('../output/network/d_Gc_negative.gml')\n",
    "gml_files = glob('../output/network/u_Gc_negative.gml')"
   ]
  },
  {
   "cell_type": "code",
   "execution_count": null,
   "metadata": {
    "collapsed": true
   },
   "outputs": [],
   "source": [
    "# 2_node_df: list all nodes and centrality\n",
    "data_columns = ['name',\n",
    "                'sentiment'\n",
    "                ]\n",
    "data = pd.DataFrame(columns = data_columns)\n",
    "#combined_df = pd.DataFrame()"
   ]
  },
  {
   "cell_type": "code",
   "execution_count": null,
   "metadata": {
    "collapsed": false
   },
   "outputs": [],
   "source": [
    "for graph_num, gml_graph in enumerate(gml_files):\n",
    "    graph = nx.read_gml(gml_graph)\n",
    "    (filepath, filename) = os.path.split(gml_graph)\n",
    "    print('-' * 10)\n",
    "    print(gml_graph)\n",
    "    calculate_graph_inf(graph)\n",
    "\n",
    "    # calculate variables and save into list\n",
    "    sent = \"neg\"    \n",
    "    deg_cent = nx.degree_centrality(graph)\n",
    "    bet_cent = nx.betweenness_centrality(graph)\n",
    "    clo_cent = nx.closeness_centrality(graph)\n",
    "    graph_values = {'name':filename,\n",
    "                    'sentiment':sent\n",
    "                    }\n",
    "    data = data.append(graph_values, ignore_index=True)\n",
    "\n",
    "    degree = nx.degree(graph)\n",
    "    deg_df = pd.DataFrame.from_dict(degree, orient = 'index')\n",
    "    deg_df.columns = ['degree']\n",
    "    # degree centrality\n",
    "    deg_cent = nx.degree_centrality(graph)\n",
    "    dc_df = pd.DataFrame.from_dict(deg_cent, orient = 'index')\n",
    "    dc_df.columns = ['deg cent']\n",
    "    # betweenness centrality\n",
    "    bet_cent = nx.betweenness_centrality(graph)\n",
    "    bc_df = pd.DataFrame.from_dict(bet_cent, orient = 'index')\n",
    "    bc_df.columns = ['bet cent']\n",
    "    # closeness centrality\n",
    "    clo_cent = nx.closeness_centrality(graph)\n",
    "    cc_df = pd.DataFrame.from_dict(clo_cent, orient = 'index')\n",
    "    cc_df.columns = ['clo cent']\n",
    "    # concat node frames into node_df\n",
    "    frames = [deg_df, dc_df, bc_df, cc_df]\n",
    "    node_df = pd.concat(frames, axis = 1)\n",
    "    node_df.index.name = 'node'\n",
    "    node_df = node_df.reset_index()\n",
    "\n",
    "    values = pd.DataFrame(graph_values, columns = ('name', 'sentiment'), index = [0])\n",
    "    \n",
    "    # df = merges graph_values with node_df for single graph and fill NaNs\n",
    "    df = pd.concat([values, node_df], axis = 1)\n",
    "    df = df.fillna(method='ffill')\n",
    "    #combined_df = combined_df.append(df)"
   ]
  },
  {
   "cell_type": "code",
   "execution_count": null,
   "metadata": {
    "collapsed": false,
    "scrolled": true
   },
   "outputs": [],
   "source": [
    "# print negative gc nodes\n",
    "df"
   ]
  },
  {
   "cell_type": "code",
   "execution_count": null,
   "metadata": {
    "collapsed": true
   },
   "outputs": [],
   "source": [
    "# save\n",
    "##df.to_csv('../output/df/d_Gc_nodes_neg.csv')\n",
    "\n",
    "#df.to_csv('../output/df/u_Gc_nodes_neg.csv')"
   ]
  },
  {
   "cell_type": "markdown",
   "metadata": {},
   "source": [
    "---\n",
    "# Cutsets"
   ]
  },
  {
   "cell_type": "code",
   "execution_count": null,
   "metadata": {
    "collapsed": false
   },
   "outputs": [],
   "source": [
    "print \"Greatest component size =\", len(graph)"
   ]
  },
  {
   "cell_type": "code",
   "execution_count": null,
   "metadata": {
    "collapsed": false,
    "scrolled": false
   },
   "outputs": [],
   "source": [
    "# returns all minimum k cutsets of an undirected graph\n",
    "# i.e., the set(s) of nodes of cardinality equal to the node connectivity of G\n",
    "# thus if removed, would break G into two or more connected components\n",
    "\n",
    "#cutsets = list(nx.all_node_cuts(graph))  # must be undirected\n",
    "\n",
    "print \"Greatest component size =\", len(graph)\n",
    "#print \"# of cutsets =\", len(cutsets)\n",
    "\n",
    "# returns a set of nodes or edges of minimum cardinality that disconnects G\n",
    "min_ncut = nx.minimum_node_cut(graph)\n",
    "min_ecut = nx.minimum_edge_cut(graph)\n",
    "\n",
    "print \"Min node cut =\", min_ncut\n",
    "print \"Min edge cut =\", min_ecut\n",
    "\n",
    "# min cuts with source and target\n",
    "print nx.minimum_node_cut(graph, s='vaccines', t='autism')\n",
    "print nx.minimum_edge_cut(graph, s='vaccines', t='autism')"
   ]
  },
  {
   "cell_type": "code",
   "execution_count": null,
   "metadata": {
    "collapsed": false,
    "scrolled": false
   },
   "outputs": [],
   "source": [
    "# read edge labels in min cut for Gc\n",
    "# change source and target\n",
    "a = nx.minimum_edge_cut(graph, s='vaccines', t='autism')\n",
    "#a = nx.minimum_edge_cut(graph)\n",
    "\n",
    "labels = nx.get_edge_attributes(graph,'edge')\n",
    "edgelabels = {}\n",
    "for e in labels.keys():\n",
    "    e1 = e[0:2]\n",
    "    edgelabels[e1]=labels[e]\n",
    "\n",
    "for e in a:\n",
    "    if edgelabels.has_key(e):\n",
    "        print e,edgelabels[e]\n",
    "    else:\n",
    "        rev_e = e[::-1]\n",
    "        print rev_e, edgelabels[rev_e]"
   ]
  },
  {
   "cell_type": "markdown",
   "metadata": {},
   "source": [
    "- - -"
   ]
  },
  {
   "cell_type": "markdown",
   "metadata": {},
   "source": [
    "# full network node centrality"
   ]
  },
  {
   "cell_type": "code",
   "execution_count": null,
   "metadata": {
    "collapsed": false
   },
   "outputs": [],
   "source": [
    "# make sure you're using the right graph\n",
    "print \"gml_files = \", gml_files\n",
    "print \"gml_graph = \", gml_graph"
   ]
  },
  {
   "cell_type": "code",
   "execution_count": null,
   "metadata": {
    "collapsed": false
   },
   "outputs": [],
   "source": [
    "# FULL UNDIRECTED\n",
    "graph = nx.read_gml('../output/network/u_neg.gml')  \n",
    "\n",
    "## graph = nx.read_gml('../output/network/article_neg1.gml')  # full network directed\n",
    "\n",
    "print nx.info(graph)"
   ]
  },
  {
   "cell_type": "code",
   "execution_count": null,
   "metadata": {
    "collapsed": false,
    "scrolled": true
   },
   "outputs": [],
   "source": [
    "# degree centrality\n",
    "dc = nx.degree_centrality(graph)\n",
    "dc_df = pd.DataFrame.from_dict(dc, orient = 'index')\n",
    "dc_df.columns = ['degree cent']\n",
    "dc_df = dc_df.sort_values(by = ['degree cent'])\n",
    "#dc_df\n",
    "\n",
    "# betweenness centrality\n",
    "bc = nx.betweenness_centrality(graph)\n",
    "bc_df = pd.DataFrame.from_dict(bc, orient = 'index')\n",
    "bc_df.columns = ['betweenness cent']\n",
    "bc_df = bc_df.sort_values(by = ['betweenness cent'])\n",
    "#bc_df\n",
    "\n",
    "# closeness centrality\n",
    "cc = nx.closeness_centrality(graph)\n",
    "cc_df = pd.DataFrame.from_dict(cc, orient = 'index')\n",
    "cc_df.columns = ['closeness cent']\n",
    "cc_df = cc_df.sort_values(by = ['closeness cent'])\n",
    "#cc_df"
   ]
  },
  {
   "cell_type": "code",
   "execution_count": null,
   "metadata": {
    "collapsed": false,
    "scrolled": true
   },
   "outputs": [],
   "source": [
    "dc_df"
   ]
  },
  {
   "cell_type": "code",
   "execution_count": null,
   "metadata": {
    "collapsed": false,
    "scrolled": true
   },
   "outputs": [],
   "source": [
    "bc_df"
   ]
  },
  {
   "cell_type": "code",
   "execution_count": null,
   "metadata": {
    "collapsed": false,
    "scrolled": true
   },
   "outputs": [],
   "source": [
    "cc_df"
   ]
  },
  {
   "cell_type": "markdown",
   "metadata": {},
   "source": [
    "# Gc node centrality"
   ]
  },
  {
   "cell_type": "code",
   "execution_count": null,
   "metadata": {
    "collapsed": false
   },
   "outputs": [],
   "source": [
    "# GC undirected\n",
    "graph = nx.read_gml('../output/network/u_Gc_negative.gml')  \n",
    "\n",
    "## graph = nx.read_gml('../output/network/d_Gc_negative.gml')  # gc directed\n",
    "\n",
    "print nx.info(graph)"
   ]
  },
  {
   "cell_type": "code",
   "execution_count": null,
   "metadata": {
    "collapsed": true
   },
   "outputs": [],
   "source": [
    "# degree centrality\n",
    "dc = nx.degree_centrality(graph)\n",
    "dc_df = pd.DataFrame.from_dict(dc, orient = 'index')\n",
    "dc_df.columns = ['degree cent']\n",
    "dc_df = dc_df.sort_values(by = ['degree cent'])\n",
    "#dc_df\n",
    "\n",
    "# betweenness centrality\n",
    "bc = nx.betweenness_centrality(graph)\n",
    "bc_df = pd.DataFrame.from_dict(bc, orient = 'index')\n",
    "bc_df.columns = ['betweenness cent']\n",
    "bc_df = bc_df.sort_values(by = ['betweenness cent'])\n",
    "#bc_df\n",
    "\n",
    "# closeness centrality\n",
    "cc = nx.closeness_centrality(graph)\n",
    "cc_df = pd.DataFrame.from_dict(cc, orient = 'index')\n",
    "cc_df.columns = ['closeness cent']\n",
    "cc_df = cc_df.sort_values(by = ['closeness cent'])\n",
    "#cc_df"
   ]
  },
  {
   "cell_type": "code",
   "execution_count": null,
   "metadata": {
    "collapsed": false,
    "scrolled": true
   },
   "outputs": [],
   "source": [
    "dc_df"
   ]
  },
  {
   "cell_type": "code",
   "execution_count": null,
   "metadata": {
    "collapsed": false,
    "scrolled": true
   },
   "outputs": [],
   "source": [
    "bc_df"
   ]
  },
  {
   "cell_type": "code",
   "execution_count": null,
   "metadata": {
    "collapsed": false,
    "scrolled": true
   },
   "outputs": [],
   "source": [
    "cc_df"
   ]
  },
  {
   "cell_type": "code",
   "execution_count": null,
   "metadata": {
    "collapsed": true
   },
   "outputs": [],
   "source": []
  }
 ],
 "metadata": {
  "kernelspec": {
   "display_name": "Python 2",
   "language": "python",
   "name": "python2"
  },
  "language_info": {
   "codemirror_mode": {
    "name": "ipython",
    "version": 2
   },
   "file_extension": ".py",
   "mimetype": "text/x-python",
   "name": "python",
   "nbconvert_exporter": "python",
   "pygments_lexer": "ipython2",
   "version": "2.7.11"
  }
 },
 "nbformat": 4,
 "nbformat_minor": 0
}
