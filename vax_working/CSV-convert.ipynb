{
 "cells": [
  {
   "cell_type": "markdown",
   "metadata": {},
   "source": [
    "## import CSV to other file types\n",
    "This is a modified copy of CSVtoGML.py that needs to be fixed"
   ]
  },
  {
   "cell_type": "code",
   "execution_count": null,
   "metadata": {
    "collapsed": true
   },
   "outputs": [],
   "source": [
    "# coding: utf-8\n",
    "# ## CSV to GML\n",
    "\n",
    "import networkx as nx\n",
    "import pandas as pd\n",
    "import numpy as np\n",
    "import sys\n",
    "import matplotlib.pyplot as plt\n",
    "%matplotlib inline  \n",
    "\n",
    "from glob import glob\n",
    "#fileName = 'article0'\n",
    "fileName = sys.argv[1]\n"
   ]
  },
  {
   "cell_type": "code",
   "execution_count": null,
   "metadata": {
    "collapsed": true
   },
   "outputs": [],
   "source": [
    "def getFiles(fileName):\n",
    "    matches = glob('*'+fileName+'*')\n",
    "    bigFile = matches[0]\n",
    "    data = pd.DataFrame.from_csv(bigFile)\n",
    "    return clearSource(data)\n",
    "    \n",
    "def clearSource(data):\n",
    "    columns = ['source','target']\n",
    "    pre = len(data)\n",
    "    for column in columns:\n",
    "        data = data[pd.notnull(data[column])]\n",
    "    post = len(data)\n",
    "    print \"Filtered %s rows to %s rows by removing rows with blank values in columns %s\" % (pre,post,columns)\n",
    "    return data\n",
    "    \n",
    "#data = getFiles(fileName)\n"
   ]
  },
  {
   "cell_type": "code",
   "execution_count": null,
   "metadata": {
    "collapsed": true
   },
   "outputs": [],
   "source": [
    "def getStuff(data,labels):\n",
    "    forEdges = labels == ['edge']\n",
    "    columns = list(data.columns.values)\n",
    "    items = dict()\n",
    "    \n",
    "    nameFunc = {True: lambda x,y: '%s - %s - %s' % (x['source'],x['edge'],x['target']),\n",
    "                False: lambda x,y: x[y]}[forEdges]\n",
    "    \n",
    "    extra = ['source','target'] * forEdges\n",
    "    \n",
    "    for label in labels:\n",
    "        relevant = [col for col in columns if label+'-' in col] + extra\n",
    "        print \"Extracting %s data from %s\" % (label,relevant)\n",
    "        for i in data.index:\n",
    "            row = data.ix[i]\n",
    "            for col in relevant:\n",
    "                if str(row[col]).lower() != 'nan':\n",
    "                    name = nameFunc(row,label)\n",
    "                    if name not in items:\n",
    "                        items[name] = dict()\n",
    "                    items[name][col.replace(label+'-','')] = row[col]\n",
    "    return items\n",
    "    \n",
    "\n",
    "def getNodes(data):\n",
    "    return getStuff(data,['source','target'])\n",
    "\n",
    "\n",
    "def getEdges(data):\n",
    "    return getStuff(data,['edge'])\n",
    "      \n",
    "    \n",
    "#allNodes = getNodes(data); allEdges = getEdges(data)"
   ]
  },
  {
   "cell_type": "code",
   "execution_count": null,
   "metadata": {
    "collapsed": true
   },
   "outputs": [],
   "source": [
    "def addNodes(graph,nodes):\n",
    "    for key,value in nodes.iteritems():\n",
    "        graph.add_node(key,attr_dict=value)\n",
    "    return graph\n",
    "    \n",
    "def addEdges(graph,edges):\n",
    "    for key,value in edges.iteritems():\n",
    "        value['label'] = key\n",
    "        value['edge'] = key.split(' - ')[1]\n",
    "        graph.add_edge(value['source'],value['target'],attr_dict = value)\n",
    "    return graph\n",
    "\n",
    "\n",
    "def createNetwork(edges,nodes):\n",
    "    graph = nx.MultiGraph()\n",
    "    graph = addNodes(graph,nodes)\n",
    "    graph = addEdges(graph,edges)\n",
    "    return graph\n",
    "\n",
    "\n",
    "#fullGraph = createNetwork(allEdges,allNodes)"
   ]
  },
  {
   "cell_type": "code",
   "execution_count": null,
   "metadata": {
    "collapsed": true
   },
   "outputs": [],
   "source": [
    "#fileName = 'article'\n",
    "#graph, nodes, edges = getGraph(fileName)\n",
    "getGraph(fileName)\n"
   ]
  }
 ],
 "metadata": {
  "kernelspec": {
   "display_name": "Python 2",
   "language": "python",
   "name": "python2"
  },
  "language_info": {
   "codemirror_mode": {
    "name": "ipython",
    "version": 2
   },
   "file_extension": ".py",
   "mimetype": "text/x-python",
   "name": "python",
   "nbconvert_exporter": "python",
   "pygments_lexer": "ipython2",
   "version": "2.7.11"
  }
 },
 "nbformat": 4,
 "nbformat_minor": 0
}
