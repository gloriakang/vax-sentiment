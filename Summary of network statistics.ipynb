{
 "cells": [
  {
   "cell_type": "markdown",
   "metadata": {
    "collapsed": true
   },
   "source": [
    "# Network summary\n",
    "\n",
    "### 1. Average degree\n",
    "Average degree shows the number of edges each node has in the graph. The higher it is, the more densely connected is the text. Demonstrates diversity of distinct topics well-connected to each other in the text.\n",
    "\n",
    "### 2. Average path\n",
    "Average path shows the average number of nodes traveled to get from one randomly chosen node to another.\n",
    "\n",
    "### 3. Diameter\n",
    "Diameter is the longest path in the network; higher values of average path and diameter indicate long, winding text and greater diversity of topics. Low diameter and average path values may indicate an overall centralized agenda."
   ]
  },
  {
   "cell_type": "markdown",
   "metadata": {},
   "source": [
    "# Centrality\n",
    "Gives a rough indication of the social power of a node based on how well they \"connect\" the network. \"Betweenness\", \"Closeness\", and \"Degree\" are all measures of centrality.\n",
    "\n",
    "\n",
    "### 1. Degree centrality\n",
    "Degree centrality refers to the number of connections (edges) that a node has; often interpreted in terms of immediate risk of that node catching whatever is spreading through the network.\n",
    "\n",
    "- in-degree: number of (incoming) edges directed to a node\n",
    "- out-degree: number of (outgoing) edges the node directs to others\n",
    "\n",
    "\n",
    "### 2. Betweenness centrality\n",
    "Betweenness centrality measure for each node shows how often it appears on the shortest path between any two random nodes in the network. This measure takes into account the connectivity of the node's neighbors, giving a higher value for nodes which bridge clusters. The measure reflects the number of people who a person is connecting indirectly through their direct links.\n",
    "\n",
    "Nodes that occur on many shortest paths between other nodes have higher betweenness than those that do not.\n",
    "\n",
    "It indicates the importance of a node to the overall connectivity of the network; nodes that connect distinct separated communities together will have a higher measure of betweenness centrality. Additionally, nodes with the highest betweenness centrality represent polysingularity, as they appear more often bridging separate communities together.\n",
    "\n",
    "\n",
    "### 3. Closeness centrality\n",
    "Closeness is preferred in network analysis to mean shortest-path length, as it gives higher values to more central vertices, and so is usually positively associated with other measures such as degree.\n",
    "In network theory, defined as the mean geodesic distance (i.e., the shortest path) between a vertex v and all other vertices reachable from it.\n",
    "\n",
    "Closeness: The degree an individual is near all other individuals in a network (directly or indirectly). It reflects the ability to access information through the \"grapevine\" of network members. Thus, closeness is the inverse of the sum of the shortest distances between each individual and every other person in the network. (See also: Proxemics) The shortest path may also be known as the \"geodesic distance\".\n",
    "\n",
    "- `nx: if the graph is not completely connected, this algorithm computes the closeness centrality for each connected part separately.`\n",
    "- `nx: if the ‘distance’ keyword is set to an edge attribute key then the shortest-path length will be computed using Dijkstra’s algorithm with that edge attribute as the edge weight.`\n",
    "\n",
    "**Current flow closeness**: Current-flow closeness centrality is variant of closeness centrality based on effective resistance between nodes in a network. This metric is also known as information centrality.\n",
    "\n",
    "**Current-flow betweenness**: Current-flow betweenness centrality uses an electrical current model for information spreading in contrast to betweenness centrality which uses shortest paths. Current-flow betweenness centrality is also known as random-walk betweenness centrality\n",
    "\n",
    "\n",
    "### 4. Eigenvector centrality\n",
    "Eigenvector centrality computes the centrality for a node based on the centrality of its neighbors; a measure of importance of a node in a network. It assigns relative scores to all nodes in the network based on the principle that connections to high-scoring nodes contribute more to the score of the node in question than equal connections to low-scoring nodes. Google's PageRank is a variant of the Eigenvector centrality measure."
   ]
  },
  {
   "cell_type": "markdown",
   "metadata": {
    "collapsed": true
   },
   "source": [
    "# Assortativity\n",
    "\n",
    "### Degree assortativity coefficient\n",
    "Assortativity measures the similarity of connections in the graph with respect to the node degree.\n",
    "- `nx: computes where e is the joint probability distribution (mixing matrix) of the degrees. If G is directed than the matrix e is the joint probability of the user-specified degree type for the source and target.`\n",
    "\n",
    "### Average neighbor degree\n",
    "- `nx: returns the average degree of the neighborhood of each node`\n",
    "\n",
    "### Average degree connectivity (k nearest neighbors)\n",
    "- `nx: the average nearest neighbor degree of nodes with degree k`\n",
    "- `nx: returns a dictionary keyed by degree k with the value of average connectivity`\n",
    "\n"
   ]
  },
  {
   "cell_type": "markdown",
   "metadata": {},
   "source": [
    "# Components\n",
    "\n",
    "### Digraph connectivity\n",
    "\n",
    "A digraph G is called weakly connected (or just connected) if the undirected underlying graph obtained by replacing all directed edges of G with undirected edges is a connected graph. A digraph is strongly connected or strong if it contains a directed path from u to v and a directed path from v to u for every pair of vertices u,v. The strong components are the maximal strongly connected subgraphs."
   ]
  },
  {
   "cell_type": "code",
   "execution_count": null,
   "metadata": {
    "collapsed": true
   },
   "outputs": [],
   "source": [
    "# Strong connectivity\n",
    "number_strongly_connected_components(G)\n",
    "strongly_connected_component_subgraphs(G, copy=True)\n",
    "\n",
    "# Weak connectivity\n",
    "weakly_connected_component_subgraphs(G, copy=True)"
   ]
  },
  {
   "cell_type": "code",
   "execution_count": null,
   "metadata": {
    "collapsed": true
   },
   "outputs": [],
   "source": []
  },
  {
   "cell_type": "markdown",
   "metadata": {},
   "source": [
    "- - -"
   ]
  },
  {
   "cell_type": "markdown",
   "metadata": {},
   "source": [
    "# TO-DO"
   ]
  },
  {
   "cell_type": "markdown",
   "metadata": {},
   "source": [
    "### Node centralities\n",
    "- Needs to be undirected\n",
    "- First extract the main connected component, then compute node centrality measures for the largest component"
   ]
  },
  {
   "cell_type": "code",
   "execution_count": null,
   "metadata": {
    "collapsed": true
   },
   "outputs": [],
   "source": [
    "# for main component\n",
    "graph_components = nx.connected_component_subgraphs(ugraph)\n",
    "graph_mc = graph_components[0]\n",
    "\n",
    "# run betweenness, closeness, and eigenvector centrality\n",
    "bet_cen = nx.betweenness_centrality(graph_mc)\n",
    "clo_cen =\n",
    "eig_cen =\n",
    "\n",
    "# for most central nodes\n",
    "def highest_centrality(cent_dict):\n",
    "    \"\"\"Returns a tuple (node,value) with the node\n",
    "    with largest value from Networkx centrality dictionary.\"\"\"\n",
    "    # create ordered tuple of centrality data\n",
    "    cent_items = [(b,a) for (a,b) in cent_dict.iteritems()]\n",
    "    \n",
    "    # sort in descending order\n",
    "    cent_items.sort()\n",
    "    cent_items.reverse()\n",
    "    \n",
    "    return tuple(reversed(cent_items[0]))"
   ]
  },
  {
   "cell_type": "markdown",
   "metadata": {
    "collapsed": true
   },
   "source": [
    "### Clustering coefficient\n",
    "** (not defined for multigraphs) **\n",
    "\n",
    "A measure of degree to which nodes in a graph tend to cluster together; a measure of the likelihood that two associates of a node are associates themselves. A higher clustering coefficient indicates a greater 'cliquishness'."
   ]
  },
  {
   "cell_type": "code",
   "execution_count": null,
   "metadata": {
    "collapsed": true
   },
   "outputs": [],
   "source": [
    "## NOT DEFINED FOR MULTIGRAPHS ##\n",
    "\n",
    "# first convert to undirected graph\n",
    "hardford_ud = hartford.to_undirected()\n",
    "\n",
    "# clustering coefficient of all nodes (in a dictionary)\n",
    "clust_coefficients = nx.clustering(hartford_ud)\n",
    "\n",
    "# average clusteirng coefficient\n",
    "ccs = nx.clustering(hartford_ud)\n",
    "avg_clust = sum(ccs.values()) / len(ccs)"
   ]
  },
  {
   "cell_type": "markdown",
   "metadata": {
    "collapsed": true
   },
   "source": [
    "### Modularity\n",
    "\n",
    "Modularity algorithm (Blondel 2008) scans through all the relations between the nodes, grouping them into communities on the basis of how densely they are connected together. If nodes are more tightly-knit together than to the rest of the network, they are considered to be part of a distinct community.\n",
    "\n",
    "Modularity measure greater than 0.4 shows the presence of prominent communities within the text (Freeman 2010, Blondel et al 2008); for example, modularity measure of 0.496 may indiciate the presence of communities that are significantly more connected within, than to the rest of the network (Paranyushkin 2012)."
   ]
  },
  {
   "cell_type": "code",
   "execution_count": null,
   "metadata": {
    "collapsed": true
   },
   "outputs": [],
   "source": []
  }
 ],
 "metadata": {
  "kernelspec": {
   "display_name": "Python 2",
   "language": "python",
   "name": "python2"
  },
  "language_info": {
   "codemirror_mode": {
    "name": "ipython",
    "version": 2
   },
   "file_extension": ".py",
   "mimetype": "text/x-python",
   "name": "python",
   "nbconvert_exporter": "python",
   "pygments_lexer": "ipython2",
   "version": "2.7.11"
  }
 },
 "nbformat": 4,
 "nbformat_minor": 0
}
