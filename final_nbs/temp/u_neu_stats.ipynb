{
 "cells": [
  {
   "cell_type": "markdown",
   "metadata": {
    "collapsed": true
   },
   "source": [
    "# u_neu stats"
   ]
  },
  {
   "cell_type": "code",
   "execution_count": 1,
   "metadata": {
    "collapsed": false,
    "scrolled": false
   },
   "outputs": [],
   "source": [
    "# 1_network_df\n",
    "\n",
    "import networkx as nx\n",
    "import numpy as np\n",
    "import pandas as pd\n",
    "import matplotlib.pyplot as plt\n",
    "%matplotlib inline\n",
    "import os\n",
    "from glob import glob\n",
    "\n",
    "plt.style.use('ggplot')\n",
    "pd.set_option('display.width', 5000) \n",
    "pd.set_option('display.max_columns', 60)\n"
   ]
  },
  {
   "cell_type": "code",
   "execution_count": 2,
   "metadata": {
    "collapsed": true,
    "scrolled": false
   },
   "outputs": [],
   "source": [
    "def calculate_graph_inf(graph):\n",
    "    graph.name = filename\n",
    "    info = nx.info(graph)\n",
    "    print info\n",
    "\n",
    "def highest_centrality(cent_dict):\n",
    "    \"\"\"Returns a tuple (node,value) with the node\n",
    "    with largest value from centrality dictionary.\"\"\"\n",
    "    # create ordered tuple of centrality data\n",
    "    cent_items = [(b,a) for (a,b) in cent_dict.iteritems()]\n",
    "    # sort in descending order\n",
    "    cent_items.sort()\n",
    "    cent_items.reverse()\n",
    "    return tuple(reversed(cent_items[0]))"
   ]
  },
  {
   "cell_type": "markdown",
   "metadata": {},
   "source": [
    "---\n",
    "# Calculate network statistics"
   ]
  },
  {
   "cell_type": "code",
   "execution_count": 3,
   "metadata": {
    "collapsed": true
   },
   "outputs": [],
   "source": [
    "# load directed\n",
    "#gml_files = glob('../output/network/article_neu.gml')\n",
    "\n",
    "# load undirected\n",
    "gml_files = glob('../output/network/article_u_neu.gml')\n",
    "\n",
    "\n",
    "network_data_columns = ['name',\n",
    "                    'sentiment',\n",
    "                    '# nodes',\n",
    "                    '# edges',\n",
    "                    #'avg deg',\n",
    "                    'density',\n",
    "                    'deg assort coef', \n",
    "                    'avg deg cent',\n",
    "                    'avg bet cent',\n",
    "                    'avg clo cent',\n",
    "                    'high deg cent',\n",
    "                    'high bet cent',\n",
    "                    'high clo cent',\n",
    "                    'avg node conn',\n",
    "                    '# conn comp',\n",
    "                    'gc size'\n",
    "                    ]\n",
    "network_data = pd.DataFrame(columns = network_data_columns)"
   ]
  },
  {
   "cell_type": "code",
   "execution_count": 4,
   "metadata": {
    "collapsed": false
   },
   "outputs": [
    {
     "name": "stdout",
     "output_type": "stream",
     "text": [
      "----------\n",
      "../output/network/article_u_neu.gml\n",
      "Name: article_u_neu.gml\n",
      "Type: MultiGraph\n",
      "Number of nodes: 201\n",
      "Number of edges: 236\n",
      "Average degree:   2.3483\n"
     ]
    }
   ],
   "source": [
    "for graph_num, gml_graph in enumerate(gml_files):\n",
    "    graph = nx.read_gml(gml_graph)\n",
    "    (filepath, filename) = os.path.split(gml_graph)\n",
    "    print('-' * 10)\n",
    "    print(gml_graph)\n",
    "    calculate_graph_inf(graph)\n",
    "    \n",
    "    # calculate variables\n",
    "    sent = \"neutral\"\n",
    "    nodes = nx.number_of_nodes(graph)\n",
    "    edges = nx.number_of_edges(graph)\n",
    "    density = float(\"{0:.4f}\".format(nx.density(graph)))\n",
    "    avg_deg_cen = np.array(nx.degree_centrality(graph).values()).mean()\n",
    "    avg_bet_cen = np.array(nx.betweenness_centrality(graph).values()).mean()\n",
    "    avg_clo_cen = np.array(nx.closeness_centrality(graph).values()).mean()\n",
    "    #avg_deg = float(\"{0:.4f}\".format(in_deg + out_deg))\n",
    "    avg_node_con = float(\"{0:.4f}\".format((nx.average_node_connectivity(graph))))\n",
    "    deg_assort_coeff = float(\"{0:.4f}\".format((nx.degree_assortativity_coefficient(graph))))\n",
    "    #conn_comp = nx.number_weakly_connected_components(graph) # not for undirected\n",
    "    deg_cen = nx.degree_centrality(graph)\n",
    "    bet_cen = nx.betweenness_centrality(graph)\n",
    "    clo_cen = nx.closeness_centrality(graph)\n",
    "    highest_deg_cen = highest_centrality(deg_cen)\n",
    "    highest_bet_cen = highest_centrality(bet_cen)\n",
    "    highest_clo_cen = highest_centrality(clo_cen)\n",
    "    #Gc = len(max(nx.weakly_connected_component_subgraphs(graph), key=len))\n",
    "\n",
    "    # save variables into list\n",
    "    graph_values = {'name':filename,\n",
    "                    'sentiment':sent,\n",
    "                    '# nodes':nodes,\n",
    "                    '# edges':edges,\n",
    "                    #'avg deg':avg_deg,\n",
    "                    'density':density,\n",
    "                    'deg assort coef':deg_assort_coeff,\n",
    "                    'avg deg cent':\"%.4f\" % avg_deg_cen,\n",
    "                    'avg bet cent':\"%.4f\" % avg_bet_cen,\n",
    "                    'avg clo cent':\"%.4f\" % avg_clo_cen,\n",
    "                    'high deg cent':highest_deg_cen,\n",
    "                    'high bet cent':highest_bet_cen,\n",
    "                    'high clo cent':highest_clo_cen,\n",
    "                    'avg node conn':avg_node_con\n",
    "                    #'# conn comp':conn_comp,\n",
    "                    #'gc size':Gc\n",
    "                    }\n",
    "    network_data = network_data.append(graph_values, ignore_index=True)"
   ]
  },
  {
   "cell_type": "code",
   "execution_count": 5,
   "metadata": {
    "collapsed": false
   },
   "outputs": [
    {
     "data": {
      "text/html": [
       "<div>\n",
       "<table border=\"1\" class=\"dataframe\">\n",
       "  <thead>\n",
       "    <tr style=\"text-align: right;\">\n",
       "      <th></th>\n",
       "      <th>name</th>\n",
       "      <th>sentiment</th>\n",
       "      <th># nodes</th>\n",
       "      <th># edges</th>\n",
       "      <th>density</th>\n",
       "      <th>deg assort coef</th>\n",
       "      <th>avg deg cent</th>\n",
       "      <th>avg bet cent</th>\n",
       "      <th>avg clo cent</th>\n",
       "      <th>high deg cent</th>\n",
       "      <th>high bet cent</th>\n",
       "      <th>high clo cent</th>\n",
       "      <th>avg node conn</th>\n",
       "      <th># conn comp</th>\n",
       "      <th>gc size</th>\n",
       "    </tr>\n",
       "  </thead>\n",
       "  <tbody>\n",
       "    <tr>\n",
       "      <th>0</th>\n",
       "      <td>article_u_neu.gml</td>\n",
       "      <td>neutral</td>\n",
       "      <td>201.0</td>\n",
       "      <td>236.0</td>\n",
       "      <td>0.0117</td>\n",
       "      <td>-0.2586</td>\n",
       "      <td>0.0117</td>\n",
       "      <td>0.0210</td>\n",
       "      <td>0.1120</td>\n",
       "      <td>(SB 277, 0.155)</td>\n",
       "      <td>(vaccines, 0.414983249581)</td>\n",
       "      <td>(vaccines, 0.198489010989)</td>\n",
       "      <td>0.75</td>\n",
       "      <td>NaN</td>\n",
       "      <td>NaN</td>\n",
       "    </tr>\n",
       "  </tbody>\n",
       "</table>\n",
       "</div>"
      ],
      "text/plain": [
       "                name sentiment  # nodes  # edges  density  deg assort coef avg deg cent avg bet cent avg clo cent    high deg cent               high bet cent               high clo cent  avg node conn  # conn comp  gc size\n",
       "0  article_u_neu.gml   neutral    201.0    236.0   0.0117          -0.2586       0.0117       0.0210       0.1120  (SB 277, 0.155)  (vaccines, 0.414983249581)  (vaccines, 0.198489010989)           0.75          NaN      NaN"
      ]
     },
     "execution_count": 5,
     "metadata": {},
     "output_type": "execute_result"
    }
   ],
   "source": [
    "# print network data for greatest component\n",
    "network_data"
   ]
  },
  {
   "cell_type": "code",
   "execution_count": null,
   "metadata": {
    "collapsed": true
   },
   "outputs": [],
   "source": [
    "# save\n",
    "#network_data.to_csv('../output/df/u_neu2.csv')"
   ]
  },
  {
   "cell_type": "code",
   "execution_count": null,
   "metadata": {
    "collapsed": true
   },
   "outputs": [],
   "source": []
  },
  {
   "cell_type": "markdown",
   "metadata": {},
   "source": [
    "---\n",
    "# all nodes table"
   ]
  },
  {
   "cell_type": "code",
   "execution_count": null,
   "metadata": {
    "collapsed": true,
    "scrolled": false
   },
   "outputs": [],
   "source": [
    "# 2_node_df: list all nodes and centrality\n",
    "data_columns = ['name',\n",
    "                'sentiment'\n",
    "                ]\n",
    "data = pd.DataFrame(columns = data_columns)\n",
    "combined_df = pd.DataFrame()"
   ]
  },
  {
   "cell_type": "code",
   "execution_count": null,
   "metadata": {
    "collapsed": false,
    "scrolled": true
   },
   "outputs": [],
   "source": [
    "for graph_num, gml_graph in enumerate(gml_files):\n",
    "    graph = nx.read_gml(gml_graph)\n",
    "    (filepath, filename) = os.path.split(gml_graph)\n",
    "    print('-' * 10)\n",
    "    print(gml_graph)\n",
    "    calculate_graph_inf(graph)\n",
    "\n",
    "    ## calculate variables and save into list\n",
    "    sent = \"neutral\"    \n",
    "    deg_cent = nx.degree_centrality(graph)\n",
    "    bet_cent = nx.betweenness_centrality(graph)\n",
    "    clo_cent = nx.closeness_centrality(graph)\n",
    "    graph_values = {'name':filename,\n",
    "                    'sentiment':sent\n",
    "                    }\n",
    "    data = data.append(graph_values, ignore_index=True)\n",
    "\n",
    "    degree = nx.degree(graph)\n",
    "    deg_df = pd.DataFrame.from_dict(degree, orient = 'index')\n",
    "    deg_df.columns = ['degree']\n",
    "    # degree centrality\n",
    "    deg_cent = nx.degree_centrality(graph)\n",
    "    dc_df = pd.DataFrame.from_dict(deg_cent, orient = 'index')\n",
    "    dc_df.columns = ['deg cent']\n",
    "    # betweenness centrality\n",
    "    bet_cent = nx.betweenness_centrality(graph)\n",
    "    bc_df = pd.DataFrame.from_dict(bet_cent, orient = 'index')\n",
    "    bc_df.columns = ['bet cent']\n",
    "    # closeness centrality\n",
    "    clo_cent = nx.closeness_centrality(graph)\n",
    "    cc_df = pd.DataFrame.from_dict(clo_cent, orient = 'index')\n",
    "    cc_df.columns = ['clo cent']\n",
    "    # concat node frames into node_df\n",
    "    frames = [deg_df, dc_df, bc_df, cc_df]\n",
    "    node_df = pd.concat(frames, axis = 1)\n",
    "    node_df.index.name = 'node'\n",
    "    node_df = node_df.reset_index()\n",
    "\n",
    "    values = pd.DataFrame(graph_values, columns = ('name', 'sentiment'), index = [0])\n",
    "    \n",
    "    # df = merges graph_values with node_df for single graph and fill NaNs\n",
    "    df = pd.concat([values, node_df], axis = 1)\n",
    "    df = df.fillna(method='ffill')\n",
    "    combined_df = combined_df.append(df)"
   ]
  },
  {
   "cell_type": "code",
   "execution_count": null,
   "metadata": {
    "collapsed": false,
    "scrolled": true
   },
   "outputs": [],
   "source": [
    "# print entire network\n",
    "combined_df"
   ]
  },
  {
   "cell_type": "markdown",
   "metadata": {},
   "source": [
    "---\n",
    "## Undirected cc"
   ]
  },
  {
   "cell_type": "code",
   "execution_count": null,
   "metadata": {
    "collapsed": false,
    "scrolled": false
   },
   "outputs": [],
   "source": [
    "# list of connected components by size (undirected graph)\n",
    "connected_components = [len(c) for c in sorted(nx.connected_components(graph), key=len, reverse=True)]\n",
    "\n",
    "# generate connected components as subgraphs (undirected graph)\n",
    "subgraphs = list(nx.connected_component_subgraphs(graph))\n",
    "\n",
    "# greatest component (undirected MultiGraph)\n",
    "u_Gc = max(nx.connected_component_subgraphs(graph), key=len)\n",
    "u_Gc.name = \"undirected Gc\""
   ]
  },
  {
   "cell_type": "code",
   "execution_count": null,
   "metadata": {
    "collapsed": false
   },
   "outputs": [],
   "source": [
    "print \"connected components = \", connected_components\n",
    "print nx.info(u_Gc)"
   ]
  },
  {
   "cell_type": "markdown",
   "metadata": {},
   "source": [
    "---\n",
    "# Centrality tables"
   ]
  },
  {
   "cell_type": "code",
   "execution_count": null,
   "metadata": {
    "collapsed": false
   },
   "outputs": [],
   "source": [
    "# make sure you're using the right graph\n",
    "print gml_files\n",
    "print gml_graph\n",
    "print graph"
   ]
  },
  {
   "cell_type": "code",
   "execution_count": null,
   "metadata": {
    "collapsed": false,
    "scrolled": true
   },
   "outputs": [],
   "source": [
    "# degree centrality\n",
    "dc = nx.degree_centrality(graph)\n",
    "dc_df = pd.DataFrame.from_dict(dc, orient = 'index')\n",
    "dc_df.columns = ['degree cent']\n",
    "dc_df = dc_df.sort_values(by = ['degree cent'])\n",
    "#dc_df\n",
    "\n",
    "# betweenness centrality\n",
    "bc = nx.betweenness_centrality(graph)\n",
    "bc_df = pd.DataFrame.from_dict(bc, orient = 'index')\n",
    "bc_df.columns = ['betweenness cent']\n",
    "bc_df = bc_df.sort_values(by = ['betweenness cent'])\n",
    "#bc_df\n",
    "\n",
    "# closeness centrality\n",
    "cc = nx.closeness_centrality(graph)\n",
    "cc_df = pd.DataFrame.from_dict(cc, orient = 'index')\n",
    "cc_df.columns = ['closeness cent']\n",
    "cc_df = cc_df.sort_values(by = ['closeness cent'])\n",
    "#cc_df"
   ]
  },
  {
   "cell_type": "code",
   "execution_count": null,
   "metadata": {
    "collapsed": false,
    "scrolled": true
   },
   "outputs": [],
   "source": [
    "dc_df"
   ]
  },
  {
   "cell_type": "code",
   "execution_count": null,
   "metadata": {
    "collapsed": false,
    "scrolled": true
   },
   "outputs": [],
   "source": [
    "bc_df"
   ]
  },
  {
   "cell_type": "code",
   "execution_count": null,
   "metadata": {
    "collapsed": false,
    "scrolled": true
   },
   "outputs": [],
   "source": [
    "cc_df"
   ]
  },
  {
   "cell_type": "code",
   "execution_count": null,
   "metadata": {
    "collapsed": true
   },
   "outputs": [],
   "source": []
  }
 ],
 "metadata": {
  "kernelspec": {
   "display_name": "Python 2",
   "language": "python",
   "name": "python2"
  },
  "language_info": {
   "codemirror_mode": {
    "name": "ipython",
    "version": 2
   },
   "file_extension": ".py",
   "mimetype": "text/x-python",
   "name": "python",
   "nbconvert_exporter": "python",
   "pygments_lexer": "ipython2",
   "version": "2.7.11"
  }
 },
 "nbformat": 4,
 "nbformat_minor": 0
}
