{
 "cells": [
  {
   "cell_type": "markdown",
   "metadata": {},
   "source": [
    "# network-import\n",
    "- article.csv to .gml and .net"
   ]
  },
  {
   "cell_type": "code",
   "execution_count": 1,
   "metadata": {
    "collapsed": false
   },
   "outputs": [],
   "source": [
    "#import pkg_resources\n",
    "#pkg_resources.require(\"networkx==1.8\")\n",
    "\n",
    "import pandas as pd\n",
    "import numpy as np\n",
    "import networkx as nx\n",
    "from copy import deepcopy\n",
    "\n",
    "import matplotlib.pyplot as plt\n",
    "%matplotlib inline  \n",
    "\n",
    "from glob import glob\n",
    "fileName = 'article29'"
   ]
  },
  {
   "cell_type": "code",
   "execution_count": 2,
   "metadata": {
    "collapsed": false
   },
   "outputs": [],
   "source": [
    "def getFiles(fileName):\n",
    "    matches = glob('*'+fileName+'*')\n",
    "    bigFile = matches[0]\n",
    "    data = pd.DataFrame.from_csv(bigFile)\n",
    "    return clearSource(data)\n",
    "    \n",
    "\n",
    "def clearSource(data):\n",
    "    columns = ['source','target']\n",
    "    pre = len(data)\n",
    "    for column in columns:\n",
    "        data = data[pd.notnull(data[column])]\n",
    "    post = len(data)\n",
    "    print \"Filtered %s rows to %s rows by removing rows with blank values in columns %s\" % (pre,post,columns)\n",
    "    return data\n",
    "    \n",
    "    \n",
    "#data = getFiles(fileName)"
   ]
  },
  {
   "cell_type": "code",
   "execution_count": 3,
   "metadata": {
    "collapsed": false
   },
   "outputs": [],
   "source": [
    "def getStuff(data,labels):\n",
    "    forEdges = labels == ['edge']\n",
    "    columns = list(data.columns.values)\n",
    "    items = dict()\n",
    "    \n",
    "    nameFunc = {True: lambda x,y: '%s - %s - %s' % (x['source'],x['edge'],x['target']),\n",
    "                False: lambda x,y: x[y]}[forEdges]\n",
    "    \n",
    "    extra = ['source','target'] * forEdges\n",
    "    \n",
    "    for label in labels:\n",
    "        relevant = [col for col in columns if label+'-' in col] + extra\n",
    "        relevant = extra\n",
    "        print \"Extracting %s data from %s\" % (label,relevant)\n",
    "        for i in data.index:\n",
    "            row = data.ix[i]\n",
    "            for col in relevant:\n",
    "                if str(row[col]).lower() != 'nan':\n",
    "                    name = nameFunc(row,label)\n",
    "                    if name not in items:\n",
    "                        items[name] = dict()\n",
    "                    items[name][col.replace(label+'-','')] = row[col]\n",
    "    return items\n",
    "    \n",
    "\n",
    "def getNodes(data):\n",
    "    return getStuff(data,['source','target'])\n",
    "\n",
    "\n",
    "def getEdges(data):\n",
    "    return getStuff(data,['edge'])\n",
    "      \n",
    "    \n",
    "#allNodes = getNodes(data); allEdges = getEdges(data)"
   ]
  },
  {
   "cell_type": "code",
   "execution_count": 4,
   "metadata": {
    "collapsed": false,
    "scrolled": false
   },
   "outputs": [],
   "source": [
    "def addNodes(graph,nodes):\n",
    "    for key,value in nodes.iteritems():\n",
    "        graph.add_node(key,attr_dict=value)\n",
    "    return graph\n",
    "    \n",
    "def addEdges(graph,edges):\n",
    "    for key,value in edges.iteritems():\n",
    "        value['label'] = key\n",
    "        value['edge'] = key.split(' - ')[1]\n",
    "        graph.add_edge(value['source'],value['target'],attr_dict = value)\n",
    "    return graph\n",
    "    \n",
    "def createNetwork(edges,nodes):\n",
    "    graph = nx.MultiGraph()\n",
    "    graph = addNodes(graph,nodes)\n",
    "    graph = addEdges(graph,edges)\n",
    "    return graph\n",
    "\n",
    "\n",
    "#fullGraph = createNetwork(allEdges,allNodes)"
   ]
  },
  {
   "cell_type": "code",
   "execution_count": 5,
   "metadata": {
    "collapsed": false
   },
   "outputs": [],
   "source": [
    "def drawIt(graph,what='graph'):\n",
    "    style=nx.spring_layout(graph)\n",
    "    size = graph.number_of_nodes()\n",
    "    print \"Drawing %s of size %s:\" % (what,size)\n",
    "    if size > 20:\n",
    "        plt.figure(figsize=(10,10))\n",
    "        if size > 40:\n",
    "            nx.draw(graph,style,node_size=60,font_size=8)\n",
    "        else:\n",
    "            nx.draw(graph,style)\n",
    "    else:\n",
    "        nx.draw(graph,style)\n",
    "    plt.show()\n",
    "    \n",
    "def describeGraph(graph):\n",
    "    components = nx.connected_components(graph)\n",
    "    isolated = [entry[0] for entry in components if len(entry)==1]\n",
    "    params = (graph.number_of_edges(),graph.number_of_nodes(),len(components),len(isolated))\n",
    "    print \"Graph has %s nodes, %s edges, %s connected components, and %s isolated nodes\\n\" % params\n",
    "    drawIt(graph)\n",
    "    for sub in components:\n",
    "        drawIt(graph.subgraph(sub),what='component')\n",
    "    print \"Isolated nodes:\", isolated\n",
    "\n",
    "def getGraph(fileRef):\n",
    "    data = getFiles(fileName)\n",
    "    nodes = getNodes(data)\n",
    "    edges = getEdges(data)\n",
    "    graph = createNetwork(edges,nodes)\n",
    "    fileOut = fileRef.split('.')[0]+'.gml'\n",
    "    print \"Writing GML file to %s\" % fileOut\n",
    "    nx.write_gml(graph, fileOut)\n",
    "    \n",
    "    fileOutNet = fileRef.split('.')[0]+'.net'\n",
    "    print \"Writing net file to %s\" % fileOutNet\n",
    "    nx.write_pajek(graph, fileOutNet)\n",
    "    \n",
    "    describeGraph(graph)\n",
    "    return graph, nodes, edges"
   ]
  },
  {
   "cell_type": "code",
   "execution_count": 6,
   "metadata": {
    "collapsed": false,
    "scrolled": false
   },
   "outputs": [
    {
     "ename": "IndexError",
     "evalue": "list index out of range",
     "output_type": "error",
     "traceback": [
      "\u001b[0;31m---------------------------------------------------------------------------\u001b[0m",
      "\u001b[0;31mIndexError\u001b[0m                                Traceback (most recent call last)",
      "\u001b[0;32m<ipython-input-6-a5be6a7a0834>\u001b[0m in \u001b[0;36m<module>\u001b[0;34m()\u001b[0m\n\u001b[1;32m      1\u001b[0m \u001b[0mfileName\u001b[0m \u001b[0;34m=\u001b[0m \u001b[0;34m'article29'\u001b[0m\u001b[0;34m\u001b[0m\u001b[0m\n\u001b[0;32m----> 2\u001b[0;31m \u001b[0mgraph\u001b[0m\u001b[0;34m,\u001b[0m \u001b[0mnodes\u001b[0m\u001b[0;34m,\u001b[0m \u001b[0medges\u001b[0m \u001b[0;34m=\u001b[0m \u001b[0mgetGraph\u001b[0m\u001b[0;34m(\u001b[0m\u001b[0mfileName\u001b[0m\u001b[0;34m)\u001b[0m\u001b[0;34m\u001b[0m\u001b[0m\n\u001b[0m",
      "\u001b[0;32m<ipython-input-5-ea50b28ee98f>\u001b[0m in \u001b[0;36mgetGraph\u001b[0;34m(fileRef)\u001b[0m\n\u001b[1;32m     24\u001b[0m \u001b[0;34m\u001b[0m\u001b[0m\n\u001b[1;32m     25\u001b[0m \u001b[0;32mdef\u001b[0m \u001b[0mgetGraph\u001b[0m\u001b[0;34m(\u001b[0m\u001b[0mfileRef\u001b[0m\u001b[0;34m)\u001b[0m\u001b[0;34m:\u001b[0m\u001b[0;34m\u001b[0m\u001b[0m\n\u001b[0;32m---> 26\u001b[0;31m     \u001b[0mdata\u001b[0m \u001b[0;34m=\u001b[0m \u001b[0mgetFiles\u001b[0m\u001b[0;34m(\u001b[0m\u001b[0mfileName\u001b[0m\u001b[0;34m)\u001b[0m\u001b[0;34m\u001b[0m\u001b[0m\n\u001b[0m\u001b[1;32m     27\u001b[0m     \u001b[0mnodes\u001b[0m \u001b[0;34m=\u001b[0m \u001b[0mgetNodes\u001b[0m\u001b[0;34m(\u001b[0m\u001b[0mdata\u001b[0m\u001b[0;34m)\u001b[0m\u001b[0;34m\u001b[0m\u001b[0m\n\u001b[1;32m     28\u001b[0m     \u001b[0medges\u001b[0m \u001b[0;34m=\u001b[0m \u001b[0mgetEdges\u001b[0m\u001b[0;34m(\u001b[0m\u001b[0mdata\u001b[0m\u001b[0;34m)\u001b[0m\u001b[0;34m\u001b[0m\u001b[0m\n",
      "\u001b[0;32m<ipython-input-2-f6891a4b62de>\u001b[0m in \u001b[0;36mgetFiles\u001b[0;34m(fileName)\u001b[0m\n\u001b[1;32m      1\u001b[0m \u001b[0;32mdef\u001b[0m \u001b[0mgetFiles\u001b[0m\u001b[0;34m(\u001b[0m\u001b[0mfileName\u001b[0m\u001b[0;34m)\u001b[0m\u001b[0;34m:\u001b[0m\u001b[0;34m\u001b[0m\u001b[0m\n\u001b[1;32m      2\u001b[0m     \u001b[0mmatches\u001b[0m \u001b[0;34m=\u001b[0m \u001b[0mglob\u001b[0m\u001b[0;34m(\u001b[0m\u001b[0;34m'*'\u001b[0m\u001b[0;34m+\u001b[0m\u001b[0mfileName\u001b[0m\u001b[0;34m+\u001b[0m\u001b[0;34m'*'\u001b[0m\u001b[0;34m)\u001b[0m\u001b[0;34m\u001b[0m\u001b[0m\n\u001b[0;32m----> 3\u001b[0;31m     \u001b[0mbigFile\u001b[0m \u001b[0;34m=\u001b[0m \u001b[0mmatches\u001b[0m\u001b[0;34m[\u001b[0m\u001b[0;36m0\u001b[0m\u001b[0;34m]\u001b[0m\u001b[0;34m\u001b[0m\u001b[0m\n\u001b[0m\u001b[1;32m      4\u001b[0m     \u001b[0mdata\u001b[0m \u001b[0;34m=\u001b[0m \u001b[0mpd\u001b[0m\u001b[0;34m.\u001b[0m\u001b[0mDataFrame\u001b[0m\u001b[0;34m.\u001b[0m\u001b[0mfrom_csv\u001b[0m\u001b[0;34m(\u001b[0m\u001b[0mbigFile\u001b[0m\u001b[0;34m)\u001b[0m\u001b[0;34m\u001b[0m\u001b[0m\n\u001b[1;32m      5\u001b[0m     \u001b[0;32mreturn\u001b[0m \u001b[0mclearSource\u001b[0m\u001b[0;34m(\u001b[0m\u001b[0mdata\u001b[0m\u001b[0;34m)\u001b[0m\u001b[0;34m\u001b[0m\u001b[0m\n",
      "\u001b[0;31mIndexError\u001b[0m: list index out of range"
     ]
    }
   ],
   "source": [
    "fileName = 'article29'\n",
    "graph, nodes, edges = getGraph(fileName)"
   ]
  },
  {
   "cell_type": "code",
   "execution_count": null,
   "metadata": {
    "collapsed": true
   },
   "outputs": [],
   "source": []
  }
 ],
 "metadata": {
  "kernelspec": {
   "display_name": "Python 2",
   "language": "python",
   "name": "python2"
  },
  "language_info": {
   "codemirror_mode": {
    "name": "ipython",
    "version": 2
   },
   "file_extension": ".py",
   "mimetype": "text/x-python",
   "name": "python",
   "nbconvert_exporter": "python",
   "pygments_lexer": "ipython2",
   "version": "2.7.10"
  }
 },
 "nbformat": 4,
 "nbformat_minor": 0
}
